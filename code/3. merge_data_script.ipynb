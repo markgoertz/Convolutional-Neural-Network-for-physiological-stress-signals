{
 "cells": [
  {
   "cell_type": "markdown",
   "metadata": {},
   "source": [
    "# Stress Signal Classification with Convolutional Neural Networks\n",
    "\n",
    "**Author:** [Mark Goertz](https://github.com/markgoertz)<br>\n",
    "**Date created:** 2024/04/05<br>\n",
    "**Last modified:** 2022/04/05<br>\n",
    "**Description:** Training a Convolutional model to classify stress signals produced by exposure to certain stimuli."
   ]
  },
  {
   "cell_type": "markdown",
   "metadata": {},
   "source": [
    "## Setup and Data Downloads\n",
    "First, lets install our dependencies:\n"
   ]
  },
  {
   "cell_type": "code",
   "execution_count": 37,
   "metadata": {},
   "outputs": [
    {
     "name": "stderr",
     "output_type": "stream",
     "text": [
      "ERROR: Could not find a version that satisfies the requirement os (from versions: none)\n",
      "ERROR: No matching distribution found for os\n"
     ]
    }
   ],
   "source": [
    "%pip install os -q\n",
    "%pip install pandas -q"
   ]
  },
  {
   "cell_type": "code",
   "execution_count": 38,
   "metadata": {},
   "outputs": [],
   "source": [
    "import pandas as pd\n",
    "import os"
   ]
  },
  {
   "cell_type": "code",
   "execution_count": 39,
   "metadata": {},
   "outputs": [],
   "source": [
    "SAVE_PATH = \"D:/Master of Applied IT/data/processed/WESAD\"\n",
    "\n",
    "if not os.path.exists(SAVE_PATH):\n",
    "    os.makedirs(SAVE_PATH)"
   ]
  },
  {
   "cell_type": "code",
   "execution_count": 43,
   "metadata": {},
   "outputs": [],
   "source": [
    "def read_signal(signal):\n",
    "    df = pd.read_csv(os.path.join(SAVE_PATH, f\"combined_{signal}.csv\"), dtype={'id': str})\n",
    "    return df"
   ]
  },
  {
   "cell_type": "code",
   "execution_count": 40,
   "metadata": {},
   "outputs": [
    {
     "name": "stdout",
     "output_type": "stream",
     "text": [
      "Loading signals...\n",
      "Completed phase: 1/3\n"
     ]
    }
   ],
   "source": [
    "acc, eda, hr, temp = None, None, None, None\n",
    "signals = ['acc', 'eda', 'hr', 'temp']\n",
    "\n",
    "print(\"Loading signals...\" )\n",
    "\n",
    "acc = read_signal('acc')\n",
    "eda = read_signal('eda')\n",
    "hr = read_signal('hr')\n",
    "temp = read_signal('temp')\n",
    "\n",
    "print(\"Completed phase: 1/3\")\n"
   ]
  },
  {
   "cell_type": "code",
   "execution_count": 44,
   "metadata": {},
   "outputs": [],
   "source": [
    "def merge(id):\n",
    "    print(f\"Processing {id}\")\n",
    "    columns = ['X', 'Y', 'Z', 'EDA', 'HR', 'TEMP', 'id', 'datetime']\n",
    "    df = pd.DataFrame(columns=columns)\n",
    "\n",
    "    acc_id = acc[acc['id'] == id]  # this was already downsampled in '2.combine_data_script.py'\n",
    "    eda_id = eda[eda['id'] == id].drop(['id'], axis=1)\n",
    "    hr_id = hr[hr['id'] == id].drop(['id'], axis=1)\n",
    "    temp_id = temp[temp['id'] == id].drop(['id'], axis=1)\n",
    "\n",
    "    df = acc_id.merge(eda_id, on='datetime', how='outer')\n",
    "    df = df.merge(temp_id, on='datetime', how='outer')\n",
    "    df = df.merge(hr_id, on='datetime', how='outer')\n",
    "\n",
    "    df.fillna(method='ffill', inplace=True)\n",
    "    df.fillna(method='bfill', inplace=True)\n",
    "\n",
    "    return df"
   ]
  },
  {
   "cell_type": "code",
   "execution_count": 41,
   "metadata": {},
   "outputs": [
    {
     "name": "stdout",
     "output_type": "stream",
     "text": [
      "Merging Data ...\n",
      "['S2' 'S3' 'S4' 'S5' 'S6' 'S7' 'S8' 'S9' 'S10' 'S11' 'S13' 'S14' 'S15'\n",
      " 'S16' 'S17']\n",
      "Processing S2\n",
      "Processing S3\n",
      "Processing S4\n"
     ]
    },
    {
     "name": "stderr",
     "output_type": "stream",
     "text": [
      "C:\\Users\\goert\\AppData\\Local\\Temp\\ipykernel_9704\\3718692913.py:14: FutureWarning: DataFrame.fillna with 'method' is deprecated and will raise in a future version. Use obj.ffill() or obj.bfill() instead.\n",
      "  df.fillna(method='ffill', inplace=True)\n",
      "C:\\Users\\goert\\AppData\\Local\\Temp\\ipykernel_9704\\3718692913.py:15: FutureWarning: DataFrame.fillna with 'method' is deprecated and will raise in a future version. Use obj.ffill() or obj.bfill() instead.\n",
      "  df.fillna(method='bfill', inplace=True)\n",
      "C:\\Users\\goert\\AppData\\Local\\Temp\\ipykernel_9704\\3718692913.py:14: FutureWarning: DataFrame.fillna with 'method' is deprecated and will raise in a future version. Use obj.ffill() or obj.bfill() instead.\n",
      "  df.fillna(method='ffill', inplace=True)\n",
      "C:\\Users\\goert\\AppData\\Local\\Temp\\ipykernel_9704\\3718692913.py:15: FutureWarning: DataFrame.fillna with 'method' is deprecated and will raise in a future version. Use obj.ffill() or obj.bfill() instead.\n",
      "  df.fillna(method='bfill', inplace=True)\n",
      "C:\\Users\\goert\\AppData\\Local\\Temp\\ipykernel_9704\\3718692913.py:14: FutureWarning: DataFrame.fillna with 'method' is deprecated and will raise in a future version. Use obj.ffill() or obj.bfill() instead.\n",
      "  df.fillna(method='ffill', inplace=True)\n",
      "C:\\Users\\goert\\AppData\\Local\\Temp\\ipykernel_9704\\3718692913.py:15: FutureWarning: DataFrame.fillna with 'method' is deprecated and will raise in a future version. Use obj.ffill() or obj.bfill() instead.\n",
      "  df.fillna(method='bfill', inplace=True)\n"
     ]
    },
    {
     "name": "stdout",
     "output_type": "stream",
     "text": [
      "Processing S5\n",
      "Processing S6\n",
      "Processing S7\n"
     ]
    },
    {
     "name": "stderr",
     "output_type": "stream",
     "text": [
      "C:\\Users\\goert\\AppData\\Local\\Temp\\ipykernel_9704\\3718692913.py:14: FutureWarning: DataFrame.fillna with 'method' is deprecated and will raise in a future version. Use obj.ffill() or obj.bfill() instead.\n",
      "  df.fillna(method='ffill', inplace=True)\n",
      "C:\\Users\\goert\\AppData\\Local\\Temp\\ipykernel_9704\\3718692913.py:15: FutureWarning: DataFrame.fillna with 'method' is deprecated and will raise in a future version. Use obj.ffill() or obj.bfill() instead.\n",
      "  df.fillna(method='bfill', inplace=True)\n",
      "C:\\Users\\goert\\AppData\\Local\\Temp\\ipykernel_9704\\3718692913.py:14: FutureWarning: DataFrame.fillna with 'method' is deprecated and will raise in a future version. Use obj.ffill() or obj.bfill() instead.\n",
      "  df.fillna(method='ffill', inplace=True)\n",
      "C:\\Users\\goert\\AppData\\Local\\Temp\\ipykernel_9704\\3718692913.py:15: FutureWarning: DataFrame.fillna with 'method' is deprecated and will raise in a future version. Use obj.ffill() or obj.bfill() instead.\n",
      "  df.fillna(method='bfill', inplace=True)\n",
      "C:\\Users\\goert\\AppData\\Local\\Temp\\ipykernel_9704\\3718692913.py:14: FutureWarning: DataFrame.fillna with 'method' is deprecated and will raise in a future version. Use obj.ffill() or obj.bfill() instead.\n",
      "  df.fillna(method='ffill', inplace=True)\n",
      "C:\\Users\\goert\\AppData\\Local\\Temp\\ipykernel_9704\\3718692913.py:15: FutureWarning: DataFrame.fillna with 'method' is deprecated and will raise in a future version. Use obj.ffill() or obj.bfill() instead.\n",
      "  df.fillna(method='bfill', inplace=True)\n"
     ]
    },
    {
     "name": "stdout",
     "output_type": "stream",
     "text": [
      "Processing S8\n",
      "Processing S9\n",
      "Processing S10\n"
     ]
    },
    {
     "name": "stderr",
     "output_type": "stream",
     "text": [
      "C:\\Users\\goert\\AppData\\Local\\Temp\\ipykernel_9704\\3718692913.py:14: FutureWarning: DataFrame.fillna with 'method' is deprecated and will raise in a future version. Use obj.ffill() or obj.bfill() instead.\n",
      "  df.fillna(method='ffill', inplace=True)\n",
      "C:\\Users\\goert\\AppData\\Local\\Temp\\ipykernel_9704\\3718692913.py:15: FutureWarning: DataFrame.fillna with 'method' is deprecated and will raise in a future version. Use obj.ffill() or obj.bfill() instead.\n",
      "  df.fillna(method='bfill', inplace=True)\n",
      "C:\\Users\\goert\\AppData\\Local\\Temp\\ipykernel_9704\\3718692913.py:14: FutureWarning: DataFrame.fillna with 'method' is deprecated and will raise in a future version. Use obj.ffill() or obj.bfill() instead.\n",
      "  df.fillna(method='ffill', inplace=True)\n",
      "C:\\Users\\goert\\AppData\\Local\\Temp\\ipykernel_9704\\3718692913.py:15: FutureWarning: DataFrame.fillna with 'method' is deprecated and will raise in a future version. Use obj.ffill() or obj.bfill() instead.\n",
      "  df.fillna(method='bfill', inplace=True)\n",
      "C:\\Users\\goert\\AppData\\Local\\Temp\\ipykernel_9704\\3718692913.py:14: FutureWarning: DataFrame.fillna with 'method' is deprecated and will raise in a future version. Use obj.ffill() or obj.bfill() instead.\n",
      "  df.fillna(method='ffill', inplace=True)\n",
      "C:\\Users\\goert\\AppData\\Local\\Temp\\ipykernel_9704\\3718692913.py:15: FutureWarning: DataFrame.fillna with 'method' is deprecated and will raise in a future version. Use obj.ffill() or obj.bfill() instead.\n",
      "  df.fillna(method='bfill', inplace=True)\n"
     ]
    },
    {
     "name": "stdout",
     "output_type": "stream",
     "text": [
      "Processing S11\n",
      "Processing S13\n",
      "Processing S14\n"
     ]
    },
    {
     "name": "stderr",
     "output_type": "stream",
     "text": [
      "C:\\Users\\goert\\AppData\\Local\\Temp\\ipykernel_9704\\3718692913.py:14: FutureWarning: DataFrame.fillna with 'method' is deprecated and will raise in a future version. Use obj.ffill() or obj.bfill() instead.\n",
      "  df.fillna(method='ffill', inplace=True)\n",
      "C:\\Users\\goert\\AppData\\Local\\Temp\\ipykernel_9704\\3718692913.py:15: FutureWarning: DataFrame.fillna with 'method' is deprecated and will raise in a future version. Use obj.ffill() or obj.bfill() instead.\n",
      "  df.fillna(method='bfill', inplace=True)\n",
      "C:\\Users\\goert\\AppData\\Local\\Temp\\ipykernel_9704\\3718692913.py:14: FutureWarning: DataFrame.fillna with 'method' is deprecated and will raise in a future version. Use obj.ffill() or obj.bfill() instead.\n",
      "  df.fillna(method='ffill', inplace=True)\n",
      "C:\\Users\\goert\\AppData\\Local\\Temp\\ipykernel_9704\\3718692913.py:15: FutureWarning: DataFrame.fillna with 'method' is deprecated and will raise in a future version. Use obj.ffill() or obj.bfill() instead.\n",
      "  df.fillna(method='bfill', inplace=True)\n",
      "C:\\Users\\goert\\AppData\\Local\\Temp\\ipykernel_9704\\3718692913.py:14: FutureWarning: DataFrame.fillna with 'method' is deprecated and will raise in a future version. Use obj.ffill() or obj.bfill() instead.\n",
      "  df.fillna(method='ffill', inplace=True)\n",
      "C:\\Users\\goert\\AppData\\Local\\Temp\\ipykernel_9704\\3718692913.py:15: FutureWarning: DataFrame.fillna with 'method' is deprecated and will raise in a future version. Use obj.ffill() or obj.bfill() instead.\n",
      "  df.fillna(method='bfill', inplace=True)\n"
     ]
    },
    {
     "name": "stdout",
     "output_type": "stream",
     "text": [
      "Processing S15\n",
      "Processing S16\n",
      "Processing S17\n"
     ]
    },
    {
     "name": "stderr",
     "output_type": "stream",
     "text": [
      "C:\\Users\\goert\\AppData\\Local\\Temp\\ipykernel_9704\\3718692913.py:14: FutureWarning: DataFrame.fillna with 'method' is deprecated and will raise in a future version. Use obj.ffill() or obj.bfill() instead.\n",
      "  df.fillna(method='ffill', inplace=True)\n",
      "C:\\Users\\goert\\AppData\\Local\\Temp\\ipykernel_9704\\3718692913.py:15: FutureWarning: DataFrame.fillna with 'method' is deprecated and will raise in a future version. Use obj.ffill() or obj.bfill() instead.\n",
      "  df.fillna(method='bfill', inplace=True)\n",
      "C:\\Users\\goert\\AppData\\Local\\Temp\\ipykernel_9704\\3718692913.py:14: FutureWarning: DataFrame.fillna with 'method' is deprecated and will raise in a future version. Use obj.ffill() or obj.bfill() instead.\n",
      "  df.fillna(method='ffill', inplace=True)\n",
      "C:\\Users\\goert\\AppData\\Local\\Temp\\ipykernel_9704\\3718692913.py:15: FutureWarning: DataFrame.fillna with 'method' is deprecated and will raise in a future version. Use obj.ffill() or obj.bfill() instead.\n",
      "  df.fillna(method='bfill', inplace=True)\n",
      "C:\\Users\\goert\\AppData\\Local\\Temp\\ipykernel_9704\\3718692913.py:14: FutureWarning: DataFrame.fillna with 'method' is deprecated and will raise in a future version. Use obj.ffill() or obj.bfill() instead.\n",
      "  df.fillna(method='ffill', inplace=True)\n",
      "C:\\Users\\goert\\AppData\\Local\\Temp\\ipykernel_9704\\3718692913.py:15: FutureWarning: DataFrame.fillna with 'method' is deprecated and will raise in a future version. Use obj.ffill() or obj.bfill() instead.\n",
      "  df.fillna(method='bfill', inplace=True)\n"
     ]
    },
    {
     "name": "stdout",
     "output_type": "stream",
     "text": [
      "Completed phase: 2/3\n"
     ]
    }
   ],
   "source": [
    "# Merge data\n",
    "print('Merging Data ...')\n",
    "\n",
    "subjects = eda['id'].unique()\n",
    "print(subjects)\n",
    "results = []\n",
    "\n",
    "\n",
    "for nurse in subjects:\n",
    "    results.append(merge(nurse))\n",
    "new_df = pd.concat(results, ignore_index=True)\n",
    "\n",
    "print(\"Completed phase: 2/3\")"
   ]
  },
  {
   "cell_type": "code",
   "execution_count": 42,
   "metadata": {},
   "outputs": [
    {
     "name": "stdout",
     "output_type": "stream",
     "text": [
      "Saving data ...\n",
      "Completed phase: 3/3\n"
     ]
    }
   ],
   "source": [
    "print(\"Saving data ...\")\n",
    "new_df.to_csv(os.path.join(SAVE_PATH, \"merged_data.csv\"), index=False)\n",
    "\n",
    "print(\"Completed phase: 3/3\")"
   ]
  }
 ],
 "metadata": {
  "kernelspec": {
   "display_name": "Python 3",
   "language": "python",
   "name": "python3"
  },
  "language_info": {
   "codemirror_mode": {
    "name": "ipython",
    "version": 3
   },
   "file_extension": ".py",
   "mimetype": "text/x-python",
   "name": "python",
   "nbconvert_exporter": "python",
   "pygments_lexer": "ipython3",
   "version": "3.12.1"
  }
 },
 "nbformat": 4,
 "nbformat_minor": 2
}
