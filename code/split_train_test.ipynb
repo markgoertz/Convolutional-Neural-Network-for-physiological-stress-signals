{
 "cells": [
  {
   "cell_type": "code",
   "execution_count": 199,
   "metadata": {},
   "outputs": [],
   "source": [
    "import numpy as np\n",
    "import pandas as pd\n",
    "from sklearn.preprocessing import MinMaxScaler\n",
    "from tensorflow.keras.preprocessing.sequence import pad_sequences\n",
    "from sklearn import model_selection\n",
    "from collections import Counter\n",
    "from imblearn.over_sampling import SMOTE\n",
    "import matplotlib.pyplot as plt\n",
    "import os\n"
   ]
  },
  {
   "cell_type": "code",
   "execution_count": 200,
   "metadata": {},
   "outputs": [],
   "source": [
    "MAIN_PATH = os.path.dirname(os.getcwd())\n",
    "DATA_PATH = MAIN_PATH + \"/data/result_df.csv\"\n",
    "\n",
    "MAX_SEQUENCE_LENGTH = 32\n",
    "METRIC = \"w_eda\""
   ]
  },
  {
   "cell_type": "markdown",
   "metadata": {},
   "source": [
    "## Methods for Plotting with Matplotlib\n",
    "\n",
    "In this section, we define methods to visualize data distributions using Matplotlib. These methods help in understanding the class distribution before and after applying SMOTE, as well as the distribution of datasets across training, validation, and test sets.\n",
    "\n",
    "### Plotting Class Distribution Before and After SMOTE\n",
    "\n",
    "The `plot_smote_class_distribution` function plots the class distribution of the training labels before and after applying SMOTE (Synthetic Minority Over-sampling Technique). This visualization helps in understanding how SMOTE balances the class distribution.\n",
    "\n",
    "\n",
    "### Plotting Dataset Distribution\n",
    "\n",
    "The `plot_dataset_distribution` function plots a bar chart showing the sizes of the train, validation, and test sets. This visualization helps in understanding the distribution of samples across different datasets.\n",
    "\n",
    "These methods provide visual insights into the data, which is crucial for understanding and improving the performance of machine learning models."
   ]
  },
  {
   "cell_type": "code",
   "execution_count": 201,
   "metadata": {},
   "outputs": [],
   "source": [
    "def plot_smote_class_distribution(y_train, y_train_resampled):\n",
    "    \"\"\"\n",
    "    Plots the class distribution before and after applying SMOTE.\n",
    "\n",
    "    Parameters:\n",
    "    - y_train: Original training labels.\n",
    "    - y_train_resampled: Training labels after applying SMOTE.\n",
    "    \"\"\"\n",
    "    # Class distribution before SMOTE\n",
    "    class_distribution_before = Counter(y_train)\n",
    "    # Class distribution after SMOTE\n",
    "    class_distribution_after = Counter(y_train_resampled)\n",
    "\n",
    "    # Define labels\n",
    "    labels = ['No Stress', 'Stress']\n",
    "\n",
    "    # Plotting\n",
    "    plt.figure(figsize=(10, 5))\n",
    "\n",
    "    # Plot before SMOTE\n",
    "    plt.subplot(1, 2, 1)\n",
    "    plt.bar(labels, class_distribution_before.values(), color='blue')\n",
    "    plt.title('Class Distribution Before SMOTE')\n",
    "    plt.xlabel('Class')\n",
    "    plt.ylabel('Count')\n",
    "    plt.xticks([0, 1], labels)\n",
    "\n",
    "    # Plot after SMOTE\n",
    "    plt.subplot(1, 2, 2)\n",
    "    plt.bar(labels, class_distribution_after.values(), color='green')\n",
    "    plt.title('Class Distribution After SMOTE')\n",
    "    plt.xlabel('Class')\n",
    "    plt.ylabel('Count')\n",
    "    plt.xticks([0, 1], labels)\n",
    "\n",
    "    plt.tight_layout()\n",
    "    plt.savefig(\"../images/preprocessing/SMOTE.png\")\n",
    "    plt.show()\n",
    "    "
   ]
  },
  {
   "cell_type": "code",
   "execution_count": 202,
   "metadata": {},
   "outputs": [],
   "source": [
    "\n",
    "def plot_dataset_distribution(x_train_resampled, y_train_resampled, x_val_resampled, y_val_resampled, x_test_subject_1, y_test_subject_1, x_test_subject_2, y_test_subject_2):\n",
    "    \"\"\"\n",
    "    Plots a bar chart showing the sizes of the train, validation, and test sets.\n",
    "\n",
    "    Parameters:\n",
    "    - x_train, y_train: Training data and labels.\n",
    "    - x_test_subject_1, y_test_subject_1: Validation data and labels for subject 1.\n",
    "    - x_test_subject_2, y_test_subject_2: Validation data and labels for subject 2.\n",
    "    - x_val, y_val: Test data and labels.\n",
    "    \"\"\"\n",
    "    dataset_names = ['Train', 'Test', 'Validation S16', 'Validation S17']\n",
    "    x_lengths = [len(x_train_resampled), len(x_val_resampled), len(x_test_subject_1), len(x_test_subject_2)]\n",
    "    y_lengths = [len(y_train_resampled), len(y_val_resampled), len(y_test_subject_1), len(y_test_subject_2)]\n",
    "    \n",
    "    # Plotting the bar plot\n",
    "    plt.figure(figsize=(10, 6))\n",
    "    \n",
    "    bar_width = 0.35  # Width of the bars\n",
    "    \n",
    "    index = np.arange(len(dataset_names))\n",
    "    \n",
    "    plt.bar(index, x_lengths, bar_width, color='b', alpha=0.6, label='X (Features)')\n",
    "    plt.bar(index + bar_width, y_lengths, bar_width, color='r', alpha=0.6, label='Y (Labels)')\n",
    "    \n",
    "    plt.xlabel('Dataset')\n",
    "    plt.ylabel('Number of Samples')\n",
    "    plt.title('Dataset Distribution')\n",
    "    plt.xticks(index + bar_width / 2, dataset_names)\n",
    "    plt.legend()\n",
    "    plt.savefig(\"../images/preprocessing/dataset_distribution.png\")\n",
    "    plt.show()"
   ]
  },
  {
   "cell_type": "code",
   "execution_count": 203,
   "metadata": {},
   "outputs": [],
   "source": [
    "# Function to load data from CSV or other formats\n",
    "def load_data(file_path, file_type):\n",
    "    if file_type == '.csv':\n",
    "        return pd.read_csv(file_path)\n",
    "    elif file_type == 'json':\n",
    "        raise ValueError(\"Not implemented yet!\")\n",
    "    else:\n",
    "        raise ValueError(\"Unsupported file type!\")"
   ]
  },
  {
   "cell_type": "code",
   "execution_count": 204,
   "metadata": {},
   "outputs": [],
   "source": [
    "def filter_subjects(df):\n",
    "    test_df = df[(df['ID'] == 'S16') | (df['ID'] == 'S17')]\n",
    "\n",
    "    # Drop the filtered rows from the original DataFrame\n",
    "    sequences_df = df.drop(test_df.index)\n",
    "\n",
    "    # Reset index for both DataFrames\n",
    "    test_df.reset_index(drop=True, inplace=True)\n",
    "    sequences_df.reset_index(drop=True, inplace=True)\n",
    "\n",
    "    test_subject_1 = test_df[test_df['ID'] == 'S16']\n",
    "    test_subject_2 = test_df[test_df['ID'] == 'S17']\n",
    "\n",
    "    return test_subject_1, test_subject_2, sequences_df\n"
   ]
  },
  {
   "cell_type": "code",
   "execution_count": 205,
   "metadata": {},
   "outputs": [],
   "source": [
    "def scale_and_flatten(series_list):\n",
    "    try:\n",
    "        scaler = MinMaxScaler()\n",
    "        return [scaler.fit_transform(np.asarray(series).reshape(-1, 1)).flatten() for series in series_list]\n",
    "    except Exception as e:\n",
    "        raise ValueError(f\"Failed to scale and flatten series: {e}\")\n"
   ]
  },
  {
   "cell_type": "code",
   "execution_count": 206,
   "metadata": {},
   "outputs": [],
   "source": [
    "def process_metrics(df, t_df1, t_df2):\n",
    "    try:\n",
    "        eda_array_list = scale_and_flatten(df[METRIC].apply(eval))\n",
    "        test_subject1_array_list = scale_and_flatten(t_df1[METRIC].apply(eval))\n",
    "        test_subject2_array_list = scale_and_flatten(t_df2[METRIC].apply(eval))\n",
    "\n",
    "        # Print counts\n",
    "        print(f\"EDA list Count: {len(eda_array_list)}\\n Test Subject 1: {len(test_subject1_array_list)} \\n Test Subject 2: {len(test_subject2_array_list)} \")\n",
    "        \n",
    "        return eda_array_list, test_subject1_array_list, test_subject2_array_list\n",
    "    except Exception as e:\n",
    "        raise ValueError(f\"Failed to process metrics: {e}\")\n"
   ]
  },
  {
   "cell_type": "code",
   "execution_count": 207,
   "metadata": {},
   "outputs": [],
   "source": [
    "def pad_and_reshape(series_list, maxlen):\n",
    "    try:\n",
    "        padded = pad_sequences(series_list, maxlen=maxlen, dtype='float32', padding='post', truncating='post')\n",
    "        reshaped = padded.reshape(-1, maxlen, 1)\n",
    "        return reshaped\n",
    "    except Exception as e:\n",
    "        raise ValueError(f\"Failed to pad and reshape series: {e}\")\n"
   ]
  },
  {
   "cell_type": "code",
   "execution_count": 208,
   "metadata": {},
   "outputs": [],
   "source": [
    "def apply_smote(x_train, y_train, x_val, y_val):\n",
    "    try:\n",
    "        x_train_reshaped = x_train.reshape(x_train.shape[0], -1)\n",
    "        x_val_reshaped = x_val.reshape(x_val.shape[0], -1)\n",
    "\n",
    "        smote = SMOTE(random_state=42)\n",
    "\n",
    "        # Check the class distribution before SMOTE\n",
    "        print(\"Class distribution before SMOTE:\", Counter(y_train))\n",
    "\n",
    "        x_train_resampled, y_train_resampled = smote.fit_resample(x_train_reshaped, y_train)\n",
    "        x_val_resampled, y_val_resampled = smote.fit_resample(x_val_reshaped, y_val)\n",
    "\n",
    "        x_train_resampled = x_train_resampled.reshape(-1, x_train.shape[1], x_train.shape[2])\n",
    "        x_val_resampled = x_val_resampled.reshape(-1, x_train.shape[1], x_train.shape[2])\n",
    "\n",
    "        # Check the class distribution after SMOTE\n",
    "        class_distribution_after = Counter(y_train_resampled)\n",
    "        print(\"Class distribution after SMOTE:\", {0: class_distribution_after[0], 1: class_distribution_after[1]})\n",
    "\n",
    "        # Call the plot function\n",
    "        plot_smote_class_distribution(y_train, y_train_resampled)\n",
    "\n",
    "        return x_train_resampled, y_train_resampled, x_val_resampled, y_val_resampled\n",
    "    except Exception as e:\n",
    "        raise RuntimeError(f\"Failed to apply SMOTE: {e}\")\n"
   ]
  },
  {
   "cell_type": "code",
   "execution_count": 209,
   "metadata": {},
   "outputs": [],
   "source": [
    "def split_train_and_test (series_list, labels_array):\n",
    "    # Splitting data into training and validation sets (70% train, 30% validation)\n",
    "    x_train, x_val, y_train, y_val = model_selection.train_test_split(\n",
    "        series_list, labels_array, test_size=0.30, random_state=42, shuffle=True\n",
    "    )\n",
    "\n",
    "    return x_train, x_val, y_train, y_val"
   ]
  },
  {
   "cell_type": "code",
   "execution_count": 210,
   "metadata": {},
   "outputs": [],
   "source": [
    "def extract_labels(df, t_df1, t_df2):\n",
    "    try:\n",
    "        labels_array = np.array(df['downsampled_label'])\n",
    "        validation_labels_array_subject_1 = np.array(t_df1['downsampled_label'])\n",
    "        validation_labels_array_subject_2 = np.array(t_df2['downsampled_label'])\n",
    "        \n",
    "        print(\n",
    "            f\"Labels list Count Subject 1: {len(validation_labels_array_subject_1)}\\n\"\n",
    "            f\"Labels list Count Subject 2: {len(validation_labels_array_subject_2)}\"\n",
    "        )\n",
    "        \n",
    "        \n",
    "        return labels_array, validation_labels_array_subject_1, validation_labels_array_subject_2\n",
    "    except Exception as e:\n",
    "        raise ValueError(f\"Failed to extract labels: {e}\")\n"
   ]
  },
  {
   "cell_type": "code",
   "execution_count": 211,
   "metadata": {},
   "outputs": [],
   "source": [
    "def pad_series(eda_array_list, test_subject1_array_list, test_subject2_array_list):\n",
    "    if not eda_array_list or not test_subject1_array_list or not test_subject2_array_list:\n",
    "        raise ValueError(\"Input lists must not be empty\")\n",
    "    \n",
    "    series_padded = pad_and_reshape(eda_array_list, MAX_SEQUENCE_LENGTH)\n",
    "    x_test_subject_1_padded = pad_and_reshape(test_subject1_array_list, MAX_SEQUENCE_LENGTH)\n",
    "    x_test_subject_2_padded = pad_and_reshape(test_subject2_array_list, MAX_SEQUENCE_LENGTH)\n",
    "    return series_padded, x_test_subject_1_padded, x_test_subject_2_padded\n"
   ]
  },
  {
   "cell_type": "code",
   "execution_count": 212,
   "metadata": {},
   "outputs": [],
   "source": [
    "def convert_labels(y_train, y_val, validation_labels_array_subject_1, validation_labels_array_subject_2):\n",
    "    try:\n",
    "        y_train = np.asarray(y_train).astype(np.float32)\n",
    "        y_val = np.asarray(y_val).astype(np.float32)\n",
    "        y_test_subject_1 = np.asarray(validation_labels_array_subject_1).astype(np.float32)\n",
    "        y_test_subject_2 = np.asarray(validation_labels_array_subject_2).astype(np.float32)\n",
    "        return y_train, y_val, y_test_subject_1, y_test_subject_2\n",
    "    except Exception as e:\n",
    "        raise ValueError(f\"Failed to convert labels: {e}\")\n"
   ]
  },
  {
   "cell_type": "code",
   "execution_count": 213,
   "metadata": {},
   "outputs": [],
   "source": [
    "def save_datasets(x_train, y_train, x_val, y_val, x_test_1, y_test_1, x_test_2, y_test_2):\n",
    "    datasets = {\n",
    "        'x_train': x_train,\n",
    "        'y_train': y_train,\n",
    "        'x_val': x_val,\n",
    "        'y_val': y_val,\n",
    "        'x_test_1': x_test_1,\n",
    "        'y_test_1': y_test_1,\n",
    "        'x_test_2': x_test_2,\n",
    "        'y_test_2': y_test_2\n",
    "    }\n",
    "    \n",
    "    for name, data in datasets.items():\n",
    "        np.save(os.path.join(MAIN_PATH, 'data', 'numpy', f'{name}.npy'), data)"
   ]
  },
  {
   "cell_type": "code",
   "execution_count": 214,
   "metadata": {},
   "outputs": [],
   "source": [
    "def main():\n",
    "    df = load_data(DATA_PATH,\".csv\")\n",
    "\n",
    "    t_df1, t_df2, df = filter_subjects(df)\n",
    "\n",
    "    eda_array_list, test_subject1_array_list, test_subject2_array_list = process_metrics(df, t_df1, t_df2)\n",
    "\n",
    "    # Extract labels and convert to numpy arrays\n",
    "    labels_array, validation_labels_array_subject_1, validation_labels_array_subject_2 = extract_labels(df, t_df1, t_df2)\n",
    "\n",
    "    # Pad and Reshape the series\n",
    "    series_padded = pad_and_reshape(eda_array_list, MAX_SEQUENCE_LENGTH)\n",
    "    x_test_subject_1_padded = pad_and_reshape(test_subject1_array_list, MAX_SEQUENCE_LENGTH)\n",
    "    x_test_subject_2_padded = pad_and_reshape(test_subject2_array_list, MAX_SEQUENCE_LENGTH)\n",
    "\n",
    "    # Train-test split\n",
    "    x_train, x_val, y_train, y_val = split_train_and_test(series_padded, labels_array)\n",
    "\n",
    "    # Converting labels to numpy arrays\n",
    "    y_train = np.asarray(y_train).astype(np.float32)\n",
    "    y_val = np.asarray(y_val).astype(np.float32)\n",
    "    y_test_subject_1 = np.asarray(validation_labels_array_subject_1).astype(np.float32)\n",
    "    y_test_subject_2 = np.asarray(validation_labels_array_subject_2).astype(np.float32)\n",
    "\n",
    "    # Apply SMOTE\n",
    "    x_train_resampled, y_train_resampled, x_val_resampled, y_val_resampled= apply_smote(x_train, y_train, x_val, y_val) \n",
    "\n",
    "    #Evaluate dataset distribution\n",
    "    plot_dataset_distribution(x_train_resampled, y_train_resampled, x_val_resampled, y_val_resampled, x_test_subject_1_padded, y_test_subject_1, x_test_subject_2_padded, y_test_subject_2)\n",
    "\n",
    "    # Save datasets\n",
    "    save_datasets(x_train_resampled, y_train_resampled, x_val_resampled, y_val_resampled, x_test_subject_1_padded, y_test_subject_1, x_test_subject_2_padded, y_test_subject_2)\n",
    "    \n",
    "    return x_train_resampled, y_train_resampled, x_val_resampled, y_val_resampled, x_test_subject_1_padded, y_test_subject_1, x_test_subject_2_padded, y_test_subject_2\n"
   ]
  },
  {
   "cell_type": "code",
   "execution_count": 215,
   "metadata": {},
   "outputs": [
    {
     "name": "stdout",
     "output_type": "stream",
     "text": [
      "EDA list Count: 9420\n",
      " Test Subject 1: 704 \n",
      " Test Subject 2: 740 \n",
      "Labels list Count Subject 1: 704\n",
      "Labels list Count Subject 2: 740\n",
      "Class distribution before SMOTE: Counter({0.0: 5856, 1.0: 738})\n",
      "Class distribution after SMOTE: {0: 5856, 1: 5856}\n"
     ]
    },
    {
     "data": {
      "image/png": "[encoded data removed]",
      "text/plain": [
       "<Figure size 1000x500 with 2 Axes>"
      ]
     },
     "metadata": {},
     "output_type": "display_data"
    },
    {
     "data": {
      "image/png": "[encoded data removed]",
      "text/plain": [
       "<Figure size 1000x600 with 1 Axes>"
      ]
     },
     "metadata": {},
     "output_type": "display_data"
    }
   ],
   "source": [
    "x_train, y_train, x_val, y_val, x_test_1, y_test_1, x_test_2, y_test_2 = main()"
   ]
  }
 ],
 "metadata": {
  "kernelspec": {
   "display_name": "tf",
   "language": "python",
   "name": "python3"
  },
  "language_info": {
   "codemirror_mode": {
    "name": "ipython",
    "version": 3
   },
   "file_extension": ".py",
   "mimetype": "text/x-python",
   "name": "python",
   "nbconvert_exporter": "python",
   "pygments_lexer": "ipython3",
   "version": "3.9.19"
  }
 },
 "nbformat": 4,
 "nbformat_minor": 2
}
