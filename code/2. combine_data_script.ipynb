{
 "cells": [
  {
   "cell_type": "markdown",
   "metadata": {},
   "source": [
    "# Stress Signal Classification with Convolutional Neural Networks\n",
    "\n",
    "**Author:** [Mark Goertz](https://github.com/markgoertz)<br>\n",
    "**Date created:** 2024/04/04<br>\n",
    "**Last modified:** 2022/04/05<br>\n",
    "**Description:** Training a Convolutional model to classify stress signals produced by exposure to certain stimuli."
   ]
  },
  {
   "cell_type": "markdown",
   "metadata": {},
   "source": [
    "## Setup and Data Downloads\n",
    "First, lets install our dependencies:"
   ]
  },
  {
   "cell_type": "code",
   "execution_count": 3,
   "metadata": {},
   "outputs": [
    {
     "name": "stdout",
     "output_type": "stream",
     "text": [
      "Note: you may need to restart the kernel to use updated packages.\n"
     ]
    },
    {
     "name": "stderr",
     "output_type": "stream",
     "text": [
      "ERROR: Could not find a version that satisfies the requirement os (from versions: none)\n",
      "ERROR: No matching distribution found for os\n"
     ]
    },
    {
     "name": "stdout",
     "output_type": "stream",
     "text": [
      "Note: you may need to restart the kernel to use updated packages.\n",
      "Note: you may need to restart the kernel to use updated packages.\n"
     ]
    }
   ],
   "source": [
    "%pip install os -q\n",
    "%pip install pandas -q\n",
    "%pip install matplotlib -q"
   ]
  },
  {
   "cell_type": "code",
   "execution_count": 4,
   "metadata": {},
   "outputs": [
    {
     "name": "stderr",
     "output_type": "stream",
     "text": [
      "C:\\Users\\goert\\AppData\\Local\\Temp\\ipykernel_14964\\224448894.py:2: DeprecationWarning: \n",
      "Pyarrow will become a required dependency of pandas in the next major release of pandas (pandas 3.0),\n",
      "(to allow more performant data types, such as the Arrow string type, and better interoperability with other libraries)\n",
      "but was not found to be installed on your system.\n",
      "If this would cause problems for you,\n",
      "please provide us feedback at https://github.com/pandas-dev/pandas/issues/54466\n",
      "        \n",
      "  import pandas as pd\n"
     ]
    }
   ],
   "source": [
    "import os\n",
    "import pandas as pd\n",
    "import matplotlib.pyplot as plt\n",
    "import datetime"
   ]
  },
  {
   "cell_type": "code",
   "execution_count": 5,
   "metadata": {},
   "outputs": [],
   "source": [
    "MAIN_PATH = 'D:/Master of Applied IT' \n",
    "DATA_SUBPATH = '/data'\n",
    "UNPROCESSED_PATH = MAIN_PATH + DATA_SUBPATH + '/unprocessed/WESAD'\n",
    "PROCESSED_PATH = MAIN_PATH + DATA_SUBPATH + '/processed/WESAD'"
   ]
  },
  {
   "cell_type": "markdown",
   "metadata": {},
   "source": [
    "This Python script is part of a data preprocessing pipeline, for a machine learning task. The script is designed to handle data from multiple folders and multiple files within each folder.\n",
    "\n",
    "The `minfolder` and `maxfolder` variables define the range of folders to be processed. The `folders` list generates a list of folder names in the format 'S2', 'S3', ..., 'S17'. This assumes that the folders are named in this specific format of the `WESAD` dataset.\n",
    "\n",
    "The `final_columns` dictionary defines the final column names for each type of data file (`'ACC'`, `'EDA'`, `'HR'`, `'TEMP'`). Each key-value pair in the dictionary corresponds to a specific type of data file and its associated columns.\n",
    "\n",
    "The `names` dictionary defines the column names for each type of data file in the `raw data`. This is used to map the raw data columns to the final column names defined in final_columns.\n",
    "\n",
    "The `desired_signals` list contains the names of the data files to be processed. This list is used to filter out any `unwanted data files` in the folders.\n",
    "\n",
    "Finally, four empty pandas DataFrames (`acc`, `eda`, `hr`, `temp`) are created with the column names defined in `final_columns`. These DataFrames will be used to store the processed data from each type of data file.\n",
    "\n",
    "The class declaration for range is a built-in Python class that represents an immutable sequence of numbers and is commonly used for looping a specific number of times in for loops. It's not directly used in the provided code, but it's used implicitly in the list comprehension when generating the folders list."
   ]
  },
  {
   "cell_type": "code",
   "execution_count": 6,
   "metadata": {},
   "outputs": [],
   "source": [
    "minfolder = 2\n",
    "maxfolder = 18\n",
    "folders = [f'S{i}' for i in range(minfolder, maxfolder)]\n",
    "final_columns = {\n",
    "    'ACC': ['id','X', 'Y', 'datetime'],\n",
    "    'EDA': ['id','EDA','datetime'],\n",
    "    'HR': ['id','HR','datetime'],\n",
    "    'TEMP': ['id','TEMP','datetime']\n",
    "}\n",
    "\n",
    "names = {\n",
    "    'ACC.csv': ['X', 'Y', 'Z'],\n",
    "    'EDA.csv': ['EDA'],\n",
    "    'HR.csv': ['HR'],\n",
    "    'TEMP.csv': ['TEMP']\n",
    "}\n",
    "\n",
    "desired_signals = ['ACC.csv', 'EDA.csv', 'HR.csv', 'TEMP.csv']\n",
    "acc = pd.DataFrame(columns=final_columns['ACC'])\n",
    "eda = pd.DataFrame(columns=final_columns['EDA'])\n",
    "hr = pd.DataFrame(columns=final_columns['HR'])\n",
    "temp = pd.DataFrame(columns=final_columns['TEMP'])"
   ]
  },
  {
   "cell_type": "markdown",
   "metadata": {},
   "source": [
    "The provided Python function `process_df(df, file)` is designed to process a DataFrame `df` and a file name `file`. The function performs several operations to transform the input DataFrame and returns the processed DataFrame.\n",
    "\n",
    "First, it extracts the `start_timestamp` and `sample_rate` from the first and second rows of the DataFrame, respectively. The `start_timestamp` is to be the first value in the DataFrame, and the `sample_rate` is the first value in the second row. These values are accessed using the iloc indexer of the DataFrame, which allows selection by position.\n",
    "\n",
    "Next, it creates a new DataFrame called: `new_df` from the input DataFrame, skipping the first two rows. This is done by slicing the DataFrame with `df.iloc[2:]` to exclude the first two rows, and then creating a new DataFrame with the same column names as the original DataFrame.\n",
    "\n",
    "The function then adds two new columns to `new_df`: 'id' and 'datetime'. The 'id' column is created by extracting the last two characters from the file name. The 'datetime' column is created by adding a time delta to the start_timestamp for each row in the DataFrame. The time delta is calculated as the row index divided by the sample_rate, which assumes that the data is sampled at regular intervals."
   ]
  },
  {
   "cell_type": "code",
   "execution_count": 7,
   "metadata": {},
   "outputs": [],
   "source": [
    "def process_df(df, file):\n",
    "    # Get the start timestamp and sample rate\n",
    "    start_timestamp = df.iloc[0, 0]\n",
    "    sample_rate = df.iloc[1, 0]\n",
    "\n",
    "    # Convert the Unix timestamp to a datetime object\n",
    "    unix_timestamp = int(float((start_timestamp)))\n",
    "    utc_datetime = datetime.datetime.utcfromtimestamp(unix_timestamp)\n",
    "    \n",
    "    # Format the datetime object as a string\n",
    "    formatted_time = utc_datetime.strftime('%Y-%m-%d %H:%M:%S UTC')\n",
    "    print('Initial time', formatted_time)\n",
    "\n",
    "    # Sample rate\n",
    "    sample_rate = int(float(sample_rate))\n",
    "    print('Sample rate',sample_rate,'Hz')\n",
    "\n",
    "    # Interval in milliseconds (as string)\n",
    "    interval_ms = str(1000/sample_rate) + 'ms'\n",
    "    print('Interval',interval_ms)\n",
    "\n",
    "    new_df = pd.DataFrame(df.iloc[2:].values, columns=df.columns)  # skip first two rows\n",
    "    new_df['id'] = file[-3:]\n",
    "    new_df['datetime'] = [(start_timestamp + i/sample_rate) for i in range(len(new_df))]\n",
    "    \n",
    "    nr_rows, nr_columns = new_df.shape\n",
    "    new_df['Time'] = pd.date_range(start=utc_datetime, periods=nr_rows, freq=interval_ms)\n",
    "\n",
    "    \n",
    "    if sample_rate > 4:\n",
    "        ds_factor = int(sample_rate / 4)\n",
    "        new_df = new_df.iloc[::ds_factor, :]\n",
    "    return new_df    "
   ]
  },
  {
   "cell_type": "markdown",
   "metadata": {},
   "source": [
    "## Read data from `unprocessed folder`\n",
    "\n",
    "We use the Pandas library to read the `unprocessed folder` to extract each measurement such as: `ACC`, `EDA`, `HR`, `TEMP` and process it to `processed` folder to use it in a later analysis.\n"
   ]
  },
  {
   "cell_type": "code",
   "execution_count": 8,
   "metadata": {},
   "outputs": [
    {
     "name": "stdout",
     "output_type": "stream",
     "text": [
      "Currently processing folder: S2\n",
      "Initial time 2017-05-22 07:15:25 UTC\n",
      "Sample rate 32 Hz\n",
      "Interval 31.25ms\n"
     ]
    },
    {
     "name": "stderr",
     "output_type": "stream",
     "text": [
      "C:\\Users\\goert\\AppData\\Local\\Temp\\ipykernel_14964\\446856757.py:8: DeprecationWarning: datetime.datetime.utcfromtimestamp() is deprecated and scheduled for removal in a future version. Use timezone-aware objects to represent datetimes in UTC: datetime.datetime.fromtimestamp(timestamp, datetime.UTC).\n",
      "  utc_datetime = datetime.datetime.utcfromtimestamp(unix_timestamp)\n",
      "C:\\Users\\goert\\AppData\\Local\\Temp\\ipykernel_14964\\278731602.py:10: FutureWarning: The behavior of DataFrame concatenation with empty or all-NA entries is deprecated. In a future version, this will no longer exclude empty or all-NA columns when determining the result dtypes. To retain the old behavior, exclude the relevant entries before the concat operation.\n",
      "  acc = pd.concat([acc, process_df(df, folder)])\n",
      "C:\\Users\\goert\\AppData\\Local\\Temp\\ipykernel_14964\\446856757.py:8: DeprecationWarning: datetime.datetime.utcfromtimestamp() is deprecated and scheduled for removal in a future version. Use timezone-aware objects to represent datetimes in UTC: datetime.datetime.fromtimestamp(timestamp, datetime.UTC).\n",
      "  utc_datetime = datetime.datetime.utcfromtimestamp(unix_timestamp)\n",
      "C:\\Users\\goert\\AppData\\Local\\Temp\\ipykernel_14964\\278731602.py:12: FutureWarning: The behavior of DataFrame concatenation with empty or all-NA entries is deprecated. In a future version, this will no longer exclude empty or all-NA columns when determining the result dtypes. To retain the old behavior, exclude the relevant entries before the concat operation.\n",
      "  eda = pd.concat([eda, process_df(df, folder)])\n",
      "C:\\Users\\goert\\AppData\\Local\\Temp\\ipykernel_14964\\446856757.py:8: DeprecationWarning: datetime.datetime.utcfromtimestamp() is deprecated and scheduled for removal in a future version. Use timezone-aware objects to represent datetimes in UTC: datetime.datetime.fromtimestamp(timestamp, datetime.UTC).\n",
      "  utc_datetime = datetime.datetime.utcfromtimestamp(unix_timestamp)\n",
      "C:\\Users\\goert\\AppData\\Local\\Temp\\ipykernel_14964\\278731602.py:14: FutureWarning: The behavior of DataFrame concatenation with empty or all-NA entries is deprecated. In a future version, this will no longer exclude empty or all-NA columns when determining the result dtypes. To retain the old behavior, exclude the relevant entries before the concat operation.\n",
      "  hr = pd.concat([hr, process_df(df, folder)])\n",
      "C:\\Users\\goert\\AppData\\Local\\Temp\\ipykernel_14964\\446856757.py:8: DeprecationWarning: datetime.datetime.utcfromtimestamp() is deprecated and scheduled for removal in a future version. Use timezone-aware objects to represent datetimes in UTC: datetime.datetime.fromtimestamp(timestamp, datetime.UTC).\n",
      "  utc_datetime = datetime.datetime.utcfromtimestamp(unix_timestamp)\n"
     ]
    },
    {
     "name": "stdout",
     "output_type": "stream",
     "text": [
      "Initial time 2017-05-22 07:15:25 UTC\n",
      "Sample rate 4 Hz\n",
      "Interval 250.0ms\n",
      "Initial time 2017-05-22 07:15:35 UTC\n",
      "Sample rate 1 Hz\n",
      "Interval 1000.0ms\n",
      "Initial time 2017-05-22 07:15:25 UTC\n",
      "Sample rate 4 Hz\n",
      "Interval 250.0ms\n",
      "Currently processing folder: S3\n",
      "Initial time 2017-05-24 11:08:48 UTC\n",
      "Sample rate 32 Hz\n",
      "Interval 31.25ms\n"
     ]
    },
    {
     "name": "stderr",
     "output_type": "stream",
     "text": [
      "C:\\Users\\goert\\AppData\\Local\\Temp\\ipykernel_14964\\278731602.py:16: FutureWarning: The behavior of DataFrame concatenation with empty or all-NA entries is deprecated. In a future version, this will no longer exclude empty or all-NA columns when determining the result dtypes. To retain the old behavior, exclude the relevant entries before the concat operation.\n",
      "  temp = pd.concat([temp, process_df(df, folder)])\n",
      "C:\\Users\\goert\\AppData\\Local\\Temp\\ipykernel_14964\\446856757.py:8: DeprecationWarning: datetime.datetime.utcfromtimestamp() is deprecated and scheduled for removal in a future version. Use timezone-aware objects to represent datetimes in UTC: datetime.datetime.fromtimestamp(timestamp, datetime.UTC).\n",
      "  utc_datetime = datetime.datetime.utcfromtimestamp(unix_timestamp)\n",
      "C:\\Users\\goert\\AppData\\Local\\Temp\\ipykernel_14964\\446856757.py:8: DeprecationWarning: datetime.datetime.utcfromtimestamp() is deprecated and scheduled for removal in a future version. Use timezone-aware objects to represent datetimes in UTC: datetime.datetime.fromtimestamp(timestamp, datetime.UTC).\n",
      "  utc_datetime = datetime.datetime.utcfromtimestamp(unix_timestamp)\n",
      "C:\\Users\\goert\\AppData\\Local\\Temp\\ipykernel_14964\\446856757.py:8: DeprecationWarning: datetime.datetime.utcfromtimestamp() is deprecated and scheduled for removal in a future version. Use timezone-aware objects to represent datetimes in UTC: datetime.datetime.fromtimestamp(timestamp, datetime.UTC).\n",
      "  utc_datetime = datetime.datetime.utcfromtimestamp(unix_timestamp)\n",
      "C:\\Users\\goert\\AppData\\Local\\Temp\\ipykernel_14964\\446856757.py:8: DeprecationWarning: datetime.datetime.utcfromtimestamp() is deprecated and scheduled for removal in a future version. Use timezone-aware objects to represent datetimes in UTC: datetime.datetime.fromtimestamp(timestamp, datetime.UTC).\n",
      "  utc_datetime = datetime.datetime.utcfromtimestamp(unix_timestamp)\n",
      "C:\\Users\\goert\\AppData\\Local\\Temp\\ipykernel_14964\\446856757.py:8: DeprecationWarning: datetime.datetime.utcfromtimestamp() is deprecated and scheduled for removal in a future version. Use timezone-aware objects to represent datetimes in UTC: datetime.datetime.fromtimestamp(timestamp, datetime.UTC).\n",
      "  utc_datetime = datetime.datetime.utcfromtimestamp(unix_timestamp)\n"
     ]
    },
    {
     "name": "stdout",
     "output_type": "stream",
     "text": [
      "Initial time 2017-05-24 11:08:48 UTC\n",
      "Sample rate 4 Hz\n",
      "Interval 250.0ms\n",
      "Initial time 2017-05-24 11:08:58 UTC\n",
      "Sample rate 1 Hz\n",
      "Interval 1000.0ms\n",
      "Initial time 2017-05-24 11:08:48 UTC\n",
      "Sample rate 4 Hz\n",
      "Interval 250.0ms\n",
      "Currently processing folder: S4\n",
      "Initial time 2017-06-13 08:33:40 UTC\n",
      "Sample rate 32 Hz\n",
      "Interval 31.25ms\n"
     ]
    },
    {
     "name": "stderr",
     "output_type": "stream",
     "text": [
      "C:\\Users\\goert\\AppData\\Local\\Temp\\ipykernel_14964\\446856757.py:8: DeprecationWarning: datetime.datetime.utcfromtimestamp() is deprecated and scheduled for removal in a future version. Use timezone-aware objects to represent datetimes in UTC: datetime.datetime.fromtimestamp(timestamp, datetime.UTC).\n",
      "  utc_datetime = datetime.datetime.utcfromtimestamp(unix_timestamp)\n",
      "C:\\Users\\goert\\AppData\\Local\\Temp\\ipykernel_14964\\446856757.py:8: DeprecationWarning: datetime.datetime.utcfromtimestamp() is deprecated and scheduled for removal in a future version. Use timezone-aware objects to represent datetimes in UTC: datetime.datetime.fromtimestamp(timestamp, datetime.UTC).\n",
      "  utc_datetime = datetime.datetime.utcfromtimestamp(unix_timestamp)\n",
      "C:\\Users\\goert\\AppData\\Local\\Temp\\ipykernel_14964\\446856757.py:8: DeprecationWarning: datetime.datetime.utcfromtimestamp() is deprecated and scheduled for removal in a future version. Use timezone-aware objects to represent datetimes in UTC: datetime.datetime.fromtimestamp(timestamp, datetime.UTC).\n",
      "  utc_datetime = datetime.datetime.utcfromtimestamp(unix_timestamp)\n",
      "C:\\Users\\goert\\AppData\\Local\\Temp\\ipykernel_14964\\446856757.py:8: DeprecationWarning: datetime.datetime.utcfromtimestamp() is deprecated and scheduled for removal in a future version. Use timezone-aware objects to represent datetimes in UTC: datetime.datetime.fromtimestamp(timestamp, datetime.UTC).\n",
      "  utc_datetime = datetime.datetime.utcfromtimestamp(unix_timestamp)\n"
     ]
    },
    {
     "name": "stdout",
     "output_type": "stream",
     "text": [
      "Initial time 2017-06-13 08:33:40 UTC\n",
      "Sample rate 4 Hz\n",
      "Interval 250.0ms\n",
      "Initial time 2017-06-13 08:33:50 UTC\n",
      "Sample rate 1 Hz\n",
      "Interval 1000.0ms\n",
      "Initial time 2017-06-13 08:33:40 UTC\n",
      "Sample rate 4 Hz\n",
      "Interval 250.0ms\n",
      "Currently processing folder: S5\n",
      "Initial time 2017-06-13 12:22:13 UTC\n",
      "Sample rate 32 Hz\n",
      "Interval 31.25ms\n"
     ]
    },
    {
     "name": "stderr",
     "output_type": "stream",
     "text": [
      "C:\\Users\\goert\\AppData\\Local\\Temp\\ipykernel_14964\\446856757.py:8: DeprecationWarning: datetime.datetime.utcfromtimestamp() is deprecated and scheduled for removal in a future version. Use timezone-aware objects to represent datetimes in UTC: datetime.datetime.fromtimestamp(timestamp, datetime.UTC).\n",
      "  utc_datetime = datetime.datetime.utcfromtimestamp(unix_timestamp)\n",
      "C:\\Users\\goert\\AppData\\Local\\Temp\\ipykernel_14964\\446856757.py:8: DeprecationWarning: datetime.datetime.utcfromtimestamp() is deprecated and scheduled for removal in a future version. Use timezone-aware objects to represent datetimes in UTC: datetime.datetime.fromtimestamp(timestamp, datetime.UTC).\n",
      "  utc_datetime = datetime.datetime.utcfromtimestamp(unix_timestamp)\n",
      "C:\\Users\\goert\\AppData\\Local\\Temp\\ipykernel_14964\\446856757.py:8: DeprecationWarning: datetime.datetime.utcfromtimestamp() is deprecated and scheduled for removal in a future version. Use timezone-aware objects to represent datetimes in UTC: datetime.datetime.fromtimestamp(timestamp, datetime.UTC).\n",
      "  utc_datetime = datetime.datetime.utcfromtimestamp(unix_timestamp)\n",
      "C:\\Users\\goert\\AppData\\Local\\Temp\\ipykernel_14964\\446856757.py:8: DeprecationWarning: datetime.datetime.utcfromtimestamp() is deprecated and scheduled for removal in a future version. Use timezone-aware objects to represent datetimes in UTC: datetime.datetime.fromtimestamp(timestamp, datetime.UTC).\n",
      "  utc_datetime = datetime.datetime.utcfromtimestamp(unix_timestamp)\n"
     ]
    },
    {
     "name": "stdout",
     "output_type": "stream",
     "text": [
      "Initial time 2017-06-13 12:22:13 UTC\n",
      "Sample rate 4 Hz\n",
      "Interval 250.0ms\n",
      "Initial time 2017-06-13 12:22:23 UTC\n",
      "Sample rate 1 Hz\n",
      "Interval 1000.0ms\n",
      "Initial time 2017-06-13 12:22:13 UTC\n",
      "Sample rate 4 Hz\n",
      "Interval 250.0ms\n",
      "Currently processing folder: S6\n",
      "Initial time 2017-06-14 11:20:38 UTC\n",
      "Sample rate 32 Hz\n",
      "Interval 31.25ms\n"
     ]
    },
    {
     "name": "stderr",
     "output_type": "stream",
     "text": [
      "C:\\Users\\goert\\AppData\\Local\\Temp\\ipykernel_14964\\446856757.py:8: DeprecationWarning: datetime.datetime.utcfromtimestamp() is deprecated and scheduled for removal in a future version. Use timezone-aware objects to represent datetimes in UTC: datetime.datetime.fromtimestamp(timestamp, datetime.UTC).\n",
      "  utc_datetime = datetime.datetime.utcfromtimestamp(unix_timestamp)\n",
      "C:\\Users\\goert\\AppData\\Local\\Temp\\ipykernel_14964\\446856757.py:8: DeprecationWarning: datetime.datetime.utcfromtimestamp() is deprecated and scheduled for removal in a future version. Use timezone-aware objects to represent datetimes in UTC: datetime.datetime.fromtimestamp(timestamp, datetime.UTC).\n",
      "  utc_datetime = datetime.datetime.utcfromtimestamp(unix_timestamp)\n",
      "C:\\Users\\goert\\AppData\\Local\\Temp\\ipykernel_14964\\446856757.py:8: DeprecationWarning: datetime.datetime.utcfromtimestamp() is deprecated and scheduled for removal in a future version. Use timezone-aware objects to represent datetimes in UTC: datetime.datetime.fromtimestamp(timestamp, datetime.UTC).\n",
      "  utc_datetime = datetime.datetime.utcfromtimestamp(unix_timestamp)\n",
      "C:\\Users\\goert\\AppData\\Local\\Temp\\ipykernel_14964\\446856757.py:8: DeprecationWarning: datetime.datetime.utcfromtimestamp() is deprecated and scheduled for removal in a future version. Use timezone-aware objects to represent datetimes in UTC: datetime.datetime.fromtimestamp(timestamp, datetime.UTC).\n",
      "  utc_datetime = datetime.datetime.utcfromtimestamp(unix_timestamp)\n"
     ]
    },
    {
     "name": "stdout",
     "output_type": "stream",
     "text": [
      "Initial time 2017-06-14 11:20:38 UTC\n",
      "Sample rate 4 Hz\n",
      "Interval 250.0ms\n",
      "Initial time 2017-06-14 11:20:48 UTC\n",
      "Sample rate 1 Hz\n",
      "Interval 1000.0ms\n",
      "Initial time 2017-06-14 11:20:38 UTC\n",
      "Sample rate 4 Hz\n",
      "Interval 250.0ms\n",
      "Currently processing folder: S7\n",
      "Initial time 2017-07-06 11:11:04 UTC\n",
      "Sample rate 32 Hz\n",
      "Interval 31.25ms\n"
     ]
    },
    {
     "name": "stderr",
     "output_type": "stream",
     "text": [
      "C:\\Users\\goert\\AppData\\Local\\Temp\\ipykernel_14964\\446856757.py:8: DeprecationWarning: datetime.datetime.utcfromtimestamp() is deprecated and scheduled for removal in a future version. Use timezone-aware objects to represent datetimes in UTC: datetime.datetime.fromtimestamp(timestamp, datetime.UTC).\n",
      "  utc_datetime = datetime.datetime.utcfromtimestamp(unix_timestamp)\n",
      "C:\\Users\\goert\\AppData\\Local\\Temp\\ipykernel_14964\\446856757.py:8: DeprecationWarning: datetime.datetime.utcfromtimestamp() is deprecated and scheduled for removal in a future version. Use timezone-aware objects to represent datetimes in UTC: datetime.datetime.fromtimestamp(timestamp, datetime.UTC).\n",
      "  utc_datetime = datetime.datetime.utcfromtimestamp(unix_timestamp)\n",
      "C:\\Users\\goert\\AppData\\Local\\Temp\\ipykernel_14964\\446856757.py:8: DeprecationWarning: datetime.datetime.utcfromtimestamp() is deprecated and scheduled for removal in a future version. Use timezone-aware objects to represent datetimes in UTC: datetime.datetime.fromtimestamp(timestamp, datetime.UTC).\n",
      "  utc_datetime = datetime.datetime.utcfromtimestamp(unix_timestamp)\n",
      "C:\\Users\\goert\\AppData\\Local\\Temp\\ipykernel_14964\\446856757.py:8: DeprecationWarning: datetime.datetime.utcfromtimestamp() is deprecated and scheduled for removal in a future version. Use timezone-aware objects to represent datetimes in UTC: datetime.datetime.fromtimestamp(timestamp, datetime.UTC).\n",
      "  utc_datetime = datetime.datetime.utcfromtimestamp(unix_timestamp)\n"
     ]
    },
    {
     "name": "stdout",
     "output_type": "stream",
     "text": [
      "Initial time 2017-07-06 11:11:04 UTC\n",
      "Sample rate 4 Hz\n",
      "Interval 250.0ms\n",
      "Initial time 2017-07-06 11:11:14 UTC\n",
      "Sample rate 1 Hz\n",
      "Interval 1000.0ms\n",
      "Initial time 2017-07-06 11:11:04 UTC\n",
      "Sample rate 4 Hz\n",
      "Interval 250.0ms\n",
      "Currently processing folder: S8\n",
      "Initial time 2017-07-10 11:10:40 UTC\n",
      "Sample rate 32 Hz\n",
      "Interval 31.25ms\n"
     ]
    },
    {
     "name": "stderr",
     "output_type": "stream",
     "text": [
      "C:\\Users\\goert\\AppData\\Local\\Temp\\ipykernel_14964\\446856757.py:8: DeprecationWarning: datetime.datetime.utcfromtimestamp() is deprecated and scheduled for removal in a future version. Use timezone-aware objects to represent datetimes in UTC: datetime.datetime.fromtimestamp(timestamp, datetime.UTC).\n",
      "  utc_datetime = datetime.datetime.utcfromtimestamp(unix_timestamp)\n",
      "C:\\Users\\goert\\AppData\\Local\\Temp\\ipykernel_14964\\446856757.py:8: DeprecationWarning: datetime.datetime.utcfromtimestamp() is deprecated and scheduled for removal in a future version. Use timezone-aware objects to represent datetimes in UTC: datetime.datetime.fromtimestamp(timestamp, datetime.UTC).\n",
      "  utc_datetime = datetime.datetime.utcfromtimestamp(unix_timestamp)\n",
      "C:\\Users\\goert\\AppData\\Local\\Temp\\ipykernel_14964\\446856757.py:8: DeprecationWarning: datetime.datetime.utcfromtimestamp() is deprecated and scheduled for removal in a future version. Use timezone-aware objects to represent datetimes in UTC: datetime.datetime.fromtimestamp(timestamp, datetime.UTC).\n",
      "  utc_datetime = datetime.datetime.utcfromtimestamp(unix_timestamp)\n",
      "C:\\Users\\goert\\AppData\\Local\\Temp\\ipykernel_14964\\446856757.py:8: DeprecationWarning: datetime.datetime.utcfromtimestamp() is deprecated and scheduled for removal in a future version. Use timezone-aware objects to represent datetimes in UTC: datetime.datetime.fromtimestamp(timestamp, datetime.UTC).\n",
      "  utc_datetime = datetime.datetime.utcfromtimestamp(unix_timestamp)\n"
     ]
    },
    {
     "name": "stdout",
     "output_type": "stream",
     "text": [
      "Initial time 2017-07-10 11:10:40 UTC\n",
      "Sample rate 4 Hz\n",
      "Interval 250.0ms\n",
      "Initial time 2017-07-10 11:10:50 UTC\n",
      "Sample rate 1 Hz\n",
      "Interval 1000.0ms\n",
      "Initial time 2017-07-10 11:10:40 UTC\n",
      "Sample rate 4 Hz\n",
      "Interval 250.0ms\n",
      "Currently processing folder: S9\n",
      "Initial time 2017-07-11 11:10:41 UTC\n",
      "Sample rate 32 Hz\n",
      "Interval 31.25ms\n"
     ]
    },
    {
     "name": "stderr",
     "output_type": "stream",
     "text": [
      "C:\\Users\\goert\\AppData\\Local\\Temp\\ipykernel_14964\\446856757.py:8: DeprecationWarning: datetime.datetime.utcfromtimestamp() is deprecated and scheduled for removal in a future version. Use timezone-aware objects to represent datetimes in UTC: datetime.datetime.fromtimestamp(timestamp, datetime.UTC).\n",
      "  utc_datetime = datetime.datetime.utcfromtimestamp(unix_timestamp)\n",
      "C:\\Users\\goert\\AppData\\Local\\Temp\\ipykernel_14964\\446856757.py:8: DeprecationWarning: datetime.datetime.utcfromtimestamp() is deprecated and scheduled for removal in a future version. Use timezone-aware objects to represent datetimes in UTC: datetime.datetime.fromtimestamp(timestamp, datetime.UTC).\n",
      "  utc_datetime = datetime.datetime.utcfromtimestamp(unix_timestamp)\n",
      "C:\\Users\\goert\\AppData\\Local\\Temp\\ipykernel_14964\\446856757.py:8: DeprecationWarning: datetime.datetime.utcfromtimestamp() is deprecated and scheduled for removal in a future version. Use timezone-aware objects to represent datetimes in UTC: datetime.datetime.fromtimestamp(timestamp, datetime.UTC).\n",
      "  utc_datetime = datetime.datetime.utcfromtimestamp(unix_timestamp)\n",
      "C:\\Users\\goert\\AppData\\Local\\Temp\\ipykernel_14964\\446856757.py:8: DeprecationWarning: datetime.datetime.utcfromtimestamp() is deprecated and scheduled for removal in a future version. Use timezone-aware objects to represent datetimes in UTC: datetime.datetime.fromtimestamp(timestamp, datetime.UTC).\n",
      "  utc_datetime = datetime.datetime.utcfromtimestamp(unix_timestamp)\n"
     ]
    },
    {
     "name": "stdout",
     "output_type": "stream",
     "text": [
      "Initial time 2017-07-11 11:10:41 UTC\n",
      "Sample rate 4 Hz\n",
      "Interval 250.0ms\n",
      "Initial time 2017-07-11 11:10:51 UTC\n",
      "Sample rate 1 Hz\n",
      "Interval 1000.0ms\n",
      "Initial time 2017-07-11 11:10:41 UTC\n",
      "Sample rate 4 Hz\n",
      "Interval 250.0ms\n",
      "Currently processing folder: S10\n",
      "Initial time 2017-07-25 07:05:08 UTC\n",
      "Sample rate 32 Hz\n",
      "Interval 31.25ms\n"
     ]
    },
    {
     "name": "stderr",
     "output_type": "stream",
     "text": [
      "C:\\Users\\goert\\AppData\\Local\\Temp\\ipykernel_14964\\446856757.py:8: DeprecationWarning: datetime.datetime.utcfromtimestamp() is deprecated and scheduled for removal in a future version. Use timezone-aware objects to represent datetimes in UTC: datetime.datetime.fromtimestamp(timestamp, datetime.UTC).\n",
      "  utc_datetime = datetime.datetime.utcfromtimestamp(unix_timestamp)\n",
      "C:\\Users\\goert\\AppData\\Local\\Temp\\ipykernel_14964\\446856757.py:8: DeprecationWarning: datetime.datetime.utcfromtimestamp() is deprecated and scheduled for removal in a future version. Use timezone-aware objects to represent datetimes in UTC: datetime.datetime.fromtimestamp(timestamp, datetime.UTC).\n",
      "  utc_datetime = datetime.datetime.utcfromtimestamp(unix_timestamp)\n",
      "C:\\Users\\goert\\AppData\\Local\\Temp\\ipykernel_14964\\446856757.py:8: DeprecationWarning: datetime.datetime.utcfromtimestamp() is deprecated and scheduled for removal in a future version. Use timezone-aware objects to represent datetimes in UTC: datetime.datetime.fromtimestamp(timestamp, datetime.UTC).\n",
      "  utc_datetime = datetime.datetime.utcfromtimestamp(unix_timestamp)\n",
      "C:\\Users\\goert\\AppData\\Local\\Temp\\ipykernel_14964\\446856757.py:8: DeprecationWarning: datetime.datetime.utcfromtimestamp() is deprecated and scheduled for removal in a future version. Use timezone-aware objects to represent datetimes in UTC: datetime.datetime.fromtimestamp(timestamp, datetime.UTC).\n",
      "  utc_datetime = datetime.datetime.utcfromtimestamp(unix_timestamp)\n"
     ]
    },
    {
     "name": "stdout",
     "output_type": "stream",
     "text": [
      "Initial time 2017-07-25 07:05:08 UTC\n",
      "Sample rate 4 Hz\n",
      "Interval 250.0ms\n",
      "Initial time 2017-07-25 07:05:18 UTC\n",
      "Sample rate 1 Hz\n",
      "Interval 1000.0ms\n",
      "Initial time 2017-07-25 07:05:08 UTC\n",
      "Sample rate 4 Hz\n",
      "Interval 250.0ms\n",
      "Currently processing folder: S11\n",
      "Initial time 2017-07-25 11:14:19 UTC\n",
      "Sample rate 32 Hz\n",
      "Interval 31.25ms\n"
     ]
    },
    {
     "name": "stderr",
     "output_type": "stream",
     "text": [
      "C:\\Users\\goert\\AppData\\Local\\Temp\\ipykernel_14964\\446856757.py:8: DeprecationWarning: datetime.datetime.utcfromtimestamp() is deprecated and scheduled for removal in a future version. Use timezone-aware objects to represent datetimes in UTC: datetime.datetime.fromtimestamp(timestamp, datetime.UTC).\n",
      "  utc_datetime = datetime.datetime.utcfromtimestamp(unix_timestamp)\n",
      "C:\\Users\\goert\\AppData\\Local\\Temp\\ipykernel_14964\\446856757.py:8: DeprecationWarning: datetime.datetime.utcfromtimestamp() is deprecated and scheduled for removal in a future version. Use timezone-aware objects to represent datetimes in UTC: datetime.datetime.fromtimestamp(timestamp, datetime.UTC).\n",
      "  utc_datetime = datetime.datetime.utcfromtimestamp(unix_timestamp)\n",
      "C:\\Users\\goert\\AppData\\Local\\Temp\\ipykernel_14964\\446856757.py:8: DeprecationWarning: datetime.datetime.utcfromtimestamp() is deprecated and scheduled for removal in a future version. Use timezone-aware objects to represent datetimes in UTC: datetime.datetime.fromtimestamp(timestamp, datetime.UTC).\n",
      "  utc_datetime = datetime.datetime.utcfromtimestamp(unix_timestamp)\n",
      "C:\\Users\\goert\\AppData\\Local\\Temp\\ipykernel_14964\\446856757.py:8: DeprecationWarning: datetime.datetime.utcfromtimestamp() is deprecated and scheduled for removal in a future version. Use timezone-aware objects to represent datetimes in UTC: datetime.datetime.fromtimestamp(timestamp, datetime.UTC).\n",
      "  utc_datetime = datetime.datetime.utcfromtimestamp(unix_timestamp)\n"
     ]
    },
    {
     "name": "stdout",
     "output_type": "stream",
     "text": [
      "Initial time 2017-07-25 11:14:19 UTC\n",
      "Sample rate 4 Hz\n",
      "Interval 250.0ms\n",
      "Initial time 2017-07-25 11:14:29 UTC\n",
      "Sample rate 1 Hz\n",
      "Interval 1000.0ms\n",
      "Initial time 2017-07-25 11:14:19 UTC\n",
      "Sample rate 4 Hz\n",
      "Interval 250.0ms\n",
      "Currently processing folder: S12\n",
      "Currently processing folder: S13\n",
      "Initial time 2017-08-08 11:13:07 UTC\n",
      "Sample rate 32 Hz\n",
      "Interval 31.25ms\n"
     ]
    },
    {
     "name": "stderr",
     "output_type": "stream",
     "text": [
      "C:\\Users\\goert\\AppData\\Local\\Temp\\ipykernel_14964\\446856757.py:8: DeprecationWarning: datetime.datetime.utcfromtimestamp() is deprecated and scheduled for removal in a future version. Use timezone-aware objects to represent datetimes in UTC: datetime.datetime.fromtimestamp(timestamp, datetime.UTC).\n",
      "  utc_datetime = datetime.datetime.utcfromtimestamp(unix_timestamp)\n",
      "C:\\Users\\goert\\AppData\\Local\\Temp\\ipykernel_14964\\446856757.py:8: DeprecationWarning: datetime.datetime.utcfromtimestamp() is deprecated and scheduled for removal in a future version. Use timezone-aware objects to represent datetimes in UTC: datetime.datetime.fromtimestamp(timestamp, datetime.UTC).\n",
      "  utc_datetime = datetime.datetime.utcfromtimestamp(unix_timestamp)\n",
      "C:\\Users\\goert\\AppData\\Local\\Temp\\ipykernel_14964\\446856757.py:8: DeprecationWarning: datetime.datetime.utcfromtimestamp() is deprecated and scheduled for removal in a future version. Use timezone-aware objects to represent datetimes in UTC: datetime.datetime.fromtimestamp(timestamp, datetime.UTC).\n",
      "  utc_datetime = datetime.datetime.utcfromtimestamp(unix_timestamp)\n",
      "C:\\Users\\goert\\AppData\\Local\\Temp\\ipykernel_14964\\446856757.py:8: DeprecationWarning: datetime.datetime.utcfromtimestamp() is deprecated and scheduled for removal in a future version. Use timezone-aware objects to represent datetimes in UTC: datetime.datetime.fromtimestamp(timestamp, datetime.UTC).\n",
      "  utc_datetime = datetime.datetime.utcfromtimestamp(unix_timestamp)\n"
     ]
    },
    {
     "name": "stdout",
     "output_type": "stream",
     "text": [
      "Initial time 2017-08-08 11:13:07 UTC\n",
      "Sample rate 4 Hz\n",
      "Interval 250.0ms\n",
      "Initial time 2017-08-08 11:13:17 UTC\n",
      "Sample rate 1 Hz\n",
      "Interval 1000.0ms\n",
      "Initial time 2017-08-08 11:13:07 UTC\n",
      "Sample rate 4 Hz\n",
      "Interval 250.0ms\n",
      "Currently processing folder: S14\n",
      "Initial time 2017-08-09 07:09:31 UTC\n",
      "Sample rate 32 Hz\n",
      "Interval 31.25ms\n"
     ]
    },
    {
     "name": "stderr",
     "output_type": "stream",
     "text": [
      "C:\\Users\\goert\\AppData\\Local\\Temp\\ipykernel_14964\\446856757.py:8: DeprecationWarning: datetime.datetime.utcfromtimestamp() is deprecated and scheduled for removal in a future version. Use timezone-aware objects to represent datetimes in UTC: datetime.datetime.fromtimestamp(timestamp, datetime.UTC).\n",
      "  utc_datetime = datetime.datetime.utcfromtimestamp(unix_timestamp)\n",
      "C:\\Users\\goert\\AppData\\Local\\Temp\\ipykernel_14964\\446856757.py:8: DeprecationWarning: datetime.datetime.utcfromtimestamp() is deprecated and scheduled for removal in a future version. Use timezone-aware objects to represent datetimes in UTC: datetime.datetime.fromtimestamp(timestamp, datetime.UTC).\n",
      "  utc_datetime = datetime.datetime.utcfromtimestamp(unix_timestamp)\n",
      "C:\\Users\\goert\\AppData\\Local\\Temp\\ipykernel_14964\\446856757.py:8: DeprecationWarning: datetime.datetime.utcfromtimestamp() is deprecated and scheduled for removal in a future version. Use timezone-aware objects to represent datetimes in UTC: datetime.datetime.fromtimestamp(timestamp, datetime.UTC).\n",
      "  utc_datetime = datetime.datetime.utcfromtimestamp(unix_timestamp)\n",
      "C:\\Users\\goert\\AppData\\Local\\Temp\\ipykernel_14964\\446856757.py:8: DeprecationWarning: datetime.datetime.utcfromtimestamp() is deprecated and scheduled for removal in a future version. Use timezone-aware objects to represent datetimes in UTC: datetime.datetime.fromtimestamp(timestamp, datetime.UTC).\n",
      "  utc_datetime = datetime.datetime.utcfromtimestamp(unix_timestamp)\n"
     ]
    },
    {
     "name": "stdout",
     "output_type": "stream",
     "text": [
      "Initial time 2017-08-09 07:09:31 UTC\n",
      "Sample rate 4 Hz\n",
      "Interval 250.0ms\n",
      "Initial time 2017-08-09 07:09:41 UTC\n",
      "Sample rate 1 Hz\n",
      "Interval 1000.0ms\n",
      "Initial time 2017-08-09 07:09:31 UTC\n",
      "Sample rate 4 Hz\n",
      "Interval 250.0ms\n",
      "Currently processing folder: S15\n",
      "Initial time 2017-08-10 07:10:56 UTC\n",
      "Sample rate 32 Hz\n",
      "Interval 31.25ms\n"
     ]
    },
    {
     "name": "stderr",
     "output_type": "stream",
     "text": [
      "C:\\Users\\goert\\AppData\\Local\\Temp\\ipykernel_14964\\446856757.py:8: DeprecationWarning: datetime.datetime.utcfromtimestamp() is deprecated and scheduled for removal in a future version. Use timezone-aware objects to represent datetimes in UTC: datetime.datetime.fromtimestamp(timestamp, datetime.UTC).\n",
      "  utc_datetime = datetime.datetime.utcfromtimestamp(unix_timestamp)\n",
      "C:\\Users\\goert\\AppData\\Local\\Temp\\ipykernel_14964\\446856757.py:8: DeprecationWarning: datetime.datetime.utcfromtimestamp() is deprecated and scheduled for removal in a future version. Use timezone-aware objects to represent datetimes in UTC: datetime.datetime.fromtimestamp(timestamp, datetime.UTC).\n",
      "  utc_datetime = datetime.datetime.utcfromtimestamp(unix_timestamp)\n",
      "C:\\Users\\goert\\AppData\\Local\\Temp\\ipykernel_14964\\446856757.py:8: DeprecationWarning: datetime.datetime.utcfromtimestamp() is deprecated and scheduled for removal in a future version. Use timezone-aware objects to represent datetimes in UTC: datetime.datetime.fromtimestamp(timestamp, datetime.UTC).\n",
      "  utc_datetime = datetime.datetime.utcfromtimestamp(unix_timestamp)\n",
      "C:\\Users\\goert\\AppData\\Local\\Temp\\ipykernel_14964\\446856757.py:8: DeprecationWarning: datetime.datetime.utcfromtimestamp() is deprecated and scheduled for removal in a future version. Use timezone-aware objects to represent datetimes in UTC: datetime.datetime.fromtimestamp(timestamp, datetime.UTC).\n",
      "  utc_datetime = datetime.datetime.utcfromtimestamp(unix_timestamp)\n"
     ]
    },
    {
     "name": "stdout",
     "output_type": "stream",
     "text": [
      "Initial time 2017-08-10 07:10:56 UTC\n",
      "Sample rate 4 Hz\n",
      "Interval 250.0ms\n",
      "Initial time 2017-08-10 07:11:06 UTC\n",
      "Sample rate 1 Hz\n",
      "Interval 1000.0ms\n",
      "Initial time 2017-08-10 07:10:56 UTC\n",
      "Sample rate 4 Hz\n",
      "Interval 250.0ms\n",
      "Currently processing folder: S16\n",
      "Initial time 2017-08-10 11:59:25 UTC\n",
      "Sample rate 32 Hz\n",
      "Interval 31.25ms\n"
     ]
    },
    {
     "name": "stderr",
     "output_type": "stream",
     "text": [
      "C:\\Users\\goert\\AppData\\Local\\Temp\\ipykernel_14964\\446856757.py:8: DeprecationWarning: datetime.datetime.utcfromtimestamp() is deprecated and scheduled for removal in a future version. Use timezone-aware objects to represent datetimes in UTC: datetime.datetime.fromtimestamp(timestamp, datetime.UTC).\n",
      "  utc_datetime = datetime.datetime.utcfromtimestamp(unix_timestamp)\n",
      "C:\\Users\\goert\\AppData\\Local\\Temp\\ipykernel_14964\\446856757.py:8: DeprecationWarning: datetime.datetime.utcfromtimestamp() is deprecated and scheduled for removal in a future version. Use timezone-aware objects to represent datetimes in UTC: datetime.datetime.fromtimestamp(timestamp, datetime.UTC).\n",
      "  utc_datetime = datetime.datetime.utcfromtimestamp(unix_timestamp)\n",
      "C:\\Users\\goert\\AppData\\Local\\Temp\\ipykernel_14964\\446856757.py:8: DeprecationWarning: datetime.datetime.utcfromtimestamp() is deprecated and scheduled for removal in a future version. Use timezone-aware objects to represent datetimes in UTC: datetime.datetime.fromtimestamp(timestamp, datetime.UTC).\n",
      "  utc_datetime = datetime.datetime.utcfromtimestamp(unix_timestamp)\n",
      "C:\\Users\\goert\\AppData\\Local\\Temp\\ipykernel_14964\\446856757.py:8: DeprecationWarning: datetime.datetime.utcfromtimestamp() is deprecated and scheduled for removal in a future version. Use timezone-aware objects to represent datetimes in UTC: datetime.datetime.fromtimestamp(timestamp, datetime.UTC).\n",
      "  utc_datetime = datetime.datetime.utcfromtimestamp(unix_timestamp)\n"
     ]
    },
    {
     "name": "stdout",
     "output_type": "stream",
     "text": [
      "Initial time 2017-08-10 11:59:25 UTC\n",
      "Sample rate 4 Hz\n",
      "Interval 250.0ms\n",
      "Initial time 2017-08-10 11:59:35 UTC\n",
      "Sample rate 1 Hz\n",
      "Interval 1000.0ms\n",
      "Initial time 2017-08-10 11:59:25 UTC\n",
      "Sample rate 4 Hz\n",
      "Interval 250.0ms\n",
      "Currently processing folder: S17\n",
      "Initial time 2017-08-11 07:19:22 UTC\n",
      "Sample rate 32 Hz\n",
      "Interval 31.25ms\n",
      "Initial time 2017-08-11 07:19:22 UTC\n",
      "Sample rate 4 Hz\n",
      "Interval 250.0ms\n",
      "Initial time 2017-08-11 07:19:32 UTC\n",
      "Sample rate 1 Hz\n",
      "Interval 1000.0ms\n",
      "Initial time 2017-08-11 07:19:22 UTC\n",
      "Sample rate 4 Hz\n",
      "Interval 250.0ms\n"
     ]
    },
    {
     "name": "stderr",
     "output_type": "stream",
     "text": [
      "C:\\Users\\goert\\AppData\\Local\\Temp\\ipykernel_14964\\446856757.py:8: DeprecationWarning: datetime.datetime.utcfromtimestamp() is deprecated and scheduled for removal in a future version. Use timezone-aware objects to represent datetimes in UTC: datetime.datetime.fromtimestamp(timestamp, datetime.UTC).\n",
      "  utc_datetime = datetime.datetime.utcfromtimestamp(unix_timestamp)\n",
      "C:\\Users\\goert\\AppData\\Local\\Temp\\ipykernel_14964\\446856757.py:8: DeprecationWarning: datetime.datetime.utcfromtimestamp() is deprecated and scheduled for removal in a future version. Use timezone-aware objects to represent datetimes in UTC: datetime.datetime.fromtimestamp(timestamp, datetime.UTC).\n",
      "  utc_datetime = datetime.datetime.utcfromtimestamp(unix_timestamp)\n",
      "C:\\Users\\goert\\AppData\\Local\\Temp\\ipykernel_14964\\446856757.py:8: DeprecationWarning: datetime.datetime.utcfromtimestamp() is deprecated and scheduled for removal in a future version. Use timezone-aware objects to represent datetimes in UTC: datetime.datetime.fromtimestamp(timestamp, datetime.UTC).\n",
      "  utc_datetime = datetime.datetime.utcfromtimestamp(unix_timestamp)\n"
     ]
    }
   ],
   "source": [
    "for folder in folders:\n",
    "    print(f\"Currently processing folder: {folder}\")\n",
    "    folder_path = os.path.join(UNPROCESSED_PATH, folder)\n",
    "    for signal in desired_signals:\n",
    "        signal_path = os.path.join(folder_path, signal)\n",
    "        if os.path.isfile(signal_path):\n",
    "            df = pd.read_csv(signal_path, names=names[signal], header=None)\n",
    "            if not df.empty:\n",
    "                if signal == 'ACC.csv':\n",
    "                    acc = pd.concat([acc, process_df(df, folder)])\n",
    "                elif signal == 'EDA.csv':\n",
    "                    eda = pd.concat([eda, process_df(df, folder)])\n",
    "                elif signal == 'HR.csv':\n",
    "                    hr = pd.concat([hr, process_df(df, folder)])\n",
    "                elif signal == 'TEMP.csv':\n",
    "                    temp = pd.concat([temp, process_df(df, folder)])"
   ]
  },
  {
   "cell_type": "code",
   "execution_count": 16,
   "metadata": {},
   "outputs": [
    {
     "name": "stdout",
     "output_type": "stream",
     "text": [
      "Saving combined_acc.csv...\n",
      "Saving combined_hr.csv...\n",
      "Saving combined_temp.csv...\n",
      "Saving combined_eda.csv...\n"
     ]
    }
   ],
   "source": [
    "dataframes = [acc, hr, temp, eda]\n",
    "filenames = ['combined_acc.csv', 'combined_hr.csv', 'combined_temp.csv', 'combined_eda.csv']\n",
    "\n",
    "# Create the directory if it doesn't exist\n",
    "os.makedirs(PROCESSED_PATH, exist_ok=True)\n",
    "\n",
    "for df, filename in zip(dataframes, filenames):\n",
    "    print(f\"Saving {filename}...\")\n",
    "    df.to_csv(os.path.join(PROCESSED_PATH, filename), index=False)"
   ]
  },
  {
   "cell_type": "code",
   "execution_count": 39,
   "metadata": {},
   "outputs": [
    {
     "data": {
      "text/html": [
       "<div>\n",
       "<style scoped>\n",
       "    .dataframe tbody tr th:only-of-type {\n",
       "        vertical-align: middle;\n",
       "    }\n",
       "\n",
       "    .dataframe tbody tr th {\n",
       "        vertical-align: top;\n",
       "    }\n",
       "\n",
       "    .dataframe thead th {\n",
       "        text-align: right;\n",
       "    }\n",
       "</style>\n",
       "<table border=\"1\" class=\"dataframe\">\n",
       "  <thead>\n",
       "    <tr style=\"text-align: right;\">\n",
       "      <th></th>\n",
       "      <th>Time</th>\n",
       "      <th>EDA</th>\n",
       "    </tr>\n",
       "  </thead>\n",
       "  <tbody>\n",
       "    <tr>\n",
       "      <th>0</th>\n",
       "      <td>2017-05-22 07:15:25.000</td>\n",
       "      <td>0.000000</td>\n",
       "    </tr>\n",
       "    <tr>\n",
       "      <th>1</th>\n",
       "      <td>2017-05-22 07:15:25.250</td>\n",
       "      <td>0.328021</td>\n",
       "    </tr>\n",
       "    <tr>\n",
       "      <th>2</th>\n",
       "      <td>2017-05-22 07:15:25.500</td>\n",
       "      <td>0.410026</td>\n",
       "    </tr>\n",
       "    <tr>\n",
       "      <th>3</th>\n",
       "      <td>2017-05-22 07:15:25.750</td>\n",
       "      <td>0.433090</td>\n",
       "    </tr>\n",
       "    <tr>\n",
       "      <th>4</th>\n",
       "      <td>2017-05-22 07:15:26.000</td>\n",
       "      <td>0.444622</td>\n",
       "    </tr>\n",
       "  </tbody>\n",
       "</table>\n",
       "</div>"
      ],
      "text/plain": [
       "                     Time       EDA\n",
       "0 2017-05-22 07:15:25.000  0.000000\n",
       "1 2017-05-22 07:15:25.250  0.328021\n",
       "2 2017-05-22 07:15:25.500  0.410026\n",
       "3 2017-05-22 07:15:25.750  0.433090\n",
       "4 2017-05-22 07:15:26.000  0.444622"
      ]
     },
     "execution_count": 39,
     "metadata": {},
     "output_type": "execute_result"
    }
   ],
   "source": [
    "df_s2 = df[df['id'] == 'S2'][['Time', 'EDA']]\n",
    "df_s2.head()"
   ]
  },
  {
   "cell_type": "markdown",
   "metadata": {},
   "source": [
    "## Visualize one sample from the data"
   ]
  },
  {
   "cell_type": "markdown",
   "metadata": {},
   "source": [
    "Checking if the file exists and visual one sample of the data"
   ]
  },
  {
   "cell_type": "code",
   "execution_count": 42,
   "metadata": {},
   "outputs": [
    {
     "data": {
      "image/png": "[encoded data removed]",
      "text/plain": [
       "<Figure size 1200x600 with 1 Axes>"
      ]
     },
     "metadata": {},
     "output_type": "display_data"
    }
   ],
   "source": [
    "import matplotlib.pyplot as plt\n",
    "\n",
    "# Plotting the EDA data\n",
    "plt.figure(figsize=(12, 6))\n",
    "plt.plot(df_s2['Time'], df_s2['EDA'])\n",
    "plt.xlabel('Time')\n",
    "plt.ylabel('EDA')\n",
    "plt.title('EDA Data')\n",
    "plt.show()\n",
    "\n"
   ]
  },
  {
   "cell_type": "code",
   "execution_count": null,
   "metadata": {},
   "outputs": [],
   "source": []
  }
 ],
 "metadata": {
  "kernelspec": {
   "display_name": "Python 3",
   "language": "python",
   "name": "python3"
  },
  "language_info": {
   "codemirror_mode": {
    "name": "ipython",
    "version": 3
   },
   "file_extension": ".py",
   "mimetype": "text/x-python",
   "name": "python",
   "nbconvert_exporter": "python",
   "pygments_lexer": "ipython3",
   "version": "3.12.1"
  }
 },
 "nbformat": 4,
 "nbformat_minor": 2
}
