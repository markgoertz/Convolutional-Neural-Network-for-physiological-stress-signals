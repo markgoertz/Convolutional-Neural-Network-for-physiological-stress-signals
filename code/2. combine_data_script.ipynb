{
 "cells": [
  {
   "cell_type": "code",
   "execution_count": 10,
   "metadata": {},
   "outputs": [],
   "source": [
    "import os\n",
    "import pandas as pd\n",
    "from matplotlib.pyplot import plot"
   ]
  },
  {
   "cell_type": "code",
   "execution_count": 7,
   "metadata": {},
   "outputs": [],
   "source": [
    "MAIN_PATH = 'D:/Master of Applied IT' \n",
    "DATA_SUBPATH = '/data'\n",
    "UNPROCESSED_PATH = MAIN_PATH + DATA_SUBPATH + '/unprocessed/WESAD'\n",
    "PROCESSED_PATH = MAIN_PATH + DATA_SUBPATH + '/processed/WESAD'"
   ]
  },
  {
   "cell_type": "code",
   "execution_count": 22,
   "metadata": {},
   "outputs": [],
   "source": [
    "final_columns = {\n",
    "    'ACC': ['id','X', 'Y', 'datetime'],\n",
    "    'EDA': ['id','EDA','datetime'],\n",
    "    'HR': ['id','HR','datetime'],\n",
    "    'TEMP': ['id','TEMP','datetime']\n",
    "}\n",
    "\n",
    "names = {\n",
    "    'ACC.csv': ['X', 'Y', 'Z'],\n",
    "    'EDA.csv': ['EDA'],\n",
    "    'HR.csv': ['HR'],\n",
    "    'TEMP.csv': ['TEMP']\n",
    "}\n",
    "\n",
    "desired_signals = ['ACC.csv', 'EDA.csv', 'HR.csv', 'TEMP.csv']\n",
    "acc = pd.DataFrame(columns=final_columns['ACC'])\n",
    "eda = pd.DataFrame(columns=final_columns['EDA'])\n",
    "hr = pd.DataFrame(columns=final_columns['HR'])\n",
    "temp = pd.DataFrame(columns=final_columns['TEMP'])"
   ]
  },
  {
   "cell_type": "code",
   "execution_count": null,
   "metadata": {},
   "outputs": [],
   "source": [
    "def process_df(df,file):\n",
    "    start_timestamp = df.iloc"
   ]
  }
 ],
 "metadata": {
  "kernelspec": {
   "display_name": "Python 3",
   "language": "python",
   "name": "python3"
  },
  "language_info": {
   "codemirror_mode": {
    "name": "ipython",
    "version": 3
   },
   "file_extension": ".py",
   "mimetype": "text/x-python",
   "name": "python",
   "nbconvert_exporter": "python",
   "pygments_lexer": "ipython3",
   "version": "3.12.1"
  }
 },
 "nbformat": 4,
 "nbformat_minor": 2
}
