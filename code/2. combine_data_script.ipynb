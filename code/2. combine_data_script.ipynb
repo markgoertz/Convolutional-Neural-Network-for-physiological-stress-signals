{
 "cells": [
  {
   "cell_type": "code",
   "execution_count": 63,
   "metadata": {},
   "outputs": [],
   "source": [
    "import os\n",
    "import pandas as pd\n",
    "import matplotlib.pyplot as plt"
   ]
  },
  {
   "cell_type": "code",
   "execution_count": 64,
   "metadata": {},
   "outputs": [],
   "source": [
    "MAIN_PATH = 'D:/Master of Applied IT' \n",
    "DATA_SUBPATH = '/data'\n",
    "UNPROCESSED_PATH = MAIN_PATH + DATA_SUBPATH + '/unprocessed/WESAD'\n",
    "PROCESSED_PATH = MAIN_PATH + DATA_SUBPATH + '/processed/WESAD'"
   ]
  },
  {
   "cell_type": "code",
   "execution_count": 65,
   "metadata": {},
   "outputs": [],
   "source": [
    "minfolder = 2\n",
    "maxfolder = 18\n",
    "folders = [f'S{i}' for i in range(minfolder, maxfolder)]\n",
    "\n",
    "final_columns = {\n",
    "    'ACC': ['id','X', 'Y', 'datetime'],\n",
    "    'EDA': ['id','EDA','datetime'],\n",
    "    'HR': ['id','HR','datetime'],\n",
    "    'TEMP': ['id','TEMP','datetime']\n",
    "}\n",
    "\n",
    "names = {\n",
    "    'ACC.csv': ['X', 'Y', 'Z'],\n",
    "    'EDA.csv': ['EDA'],\n",
    "    'HR.csv': ['HR'],\n",
    "    'TEMP.csv': ['TEMP']\n",
    "}\n",
    "\n",
    "desired_signals = ['ACC.csv', 'EDA.csv', 'HR.csv', 'TEMP.csv']\n",
    "acc = pd.DataFrame(columns=final_columns['ACC'])\n",
    "eda = pd.DataFrame(columns=final_columns['EDA'])\n",
    "hr = pd.DataFrame(columns=final_columns['HR'])\n",
    "temp = pd.DataFrame(columns=final_columns['TEMP'])"
   ]
  },
  {
   "cell_type": "code",
   "execution_count": 66,
   "metadata": {},
   "outputs": [],
   "source": [
    "def process_df(df, file):\n",
    "    start_timestamp = df.iloc[0, 0]  # Accessing first row, first column\n",
    "    sample_rate = df.iloc[1, 0]\n",
    "    new_df = pd.DataFrame(df.iloc[2:].values, columns=df.columns)  # skip first two rows\n",
    "    new_df['id'] = file[-2:]\n",
    "    new_df['datetime'] = [(start_timestamp + i/sample_rate) for i in range(len(new_df))]\n",
    "    if sample_rate > 4:\n",
    "        ds_factor = int(sample_rate / 4)\n",
    "        new_df = new_df.iloc[::ds_factor, :]\n",
    "    return new_df\n",
    "    "
   ]
  },
  {
   "cell_type": "code",
   "execution_count": 67,
   "metadata": {},
   "outputs": [
    {
     "name": "stdout",
     "output_type": "stream",
     "text": [
      "Currently processing folder: S2\n"
     ]
    },
    {
     "name": "stderr",
     "output_type": "stream",
     "text": [
      "C:\\Users\\goert\\AppData\\Local\\Temp\\ipykernel_5648\\278731602.py:10: FutureWarning: The behavior of DataFrame concatenation with empty or all-NA entries is deprecated. In a future version, this will no longer exclude empty or all-NA columns when determining the result dtypes. To retain the old behavior, exclude the relevant entries before the concat operation.\n",
      "  acc = pd.concat([acc, process_df(df, folder)])\n",
      "C:\\Users\\goert\\AppData\\Local\\Temp\\ipykernel_5648\\278731602.py:12: FutureWarning: The behavior of DataFrame concatenation with empty or all-NA entries is deprecated. In a future version, this will no longer exclude empty or all-NA columns when determining the result dtypes. To retain the old behavior, exclude the relevant entries before the concat operation.\n",
      "  eda = pd.concat([eda, process_df(df, folder)])\n",
      "C:\\Users\\goert\\AppData\\Local\\Temp\\ipykernel_5648\\278731602.py:14: FutureWarning: The behavior of DataFrame concatenation with empty or all-NA entries is deprecated. In a future version, this will no longer exclude empty or all-NA columns when determining the result dtypes. To retain the old behavior, exclude the relevant entries before the concat operation.\n",
      "  hr = pd.concat([hr, process_df(df, folder)])\n",
      "C:\\Users\\goert\\AppData\\Local\\Temp\\ipykernel_5648\\278731602.py:16: FutureWarning: The behavior of DataFrame concatenation with empty or all-NA entries is deprecated. In a future version, this will no longer exclude empty or all-NA columns when determining the result dtypes. To retain the old behavior, exclude the relevant entries before the concat operation.\n",
      "  temp = pd.concat([temp, process_df(df, folder)])\n"
     ]
    },
    {
     "name": "stdout",
     "output_type": "stream",
     "text": [
      "Currently processing folder: S3\n",
      "Currently processing folder: S4\n",
      "Currently processing folder: S5\n",
      "Currently processing folder: S6\n",
      "Currently processing folder: S7\n",
      "Currently processing folder: S8\n",
      "Currently processing folder: S9\n",
      "Currently processing folder: S10\n",
      "Currently processing folder: S11\n",
      "Currently processing folder: S12\n",
      "Currently processing folder: S13\n",
      "Currently processing folder: S14\n",
      "Currently processing folder: S15\n",
      "Currently processing folder: S16\n",
      "Currently processing folder: S17\n"
     ]
    }
   ],
   "source": [
    "for folder in folders:\n",
    "    print(f\"Currently processing folder: {folder}\")\n",
    "    folder_path = os.path.join(UNPROCESSED_PATH, folder)\n",
    "    for signal in desired_signals:\n",
    "        signal_path = os.path.join(folder_path, signal)\n",
    "        if os.path.isfile(signal_path):\n",
    "            df = pd.read_csv(signal_path, names=names[signal], header=None)\n",
    "            if not df.empty:\n",
    "                if signal == 'ACC.csv':\n",
    "                    acc = pd.concat([acc, process_df(df, folder)])\n",
    "                elif signal == 'EDA.csv':\n",
    "                    eda = pd.concat([eda, process_df(df, folder)])\n",
    "                elif signal == 'HR.csv':\n",
    "                    hr = pd.concat([hr, process_df(df, folder)])\n",
    "                elif signal == 'TEMP.csv':\n",
    "                    temp = pd.concat([temp, process_df(df, folder)])"
   ]
  },
  {
   "cell_type": "code",
   "execution_count": 68,
   "metadata": {},
   "outputs": [
    {
     "name": "stdout",
     "output_type": "stream",
     "text": [
      "Saving combined_acc.csv...\n",
      "Saving combined_eda.csv...\n",
      "Saving combined_hr.csv...\n",
      "Saving combined_temp.csv...\n"
     ]
    }
   ],
   "source": [
    "dataframes = [acc, eda, hr, temp]\n",
    "filenames = ['combined_acc.csv', 'combined_eda.csv', 'combined_hr.csv', 'combined_temp.csv']\n",
    "\n",
    "# Create the directory if it doesn't exist\n",
    "os.makedirs(PROCESSED_PATH, exist_ok=True)\n",
    "\n",
    "for df, filename in zip(dataframes, filenames):\n",
    "    print(f\"Saving {filename}...\")\n",
    "    df.to_csv(os.path.join(PROCESSED_PATH, filename), index=False)"
   ]
  },
  {
   "cell_type": "code",
   "execution_count": 69,
   "metadata": {},
   "outputs": [
    {
     "name": "stderr",
     "output_type": "stream",
     "text": [
      "C:\\Users\\goert\\AppData\\Local\\Temp\\ipykernel_5648\\1451237341.py:3: DtypeWarning: Columns (0) have mixed types. Specify dtype option on import or set low_memory=False.\n",
      "  eda = pd.read_csv(PROCESSED_PATH + \"/combined_\" + signal + \".csv\")\n"
     ]
    },
    {
     "data": {
      "text/html": [
       "<div>\n",
       "<style scoped>\n",
       "    .dataframe tbody tr th:only-of-type {\n",
       "        vertical-align: middle;\n",
       "    }\n",
       "\n",
       "    .dataframe tbody tr th {\n",
       "        vertical-align: top;\n",
       "    }\n",
       "\n",
       "    .dataframe thead th {\n",
       "        text-align: right;\n",
       "    }\n",
       "</style>\n",
       "<table border=\"1\" class=\"dataframe\">\n",
       "  <thead>\n",
       "    <tr style=\"text-align: right;\">\n",
       "      <th></th>\n",
       "      <th>id</th>\n",
       "      <th>EDA</th>\n",
       "      <th>datetime</th>\n",
       "    </tr>\n",
       "  </thead>\n",
       "  <tbody>\n",
       "    <tr>\n",
       "      <th>0</th>\n",
       "      <td>S2</td>\n",
       "      <td>0.000000</td>\n",
       "      <td>1.495437e+09</td>\n",
       "    </tr>\n",
       "    <tr>\n",
       "      <th>1</th>\n",
       "      <td>S2</td>\n",
       "      <td>0.328021</td>\n",
       "      <td>1.495437e+09</td>\n",
       "    </tr>\n",
       "    <tr>\n",
       "      <th>2</th>\n",
       "      <td>S2</td>\n",
       "      <td>0.410026</td>\n",
       "      <td>1.495437e+09</td>\n",
       "    </tr>\n",
       "    <tr>\n",
       "      <th>3</th>\n",
       "      <td>S2</td>\n",
       "      <td>0.433090</td>\n",
       "      <td>1.495437e+09</td>\n",
       "    </tr>\n",
       "    <tr>\n",
       "      <th>4</th>\n",
       "      <td>S2</td>\n",
       "      <td>0.444622</td>\n",
       "      <td>1.495437e+09</td>\n",
       "    </tr>\n",
       "  </tbody>\n",
       "</table>\n",
       "</div>"
      ],
      "text/plain": [
       "   id       EDA      datetime\n",
       "0  S2  0.000000  1.495437e+09\n",
       "1  S2  0.328021  1.495437e+09\n",
       "2  S2  0.410026  1.495437e+09\n",
       "3  S2  0.433090  1.495437e+09\n",
       "4  S2  0.444622  1.495437e+09"
      ]
     },
     "execution_count": 69,
     "metadata": {},
     "output_type": "execute_result"
    }
   ],
   "source": [
    "signal = \"EDA\"\n",
    "eda = pd.read_csv(PROCESSED_PATH + \"/combined_\" + signal + \".csv\")\n",
    "eda.head()"
   ]
  },
  {
   "cell_type": "code",
   "execution_count": 74,
   "metadata": {},
   "outputs": [
    {
     "data": {
      "image/png": "[encoded data removed]",
      "text/plain": [
       "<Figure size 640x480 with 1 Axes>"
      ]
     },
     "metadata": {},
     "output_type": "display_data"
    }
   ],
   "source": [
    "idx = f'S{2}'\n",
    "\n",
    "data = eda[eda['id'] == idx]\n",
    "plt.plot(data['datetime'], data['EDA'])\n",
    "plt.title('EDA of Table Containing' + f'{idx}')\n",
    "plt.xlabel('Datetime')\n",
    "plt.ylabel('EDA')\n",
    "plt.show()\n"
   ]
  },
  {
   "cell_type": "code",
   "execution_count": null,
   "metadata": {},
   "outputs": [],
   "source": []
  }
 ],
 "metadata": {
  "kernelspec": {
   "display_name": "Python 3",
   "language": "python",
   "name": "python3"
  },
  "language_info": {
   "codemirror_mode": {
    "name": "ipython",
    "version": 3
   },
   "file_extension": ".py",
   "mimetype": "text/x-python",
   "name": "python",
   "nbconvert_exporter": "python",
   "pygments_lexer": "ipython3",
   "version": "3.12.1"
  }
 },
 "nbformat": 4,
 "nbformat_minor": 2
}
