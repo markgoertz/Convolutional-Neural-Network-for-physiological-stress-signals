{
 "cells": [
  {
   "cell_type": "markdown",
   "metadata": {},
   "source": [
    "# Stress Signal Classification with Convolutional Neural Networks\n",
    "\n",
    "**Author:** [Mark Goertz](https://github.com/markgoertz)<br>\n",
    "**Date created:** 2024/04/04<br>\n",
    "**Last modified:** 2022/04/05<br>\n",
    "**Description:** Training a Convolutional model to classify stress signals produced by exposure to certain stimuli."
   ]
  },
  {
   "cell_type": "markdown",
   "metadata": {},
   "source": [
    "## Setup and Data Downloads\n",
    "\n",
    "First, lets install our dependencies:"
   ]
  },
  {
   "cell_type": "code",
   "execution_count": 98,
   "metadata": {},
   "outputs": [
    {
     "name": "stderr",
     "output_type": "stream",
     "text": [
      "ERROR: Could not find a version that satisfies the requirement os (from versions: none)\n",
      "ERROR: No matching distribution found for os\n"
     ]
    }
   ],
   "source": [
    "!pip install os -q\n",
    "!pip install pandas -q\n",
    "!pip install matplotlib -q"
   ]
  },
  {
   "cell_type": "code",
   "execution_count": 99,
   "metadata": {},
   "outputs": [],
   "source": [
    "import os\n",
    "import pandas as pd\n",
    "import matplotlib.pyplot as plt"
   ]
  },
  {
   "cell_type": "code",
   "execution_count": 100,
   "metadata": {},
   "outputs": [],
   "source": [
    "MAIN_PATH = 'D:/Master of Applied IT' \n",
    "DATA_SUBPATH = '/data'\n",
    "UNPROCESSED_PATH = MAIN_PATH + DATA_SUBPATH + '/unprocessed/WESAD'\n",
    "PROCESSED_PATH = MAIN_PATH + DATA_SUBPATH + '/processed/WESAD'"
   ]
  },
  {
   "cell_type": "markdown",
   "metadata": {},
   "source": [
    "This Python script is part of a data preprocessing pipeline, for a machine learning task. The script is designed to handle data from multiple folders and multiple files within each folder.\n",
    "\n",
    "The `minfolder` and `maxfolder` variables define the range of folders to be processed. The `folders` list generates a list of folder names in the format 'S2', 'S3', ..., 'S17'. This assumes that the folders are named in this specific format of the `WESAD` dataset.\n",
    "\n",
    "The `final_columns` dictionary defines the final column names for each type of data file (`'ACC'`, `'EDA'`, `'HR'`, `'TEMP'`). Each key-value pair in the dictionary corresponds to a specific type of data file and its associated columns.\n",
    "\n",
    "The `names` dictionary defines the column names for each type of data file in the `raw data`. This is used to map the raw data columns to the final column names defined in final_columns.\n",
    "\n",
    "The `desired_signals` list contains the names of the data files to be processed. This list is used to filter out any `unwanted data files` in the folders.\n",
    "\n",
    "Finally, four empty pandas DataFrames (`acc`, `eda`, `hr`, `temp`) are created with the column names defined in `final_columns`. These DataFrames will be used to store the processed data from each type of data file.\n",
    "\n",
    "The class declaration for range is a built-in Python class that represents an immutable sequence of numbers and is commonly used for looping a specific number of times in for loops. It's not directly used in the provided code, but it's used implicitly in the list comprehension when generating the folders list."
   ]
  },
  {
   "cell_type": "code",
   "execution_count": 101,
   "metadata": {},
   "outputs": [],
   "source": [
    "minfolder = 2\n",
    "maxfolder = 18\n",
    "folders = [f'S{i}' for i in range(minfolder, maxfolder)]\n",
    "\n",
    "final_columns = {\n",
    "    'ACC': ['id','X', 'Y', 'datetime'],\n",
    "    'EDA': ['id','EDA','datetime'],\n",
    "    'HR': ['id','HR','datetime'],\n",
    "    'TEMP': ['id','TEMP','datetime']\n",
    "}\n",
    "\n",
    "names = {\n",
    "    'ACC.csv': ['X', 'Y', 'Z'],\n",
    "    'EDA.csv': ['EDA'],\n",
    "    'HR.csv': ['HR'],\n",
    "    'TEMP.csv': ['TEMP']\n",
    "}\n",
    "\n",
    "desired_signals = ['ACC.csv', 'EDA.csv', 'HR.csv', 'TEMP.csv']\n",
    "acc = pd.DataFrame(columns=final_columns['ACC'])\n",
    "eda = pd.DataFrame(columns=final_columns['EDA'])\n",
    "hr = pd.DataFrame(columns=final_columns['HR'])\n",
    "temp = pd.DataFrame(columns=final_columns['TEMP'])"
   ]
  },
  {
   "cell_type": "markdown",
   "metadata": {},
   "source": [
    "The provided Python function `process_df(df, file)` is designed to process a DataFrame `df` and a file name `file`. The function performs several operations to transform the input DataFrame and returns the processed DataFrame.\n",
    "\n",
    "First, it extracts the `start_timestamp` and `sample_rate` from the first and second rows of the DataFrame, respectively. The `start_timestamp` is to be the first value in the DataFrame, and the `sample_rate` is the first value in the second row. These values are accessed using the iloc indexer of the DataFrame, which allows selection by position.\n",
    "\n",
    "Next, it creates a new DataFrame called: `new_df` from the input DataFrame, skipping the first two rows. This is done by slicing the DataFrame with `df.iloc[2:]` to exclude the first two rows, and then creating a new DataFrame with the same column names as the original DataFrame.\n",
    "\n",
    "The function then adds two new columns to `new_df`: 'id' and 'datetime'. The 'id' column is created by extracting the last two characters from the file name. The 'datetime' column is created by adding a time delta to the start_timestamp for each row in the DataFrame. The time delta is calculated as the row index divided by the sample_rate, which assumes that the data is sampled at regular intervals."
   ]
  },
  {
   "cell_type": "code",
   "execution_count": 102,
   "metadata": {},
   "outputs": [],
   "source": [
    "def process_df(df, file):\n",
    "    start_timestamp = df.iloc[0, 0]  # Accessing first row, first column\n",
    "    sample_rate = df.iloc[1, 0]\n",
    "    new_df = pd.DataFrame(df.iloc[2:].values, columns=df.columns)  # skip first two rows\n",
    "    new_df['id'] = file[-2:]\n",
    "    new_df['datetime'] = [(start_timestamp + i/sample_rate) for i in range(len(new_df))]\n",
    "    if sample_rate > 4:\n",
    "        ds_factor = int(sample_rate / 4)\n",
    "        new_df = new_df.iloc[::ds_factor, :]\n",
    "    return new_df\n",
    "    "
   ]
  },
  {
   "cell_type": "markdown",
   "metadata": {},
   "source": [
    "## Read data from `unprocessed folder`\n",
    "\n",
    "We use the Pandas library to read the `unprocessed folder` to extract each measurement such as: `ACC`, `EDA`, `HR`, `TEMP` and process it to `processed` folder to use it in a later analysis.\n"
   ]
  },
  {
   "cell_type": "code",
   "execution_count": 103,
   "metadata": {},
   "outputs": [
    {
     "name": "stdout",
     "output_type": "stream",
     "text": [
      "Currently processing folder: S2\n"
     ]
    },
    {
     "name": "stderr",
     "output_type": "stream",
     "text": [
      "C:\\Users\\goert\\AppData\\Local\\Temp\\ipykernel_5648\\278731602.py:10: FutureWarning: The behavior of DataFrame concatenation with empty or all-NA entries is deprecated. In a future version, this will no longer exclude empty or all-NA columns when determining the result dtypes. To retain the old behavior, exclude the relevant entries before the concat operation.\n",
      "  acc = pd.concat([acc, process_df(df, folder)])\n",
      "C:\\Users\\goert\\AppData\\Local\\Temp\\ipykernel_5648\\278731602.py:12: FutureWarning: The behavior of DataFrame concatenation with empty or all-NA entries is deprecated. In a future version, this will no longer exclude empty or all-NA columns when determining the result dtypes. To retain the old behavior, exclude the relevant entries before the concat operation.\n",
      "  eda = pd.concat([eda, process_df(df, folder)])\n",
      "C:\\Users\\goert\\AppData\\Local\\Temp\\ipykernel_5648\\278731602.py:14: FutureWarning: The behavior of DataFrame concatenation with empty or all-NA entries is deprecated. In a future version, this will no longer exclude empty or all-NA columns when determining the result dtypes. To retain the old behavior, exclude the relevant entries before the concat operation.\n",
      "  hr = pd.concat([hr, process_df(df, folder)])\n",
      "C:\\Users\\goert\\AppData\\Local\\Temp\\ipykernel_5648\\278731602.py:16: FutureWarning: The behavior of DataFrame concatenation with empty or all-NA entries is deprecated. In a future version, this will no longer exclude empty or all-NA columns when determining the result dtypes. To retain the old behavior, exclude the relevant entries before the concat operation.\n",
      "  temp = pd.concat([temp, process_df(df, folder)])\n"
     ]
    },
    {
     "name": "stdout",
     "output_type": "stream",
     "text": [
      "Currently processing folder: S3\n",
      "Currently processing folder: S4\n",
      "Currently processing folder: S5\n",
      "Currently processing folder: S6\n",
      "Currently processing folder: S7\n",
      "Currently processing folder: S8\n",
      "Currently processing folder: S9\n",
      "Currently processing folder: S10\n",
      "Currently processing folder: S11\n",
      "Currently processing folder: S12\n",
      "Currently processing folder: S13\n",
      "Currently processing folder: S14\n",
      "Currently processing folder: S15\n",
      "Currently processing folder: S16\n",
      "Currently processing folder: S17\n"
     ]
    }
   ],
   "source": [
    "for folder in folders:\n",
    "    print(f\"Currently processing folder: {folder}\")\n",
    "    folder_path = os.path.join(UNPROCESSED_PATH, folder)\n",
    "    for signal in desired_signals:\n",
    "        signal_path = os.path.join(folder_path, signal)\n",
    "        if os.path.isfile(signal_path):\n",
    "            df = pd.read_csv(signal_path, names=names[signal], header=None)\n",
    "            if not df.empty:\n",
    "                if signal == 'ACC.csv':\n",
    "                    acc = pd.concat([acc, process_df(df, folder)])\n",
    "                elif signal == 'EDA.csv':\n",
    "                    eda = pd.concat([eda, process_df(df, folder)])\n",
    "                elif signal == 'HR.csv':\n",
    "                    hr = pd.concat([hr, process_df(df, folder)])\n",
    "                elif signal == 'TEMP.csv':\n",
    "                    temp = pd.concat([temp, process_df(df, folder)])"
   ]
  },
  {
   "cell_type": "code",
   "execution_count": 104,
   "metadata": {},
   "outputs": [
    {
     "name": "stdout",
     "output_type": "stream",
     "text": [
      "Saving combined_acc.csv...\n",
      "Saving combined_eda.csv...\n",
      "Saving combined_hr.csv...\n",
      "Saving combined_temp.csv...\n"
     ]
    }
   ],
   "source": [
    "dataframes = [acc, eda, hr, temp]\n",
    "filenames = ['combined_acc.csv', 'combined_eda.csv', 'combined_hr.csv', 'combined_temp.csv']\n",
    "\n",
    "# Create the directory if it doesn't exist\n",
    "os.makedirs(PROCESSED_PATH, exist_ok=True)\n",
    "\n",
    "for df, filename in zip(dataframes, filenames):\n",
    "    print(f\"Saving {filename}...\")\n",
    "    df.to_csv(os.path.join(PROCESSED_PATH, filename), index=False)"
   ]
  },
  {
   "cell_type": "markdown",
   "metadata": {},
   "source": [
    "## Visualize one sample from the data"
   ]
  },
  {
   "cell_type": "markdown",
   "metadata": {},
   "source": [
    "Checking if the file exists and visual one sample of the data"
   ]
  },
  {
   "cell_type": "code",
   "execution_count": 105,
   "metadata": {},
   "outputs": [
    {
     "data": {
      "text/html": [
       "<div>\n",
       "<style scoped>\n",
       "    .dataframe tbody tr th:only-of-type {\n",
       "        vertical-align: middle;\n",
       "    }\n",
       "\n",
       "    .dataframe tbody tr th {\n",
       "        vertical-align: top;\n",
       "    }\n",
       "\n",
       "    .dataframe thead th {\n",
       "        text-align: right;\n",
       "    }\n",
       "</style>\n",
       "<table border=\"1\" class=\"dataframe\">\n",
       "  <thead>\n",
       "    <tr style=\"text-align: right;\">\n",
       "      <th></th>\n",
       "      <th>id</th>\n",
       "      <th>HR</th>\n",
       "      <th>datetime</th>\n",
       "    </tr>\n",
       "  </thead>\n",
       "  <tbody>\n",
       "    <tr>\n",
       "      <th>0</th>\n",
       "      <td>S2</td>\n",
       "      <td>101.00</td>\n",
       "      <td>1.495437e+09</td>\n",
       "    </tr>\n",
       "    <tr>\n",
       "      <th>1</th>\n",
       "      <td>S2</td>\n",
       "      <td>106.50</td>\n",
       "      <td>1.495437e+09</td>\n",
       "    </tr>\n",
       "    <tr>\n",
       "      <th>2</th>\n",
       "      <td>S2</td>\n",
       "      <td>95.33</td>\n",
       "      <td>1.495437e+09</td>\n",
       "    </tr>\n",
       "    <tr>\n",
       "      <th>3</th>\n",
       "      <td>S2</td>\n",
       "      <td>90.25</td>\n",
       "      <td>1.495437e+09</td>\n",
       "    </tr>\n",
       "    <tr>\n",
       "      <th>4</th>\n",
       "      <td>S2</td>\n",
       "      <td>88.20</td>\n",
       "      <td>1.495437e+09</td>\n",
       "    </tr>\n",
       "  </tbody>\n",
       "</table>\n",
       "</div>"
      ],
      "text/plain": [
       "   id      HR      datetime\n",
       "0  S2  101.00  1.495437e+09\n",
       "1  S2  106.50  1.495437e+09\n",
       "2  S2   95.33  1.495437e+09\n",
       "3  S2   90.25  1.495437e+09\n",
       "4  S2   88.20  1.495437e+09"
      ]
     },
     "execution_count": 105,
     "metadata": {},
     "output_type": "execute_result"
    }
   ],
   "source": [
    "signal = \"HR\"\n",
    "data = pd.read_csv(PROCESSED_PATH + \"/combined_\" + signal + \".csv\")\n",
    "data.head()"
   ]
  },
  {
   "cell_type": "code",
   "execution_count": 106,
   "metadata": {},
   "outputs": [
    {
     "data": {
      "image/png": "[encoded data removed]",
      "text/plain": [
       "<Figure size 640x480 with 1 Axes>"
      ]
     },
     "metadata": {},
     "output_type": "display_data"
    }
   ],
   "source": [
    "#id of one of the subjects\n",
    "idx = f'S{4}'\n",
    "\n",
    "dataset = data[data['id'] == idx]\n",
    "plt.plot(dataset['datetime'], dataset[f'{signal}'])\n",
    "plt.title(f'{signal} Table of dataset: ' + f'{idx}')\n",
    "plt.xlabel('Datetime')\n",
    "plt.ylabel('EDA')\n",
    "plt.show()\n"
   ]
  }
 ],
 "metadata": {
  "kernelspec": {
   "display_name": "Python 3",
   "language": "python",
   "name": "python3"
  },
  "language_info": {
   "codemirror_mode": {
    "name": "ipython",
    "version": 3
   },
   "file_extension": ".py",
   "mimetype": "text/x-python",
   "name": "python",
   "nbconvert_exporter": "python",
   "pygments_lexer": "ipython3",
   "version": "3.12.1"
  }
 },
 "nbformat": 4,
 "nbformat_minor": 2
}
