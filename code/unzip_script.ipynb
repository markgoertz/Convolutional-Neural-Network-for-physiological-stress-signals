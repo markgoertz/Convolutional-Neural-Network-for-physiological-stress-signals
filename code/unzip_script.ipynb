{
 "cells": [
  {
   "cell_type": "code",
   "execution_count": 1,
   "metadata": {},
   "outputs": [],
   "source": [
    "import os\n",
    "import pickle\n",
    "import shutil\n",
    "import pandas as pd\n",
    "import numpy as np\n",
    "from scipy.stats import mode\n",
    "from scipy.signal import decimate\n"
   ]
  },
  {
   "cell_type": "code",
   "execution_count": 2,
   "metadata": {},
   "outputs": [],
   "source": [
    "MAIN_PATH = os.path.dirname(os.getcwd())\n",
    "DATA_SUBPATH = '/data'\n",
    "DATASET_PATH = MAIN_PATH + DATA_SUBPATH + '/unzip/WESAD'\n",
    "UNPROCESSED_PATH = MAIN_PATH + DATA_SUBPATH + '/unprocessed/WESAD'"
   ]
  },
  {
   "cell_type": "code",
   "execution_count": 3,
   "metadata": {},
   "outputs": [],
   "source": [
    "TARGET_RATE_4 = 4\n",
    "TARGET_RATE_32 = 32\n",
    "\n",
    "ORIGINAL_LABEL_RATE = 700"
   ]
  },
  {
   "cell_type": "code",
   "execution_count": 4,
   "metadata": {},
   "outputs": [
    {
     "name": "stdout",
     "output_type": "stream",
     "text": [
      "['S2', 'S3', 'S4', 'S5', 'S6', 'S7', 'S8', 'S9', 'S10', 'S11', 'S12', 'S13', 'S14', 'S15', 'S16', 'S17']\n"
     ]
    }
   ],
   "source": [
    "minfolder = 2\n",
    "maxfolder = 18\n",
    "folders = [f'S{i}' for i in range(minfolder, maxfolder)]\n",
    "print(folders)"
   ]
  },
  {
   "cell_type": "markdown",
   "metadata": {},
   "source": [
    "This process unpacking the zip files can take up to 3 minutes. Depending on the computational power available."
   ]
  },
  {
   "cell_type": "code",
   "execution_count": 5,
   "metadata": {},
   "outputs": [],
   "source": [
    "shutil.unpack_archive(MAIN_PATH + DATA_SUBPATH + '/WESAD.zip', MAIN_PATH + DATA_SUBPATH + '/unzip')"
   ]
  },
  {
   "cell_type": "code",
   "execution_count": 6,
   "metadata": {},
   "outputs": [
    {
     "name": "stdout",
     "output_type": "stream",
     "text": [
      "['c:\\\\Master of Applied IT/data/unzip/WESAD/S2/S2_E4_Data.zip', 'c:\\\\Master of Applied IT/data/unzip/WESAD/S3/S3_E4_Data.zip', 'c:\\\\Master of Applied IT/data/unzip/WESAD/S4/S4_E4_Data.zip', 'c:\\\\Master of Applied IT/data/unzip/WESAD/S5/S5_E4_Data.zip', 'c:\\\\Master of Applied IT/data/unzip/WESAD/S6/S6_E4_Data.zip', 'c:\\\\Master of Applied IT/data/unzip/WESAD/S7/S7_E4_Data.zip', 'c:\\\\Master of Applied IT/data/unzip/WESAD/S8/S8_E4_Data.zip', 'c:\\\\Master of Applied IT/data/unzip/WESAD/S9/S9_E4_Data.zip', 'c:\\\\Master of Applied IT/data/unzip/WESAD/S10/S10_E4_Data.zip', 'c:\\\\Master of Applied IT/data/unzip/WESAD/S11/S11_E4_Data.zip', 'c:\\\\Master of Applied IT/data/unzip/WESAD/S12/S12_E4_Data.zip', 'c:\\\\Master of Applied IT/data/unzip/WESAD/S13/S13_E4_Data.zip', 'c:\\\\Master of Applied IT/data/unzip/WESAD/S14/S14_E4_Data.zip', 'c:\\\\Master of Applied IT/data/unzip/WESAD/S15/S15_E4_Data.zip', 'c:\\\\Master of Applied IT/data/unzip/WESAD/S16/S16_E4_Data.zip', 'c:\\\\Master of Applied IT/data/unzip/WESAD/S17/S17_E4_Data.zip']\n"
     ]
    }
   ],
   "source": [
    "data_folders = []\n",
    "for subfolder in folders:\n",
    "    data_folders.append(f\"{MAIN_PATH}{DATA_SUBPATH}/unzip/WESAD/{subfolder}/{subfolder}_E4_Data.zip\")\n",
    "print(data_folders)"
   ]
  },
  {
   "cell_type": "code",
   "execution_count": 7,
   "metadata": {},
   "outputs": [
    {
     "name": "stdout",
     "output_type": "stream",
     "text": [
      "Preparing folder: S2\n",
      "Preparing folder: S3\n",
      "Preparing folder: S4\n",
      "Preparing folder: S5\n",
      "Preparing folder: S6\n",
      "Preparing folder: S7\n",
      "Preparing folder: S8\n",
      "Preparing folder: S9\n",
      "Preparing folder: S10\n",
      "Preparing folder: S11\n",
      "Skipping c:\\Master of Applied IT/data/unzip/WESAD/S12/S12_E4_Data.zip as it is not a zip file or missing.\n",
      "Preparing folder: S13\n",
      "Preparing folder: S14\n",
      "Preparing folder: S15\n",
      "Preparing folder: S16\n",
      "Preparing folder: S17\n",
      "Finished unzipping and preparing files.\n"
     ]
    }
   ],
   "source": [
    "for folder, data_folder in zip(folders, data_folders):\n",
    "    try:\n",
    "        shutil.unpack_archive(data_folder, os.path.join(UNPROCESSED_PATH, f'{folder}'))\n",
    "        print(\"Preparing folder:\", folder)\n",
    "    except shutil.ReadError:\n",
    "        print(f\"Skipping {data_folder} as it is not a zip file or missing.\")\n",
    "\n",
    "print(\"Finished unzipping and preparing files.\")"
   ]
  },
  {
   "cell_type": "code",
   "execution_count": 8,
   "metadata": {},
   "outputs": [],
   "source": [
    "def create_destination_folder(destination_folder, folder):\n",
    "    \"\"\"Create the destination folder if it doesn't exist.\"\"\"\n",
    "    destination_path = os.path.join(destination_folder, folder)\n",
    "    os.makedirs(destination_path, exist_ok=True)\n",
    "    return destination_path\n",
    "\n",
    "def downsample_signal_with_filter(signal, original_rate, target_rate):\n",
    "    \"\"\"Downsample a signal with anti-aliasing filter using scipy's decimate.\"\"\"\n",
    "    decimation_factor = original_rate // target_rate\n",
    "    if decimation_factor > 1:\n",
    "        return decimate(signal, decimation_factor, zero_phase=True)\n",
    "    return signal\n",
    "\n",
    "def downsample_labels(labels, original_rate, target_rate):\n",
    "    \"\"\"Downsample labels using mode filtering.\"\"\"\n",
    "    decimation_factor = (original_rate // target_rate)\n",
    "    print(f'decimation_factor: {decimation_factor}')\n",
    "\n",
    "    downsampled_labels = []\n",
    "    for i in range(0, len(labels), decimation_factor):\n",
    "        segment = labels[i:i + decimation_factor]\n",
    "        mode_value, _ = mode(segment)  # Extract mode value\n",
    "        downsampled_labels.append(mode_value)\n",
    "        \n",
    "    return np.array(downsampled_labels)\n"
   ]
  },
  {
   "cell_type": "code",
   "execution_count": 11,
   "metadata": {},
   "outputs": [
    {
     "name": "stdout",
     "output_type": "stream",
     "text": [
      "decimation_factor: 175\n",
      "ACC Lengths: X=24316, Y=24316, Z=24316\n",
      "BVP Length: 24316\n",
      "EDA Length (with NaNs): 24316\n",
      "TEMP Length (with NaNs): 24316\n",
      "Labels Length: 24316\n",
      "Saved wrist data: c:\\Master of Applied IT/data/unprocessed/WESAD\\S2/wrist\\S2.csv\n"
     ]
    }
   ],
   "source": [
    "TARGET_RATE = 4  # 32Hz target rate\n",
    "\n",
    "def process_wrist_signals(folder):\n",
    "    \"\"\"Process wrist signals and save them with time as the index.\"\"\"\n",
    "    destination_path = create_destination_folder(UNPROCESSED_PATH, folder + '/wrist')\n",
    "    \n",
    "    # Open the pickle file\n",
    "    source_path = os.path.join(DATASET_PATH, folder, f'{folder}.pkl')\n",
    "    if not os.path.exists(source_path):\n",
    "        print(f\"Skipping {source_path} as it does not exist.\")\n",
    "        return\n",
    "    \n",
    "    with open(source_path, 'rb') as file:\n",
    "        data = pickle.load(file, encoding='latin1')\n",
    "        \n",
    "        # Extract wrist signals\n",
    "        signals = data['signal']['wrist']\n",
    "        w_x = signals['ACC'][:, 0]          \n",
    "        w_y = signals['ACC'][:, 1]          \n",
    "        w_z = signals['ACC'][:, 2]          \n",
    "        w_bvp = signals['BVP'][:, 0]  \n",
    "        w_eda = signals['EDA'][:, 0]   \n",
    "        w_temp = signals['TEMP'][:, 0]    \n",
    "        labels = data['label']\n",
    "\n",
    "        # Downsample labels from 700 Hz to 32 Hz\n",
    "        downsampled_labels = downsample_labels(labels, 700, TARGET_RATE)\n",
    "        w_ax_resampled = downsample_signal_with_filter(w_x, 32, TARGET_RATE)\n",
    "        w_ay_resampled = downsample_signal_with_filter(w_y, 32, TARGET_RATE)\n",
    "        w_az_resampled = downsample_signal_with_filter(w_z, 32, TARGET_RATE)\n",
    "\n",
    "        w_bvp_resampled = downsample_signal_with_filter(w_bvp, 64, TARGET_RATE)\n",
    "\n",
    "        # Print lengths for debugging\n",
    "        print(f\"ACC Lengths: X={len(w_ax_resampled)}, Y={len(w_ay_resampled)}, Z={len(w_az_resampled)}\")\n",
    "        print(f\"BVP Length: {len(w_bvp_resampled)}\")\n",
    "        print(f\"EDA Length (with NaNs): {len(w_eda)}\")\n",
    "        print(f\"TEMP Length (with NaNs): {len(w_temp)}\")\n",
    "        print(f\"Labels Length: {len(downsampled_labels)}\")\n",
    "\n",
    "\n",
    "\n",
    "        # Create DataFrame with all wrist signals\n",
    "        wrist_signals = np.array([w_ax_resampled, w_ay_resampled, w_az_resampled, w_bvp_resampled, w_eda, w_temp, downsampled_labels]).T\n",
    "        df_wrist = pd.DataFrame(data=wrist_signals, columns=[\"X\", \"Y\", \"Z\", \"BVP\", \"EDA\", \"TEMP\", \"labels\"]) \n",
    "        df_wrist['ID'] = folder\n",
    "        \n",
    "        # Create time index (based on sampling rate)\n",
    "        df_wrist['Time'] = np.arange(len(downsampled_labels)) / TARGET_RATE\n",
    "    \n",
    "        # Set 'Time' as the index\n",
    "        df_wrist.set_index('Time', inplace=True)\n",
    "\n",
    "        # Replace unwanted label values\n",
    "        df_wrist['labels'] = df_wrist['labels'].replace([1, 3, 4, 5, 6, 7], 0)\n",
    "\n",
    "        # Save the DataFrame as a CSV file\n",
    "        csv_path_wrist = os.path.join(destination_path, f'{folder}.csv')\n",
    "        df_wrist.to_csv(csv_path_wrist, index=True)  # 'index=True' will now save 'Time' as the index\n",
    "        print(f\"Saved wrist data: {csv_path_wrist}\")\n",
    "\n",
    "        return w_bvp\n",
    "    \n",
    "# Example call to process a folder\n",
    "w_bvp = process_wrist_signals('S2')"
   ]
  },
  {
   "cell_type": "code",
   "execution_count": 10,
   "metadata": {},
   "outputs": [],
   "source": [
    "def process_chest_signals(folder):\n",
    "    \"\"\"Process chest signals and save them.\"\"\"\n",
    "    destination_path = create_destination_folder(UNPROCESSED_PATH , folder +'/chest')\n",
    "    \n",
    "    # Open the pickle file\n",
    "    source_path = os.path.join(DATASET_PATH, folder, f'{folder}.pkl')\n",
    "    if not os.path.exists(source_path):\n",
    "        print(f\"Skipping {source_path} as it does not exist.\")\n",
    "        return\n",
    "    \n",
    "    with open(source_path, 'rb') as file:\n",
    "        data = pickle.load(file, encoding='latin1')\n",
    "        \n",
    "        # Extract chest signals\n",
    "        signals = data['signal']['chest']\n",
    "        c_ecg = signals['ECG'][:, 0]     \n",
    "        c_eda = signals['EDA'][:, 0]     \n",
    "        c_emg = signals['EMG'][:, 0]     \n",
    "        c_temp = signals['Temp'][:, 0]   \n",
    "        c_resp = signals['Resp'][:, 0]   \n",
    "        c_x = signals['ACC'][:, 0]       \n",
    "        c_y = signals['ACC'][:, 1]       \n",
    "        c_z = signals['ACC'][:, 2]       \n",
    "        labels = data['label']           \n",
    "        \n",
    "        # Create DataFrame with all chest signals\n",
    "        chest_signals = np.array([c_ecg, c_eda, c_emg, c_temp, c_resp, c_x, c_y, c_z, labels]).T\n",
    "        df_chest = pd.DataFrame(data=chest_signals, columns=[\"ECG\", \"EDA\", \"EMG\", \"TEMP\", \"RESP\", \"X\", \"Y\", \"Z\", \"labels\"]) \n",
    "        df_chest['ID'] = folder\n",
    "        df_chest['Time'] = np.arange(len(labels)) / 700\n",
    "        df_chest['labels'] = df_chest['labels'].replace([5, 6, 7], 0)\n",
    "        \n",
    "        # Save the DataFrame as a CSV file\n",
    "        csv_path_chest = os.path.join(destination_path, f'{folder}.csv')\n",
    "        df_chest.to_csv(csv_path_chest, index=False)\n",
    "        print(f\"Saved chest data: {csv_path_chest}\")"
   ]
  },
  {
   "cell_type": "code",
   "execution_count": 12,
   "metadata": {},
   "outputs": [
    {
     "name": "stdout",
     "output_type": "stream",
     "text": [
      "decimation_factor: 175\n",
      "ACC Lengths: X=24316, Y=24316, Z=24316\n",
      "BVP Length: 24316\n",
      "EDA Length (with NaNs): 24316\n",
      "TEMP Length (with NaNs): 24316\n",
      "Labels Length: 24316\n",
      "Saved wrist data: c:\\Master of Applied IT/data/unprocessed/WESAD\\S2/wrist\\S2.csv\n",
      "decimation_factor: 175\n",
      "ACC Lengths: X=25972, Y=25972, Z=25972\n",
      "BVP Length: 25972\n",
      "EDA Length (with NaNs): 25972\n",
      "TEMP Length (with NaNs): 25972\n",
      "Labels Length: 25972\n",
      "Saved wrist data: c:\\Master of Applied IT/data/unprocessed/WESAD\\S3/wrist\\S3.csv\n",
      "decimation_factor: 175\n",
      "ACC Lengths: X=25692, Y=25692, Z=25692\n",
      "BVP Length: 25692\n",
      "EDA Length (with NaNs): 25692\n",
      "TEMP Length (with NaNs): 25692\n",
      "Labels Length: 25692\n",
      "Saved wrist data: c:\\Master of Applied IT/data/unprocessed/WESAD\\S4/wrist\\S4.csv\n",
      "decimation_factor: 175\n",
      "ACC Lengths: X=25032, Y=25032, Z=25032\n",
      "BVP Length: 25032\n",
      "EDA Length (with NaNs): 25032\n",
      "TEMP Length (with NaNs): 25032\n",
      "Labels Length: 25032\n",
      "Saved wrist data: c:\\Master of Applied IT/data/unprocessed/WESAD\\S5/wrist\\S5.csv\n",
      "decimation_factor: 175\n",
      "ACC Lengths: X=28284, Y=28284, Z=28284\n",
      "BVP Length: 28284\n",
      "EDA Length (with NaNs): 28284\n",
      "TEMP Length (with NaNs): 28284\n",
      "Labels Length: 28284\n",
      "Saved wrist data: c:\\Master of Applied IT/data/unprocessed/WESAD\\S6/wrist\\S6.csv\n",
      "decimation_factor: 175\n",
      "ACC Lengths: X=20952, Y=20952, Z=20952\n",
      "BVP Length: 20952\n",
      "EDA Length (with NaNs): 20952\n",
      "TEMP Length (with NaNs): 20952\n",
      "Labels Length: 20952\n",
      "Saved wrist data: c:\\Master of Applied IT/data/unprocessed/WESAD\\S7/wrist\\S7.csv\n",
      "decimation_factor: 175\n",
      "ACC Lengths: X=21864, Y=21864, Z=21864\n",
      "BVP Length: 21864\n",
      "EDA Length (with NaNs): 21864\n",
      "TEMP Length (with NaNs): 21864\n",
      "Labels Length: 21864\n",
      "Saved wrist data: c:\\Master of Applied IT/data/unprocessed/WESAD\\S8/wrist\\S8.csv\n",
      "decimation_factor: 175\n",
      "ACC Lengths: X=20892, Y=20892, Z=20892\n",
      "BVP Length: 20892\n",
      "EDA Length (with NaNs): 20892\n",
      "TEMP Length (with NaNs): 20892\n",
      "Labels Length: 20892\n",
      "Saved wrist data: c:\\Master of Applied IT/data/unprocessed/WESAD\\S9/wrist\\S9.csv\n",
      "decimation_factor: 175\n",
      "ACC Lengths: X=21984, Y=21984, Z=21984\n",
      "BVP Length: 21984\n",
      "EDA Length (with NaNs): 21984\n",
      "TEMP Length (with NaNs): 21984\n",
      "Labels Length: 21984\n",
      "Saved wrist data: c:\\Master of Applied IT/data/unprocessed/WESAD\\S10/wrist\\S10.csv\n",
      "decimation_factor: 175\n",
      "ACC Lengths: X=20932, Y=20932, Z=20932\n",
      "BVP Length: 20932\n",
      "EDA Length (with NaNs): 20932\n",
      "TEMP Length (with NaNs): 20932\n",
      "Labels Length: 20932\n",
      "Saved wrist data: c:\\Master of Applied IT/data/unprocessed/WESAD\\S11/wrist\\S11.csv\n",
      "Skipping c:\\Master of Applied IT/data/unzip/WESAD\\S12\\S12.pkl as it does not exist.\n",
      "decimation_factor: 175\n",
      "ACC Lengths: X=22148, Y=22148, Z=22148\n",
      "BVP Length: 22148\n",
      "EDA Length (with NaNs): 22148\n",
      "TEMP Length (with NaNs): 22148\n",
      "Labels Length: 22148\n",
      "Saved wrist data: c:\\Master of Applied IT/data/unprocessed/WESAD\\S13/wrist\\S13.csv\n",
      "decimation_factor: 175\n",
      "ACC Lengths: X=22192, Y=22192, Z=22192\n",
      "BVP Length: 22192\n",
      "EDA Length (with NaNs): 22192\n",
      "TEMP Length (with NaNs): 22192\n",
      "Labels Length: 22192\n",
      "Saved wrist data: c:\\Master of Applied IT/data/unprocessed/WESAD\\S14/wrist\\S14.csv\n",
      "decimation_factor: 175\n",
      "ACC Lengths: X=21008, Y=21008, Z=21008\n",
      "BVP Length: 21008\n",
      "EDA Length (with NaNs): 21008\n",
      "TEMP Length (with NaNs): 21008\n",
      "Labels Length: 21008\n",
      "Saved wrist data: c:\\Master of Applied IT/data/unprocessed/WESAD\\S15/wrist\\S15.csv\n",
      "decimation_factor: 175\n",
      "ACC Lengths: X=22524, Y=22524, Z=22524\n",
      "BVP Length: 22524\n",
      "EDA Length (with NaNs): 22524\n",
      "TEMP Length (with NaNs): 22524\n",
      "Labels Length: 22524\n",
      "Saved wrist data: c:\\Master of Applied IT/data/unprocessed/WESAD\\S16/wrist\\S16.csv\n",
      "decimation_factor: 175\n",
      "ACC Lengths: X=23680, Y=23680, Z=23680\n",
      "BVP Length: 23680\n",
      "EDA Length (with NaNs): 23680\n",
      "TEMP Length (with NaNs): 23680\n",
      "Labels Length: 23680\n",
      "Saved wrist data: c:\\Master of Applied IT/data/unprocessed/WESAD\\S17/wrist\\S17.csv\n"
     ]
    }
   ],
   "source": [
    "# Iterate over the folders and process wrist and chest signals\n",
    "for folder in folders:\n",
    "    process_wrist_signals(folder)"
   ]
  },
  {
   "cell_type": "code",
   "execution_count": 12,
   "metadata": {},
   "outputs": [
    {
     "data": {
      "image/png": "[encoded data removed]",
      "text/plain": [
       "<Figure size 640x480 with 1 Axes>"
      ]
     },
     "metadata": {},
     "output_type": "display_data"
    }
   ],
   "source": [
    "import matplotlib.pyplot as plt\n",
    "\n",
    "# Read the merged data CSV file\n",
    "merged_df = pd.read_csv('C:\\Master of Applied IT\\data\\merged_data.csv')\n",
    "# Filter data for ID S2\n",
    "s2_data = merged_df[merged_df['ID'] == 'S2']\n",
    "\n",
    "# Plot EDA vs Time\n",
    "plt.plot(s2_data['Time'], s2_data['w_eda'], color='blue')\n",
    "\n",
    "# Highlight moments of stress where label is 2\n",
    "stress_times = s2_data['Time'][s2_data['downsampled_labels'] == 2]\n",
    "for stress_time in stress_times:\n",
    "    plt.axvline(x=stress_time, color='red', linestyle='--', alpha=0.7)\n",
    "\n",
    "plt.xlabel('Time')\n",
    "plt.ylabel('EDA')\n",
    "plt.title('EDA vs Time for ID S2')\n",
    "plt.show()"
   ]
  },
  {
   "cell_type": "code",
   "execution_count": 16,
   "metadata": {},
   "outputs": [
    {
     "name": "stderr",
     "output_type": "stream",
     "text": [
      "c:\\Users\\goert\\.conda\\envs\\tf\\lib\\site-packages\\IPython\\core\\pylabtools.py:152: UserWarning: Creating legend with loc=\"best\" can be slow with large amounts of data.\n",
      "  fig.canvas.print_figure(bytes_io, **kw)\n"
     ]
    },
    {
     "data": {
      "image/png": "[encoded data removed]",
      "text/plain": [
       "<Figure size 1200x600 with 1 Axes>"
      ]
     },
     "metadata": {},
     "output_type": "display_data"
    }
   ],
   "source": [
    "import pandas as pd\n",
    "import matplotlib.pyplot as plt\n",
    "\n",
    "# Load the data from the CSV file\n",
    "file_path = 'C:/Master of Applied IT/data/unprocessed/WESAD/S2/wrist/S2.csv'\n",
    "df = pd.read_csv(file_path)\n",
    "\n",
    "# Plot EDA vs Time\n",
    "plt.figure(figsize=(12, 6))\n",
    "plt.plot(df['Time'], df['EDA'], label='EDA (4Hz)', color='blue')\n",
    "\n",
    "# Highlight moments of stress where label is 2\n",
    "stress_times = df['Time'][df['labels'] == 2]\n",
    "for stress_time in stress_times:\n",
    "    plt.axvline(x=stress_time, color='red', linestyle='--', alpha=0.7)\n",
    "\n",
    "plt.xlabel('Time (s)')\n",
    "plt.ylabel('EDA')\n",
    "plt.title('EDA vs Time for S2')\n",
    "plt.legend()\n",
    "plt.show()"
   ]
  },
  {
   "cell_type": "code",
   "execution_count": 191,
   "metadata": {},
   "outputs": [
    {
     "name": "stdout",
     "output_type": "stream",
     "text": [
      "Wrist file does not exist: c:\\Master of Applied IT/data/unprocessed/WESAD\\S12\\wrist\\S12.csv\n",
      "Chest file does not exist: c:\\Master of Applied IT/data/unprocessed/WESAD\\S12\\chest\\S12.csv\n",
      "Merged wrist data saved as: c:\\Master of Applied IT/data\\wrist_merged_data.csv\n",
      "Merged chest data saved as: c:\\Master of Applied IT/data\\chest_merged_data.csv\n"
     ]
    }
   ],
   "source": [
    "# Create empty DataFrames to store the merged wrist and chest data\n",
    "merged_wrist_df = pd.DataFrame()\n",
    "merged_chest_df = pd.DataFrame()\n",
    "\n",
    "# Loop through the folders and merge the wrist and chest CSV files\n",
    "for folder in folders:\n",
    "    wrist_file_path = os.path.join(UNPROCESSED_PATH, folder, 'wrist', f'{folder}.csv')\n",
    "    chest_file_path = os.path.join(UNPROCESSED_PATH, folder, 'chest', f'{folder}.csv')\n",
    "    \n",
    "    if os.path.exists(wrist_file_path):\n",
    "        wrist_df = pd.read_csv(wrist_file_path)\n",
    "        merged_wrist_df = pd.concat([merged_wrist_df, wrist_df], ignore_index=True)\n",
    "    else:\n",
    "        print(\"Wrist file does not exist:\", wrist_file_path)\n",
    "    \n",
    "    if os.path.exists(chest_file_path):\n",
    "        chest_df = pd.read_csv(chest_file_path)\n",
    "        merged_chest_df = pd.concat([merged_chest_df, chest_df], ignore_index=True)\n",
    "    else:\n",
    "        print(\"Chest file does not exist:\", chest_file_path)\n",
    "\n",
    "# Save the merged wrist DataFrame as a CSV file\n",
    "merged_wrist_file_path = os.path.join(MAIN_PATH + DATA_SUBPATH, 'wrist_merged_data.csv')\n",
    "merged_wrist_df.to_csv(merged_wrist_file_path, index=False)\n",
    "print(\"Merged wrist data saved as:\", merged_wrist_file_path)\n",
    "\n",
    "# Save the merged chest DataFrame as a CSV file\n",
    "merged_chest_file_path = os.path.join(MAIN_PATH + DATA_SUBPATH, 'chest_merged_data.csv')\n",
    "merged_chest_df.to_csv(merged_chest_file_path, index=False)\n",
    "print(\"Merged chest data saved as:\", merged_chest_file_path)\n"
   ]
  },
  {
   "cell_type": "code",
   "execution_count": null,
   "metadata": {},
   "outputs": [],
   "source": []
  }
 ],
 "metadata": {
  "kernelspec": {
   "display_name": "tf",
   "language": "python",
   "name": "python3"
  },
  "language_info": {
   "codemirror_mode": {
    "name": "ipython",
    "version": 3
   },
   "file_extension": ".py",
   "mimetype": "text/x-python",
   "name": "python",
   "nbconvert_exporter": "python",
   "pygments_lexer": "ipython3",
   "version": "3.9.19"
  }
 },
 "nbformat": 4,
 "nbformat_minor": 2
}
