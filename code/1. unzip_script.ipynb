{
 "cells": [
  {
   "cell_type": "code",
   "execution_count": 8,
   "metadata": {},
   "outputs": [
    {
     "name": "stderr",
     "output_type": "stream",
     "text": [
      "C:\\Users\\goert\\AppData\\Local\\Temp\\ipykernel_5692\\619488019.py:4: DeprecationWarning: \n",
      "Pyarrow will become a required dependency of pandas in the next major release of pandas (pandas 3.0),\n",
      "(to allow more performant data types, such as the Arrow string type, and better interoperability with other libraries)\n",
      "but was not found to be installed on your system.\n",
      "If this would cause problems for you,\n",
      "please provide us feedback at https://github.com/pandas-dev/pandas/issues/54466\n",
      "        \n",
      "  import pandas as pd\n"
     ]
    }
   ],
   "source": [
    "import os\n",
    "import pickle\n",
    "import shutil\n",
    "import pandas as pd\n",
    "import numpy as np"
   ]
  },
  {
   "cell_type": "code",
   "execution_count": 9,
   "metadata": {},
   "outputs": [],
   "source": [
    "MAIN_PATH = os.path.dirname(os.getcwd())\n",
    "DATA_SUBPATH = '/data'\n",
    "DATASET_PATH = MAIN_PATH + DATA_SUBPATH + '/unzip/WESAD'\n",
    "UNPROCESSED_PATH = MAIN_PATH + DATA_SUBPATH + '/unprocessed/WESAD'"
   ]
  },
  {
   "cell_type": "code",
   "execution_count": 10,
   "metadata": {},
   "outputs": [
    {
     "name": "stdout",
     "output_type": "stream",
     "text": [
      "['S2', 'S3', 'S4', 'S5', 'S6', 'S7', 'S8', 'S9', 'S10', 'S11', 'S12', 'S13', 'S14', 'S15', 'S16', 'S17']\n"
     ]
    }
   ],
   "source": [
    "minfolder = 2\n",
    "maxfolder = 18\n",
    "folders = [f'S{i}' for i in range(minfolder, maxfolder)]\n",
    "print(folders)"
   ]
  },
  {
   "cell_type": "markdown",
   "metadata": {},
   "source": [
    "This process unpacking the zip files can take up to 3 minutes. Depending on the computational power available."
   ]
  },
  {
   "cell_type": "code",
   "execution_count": 4,
   "metadata": {},
   "outputs": [
    {
     "ename": "NameError",
     "evalue": "name 'shutil' is not defined",
     "output_type": "error",
     "traceback": [
      "\u001b[1;31m---------------------------------------------------------------------------\u001b[0m",
      "\u001b[1;31mNameError\u001b[0m                                 Traceback (most recent call last)",
      "Cell \u001b[1;32mIn[4], line 1\u001b[0m\n\u001b[1;32m----> 1\u001b[0m \u001b[43mshutil\u001b[49m\u001b[38;5;241m.\u001b[39munpack_archive(MAIN_PATH \u001b[38;5;241m+\u001b[39m DATA_SUBPATH \u001b[38;5;241m+\u001b[39m \u001b[38;5;124m'\u001b[39m\u001b[38;5;124m/WESAD.zip\u001b[39m\u001b[38;5;124m'\u001b[39m, MAIN_PATH \u001b[38;5;241m+\u001b[39m DATA_SUBPATH \u001b[38;5;241m+\u001b[39m \u001b[38;5;124m'\u001b[39m\u001b[38;5;124m/unzip\u001b[39m\u001b[38;5;124m'\u001b[39m)\n",
      "\u001b[1;31mNameError\u001b[0m: name 'shutil' is not defined"
     ]
    }
   ],
   "source": [
    "shutil.unpack_archive(MAIN_PATH + DATA_SUBPATH + '/WESAD.zip', MAIN_PATH + DATA_SUBPATH + '/unzip')"
   ]
  },
  {
   "cell_type": "code",
   "execution_count": 11,
   "metadata": {},
   "outputs": [
    {
     "name": "stdout",
     "output_type": "stream",
     "text": [
      "['d:\\\\Master of Applied IT/data/unzip/WESAD/S2/S2_E4_Data.zip', 'd:\\\\Master of Applied IT/data/unzip/WESAD/S3/S3_E4_Data.zip', 'd:\\\\Master of Applied IT/data/unzip/WESAD/S4/S4_E4_Data.zip', 'd:\\\\Master of Applied IT/data/unzip/WESAD/S5/S5_E4_Data.zip', 'd:\\\\Master of Applied IT/data/unzip/WESAD/S6/S6_E4_Data.zip', 'd:\\\\Master of Applied IT/data/unzip/WESAD/S7/S7_E4_Data.zip', 'd:\\\\Master of Applied IT/data/unzip/WESAD/S8/S8_E4_Data.zip', 'd:\\\\Master of Applied IT/data/unzip/WESAD/S9/S9_E4_Data.zip', 'd:\\\\Master of Applied IT/data/unzip/WESAD/S10/S10_E4_Data.zip', 'd:\\\\Master of Applied IT/data/unzip/WESAD/S11/S11_E4_Data.zip', 'd:\\\\Master of Applied IT/data/unzip/WESAD/S12/S12_E4_Data.zip', 'd:\\\\Master of Applied IT/data/unzip/WESAD/S13/S13_E4_Data.zip', 'd:\\\\Master of Applied IT/data/unzip/WESAD/S14/S14_E4_Data.zip', 'd:\\\\Master of Applied IT/data/unzip/WESAD/S15/S15_E4_Data.zip', 'd:\\\\Master of Applied IT/data/unzip/WESAD/S16/S16_E4_Data.zip', 'd:\\\\Master of Applied IT/data/unzip/WESAD/S17/S17_E4_Data.zip']\n"
     ]
    }
   ],
   "source": [
    "data_folders = []\n",
    "for subfolder in folders:\n",
    "    data_folders.append(f\"{MAIN_PATH}{DATA_SUBPATH}/unzip/WESAD/{subfolder}/{subfolder}_E4_Data.zip\")\n",
    "print(data_folders)"
   ]
  },
  {
   "cell_type": "code",
   "execution_count": 7,
   "metadata": {},
   "outputs": [
    {
     "ename": "NameError",
     "evalue": "name 'shutil' is not defined",
     "output_type": "error",
     "traceback": [
      "\u001b[1;31m---------------------------------------------------------------------------\u001b[0m",
      "\u001b[1;31mNameError\u001b[0m                                 Traceback (most recent call last)",
      "Cell \u001b[1;32mIn[7], line 3\u001b[0m\n\u001b[0;32m      2\u001b[0m \u001b[38;5;28;01mtry\u001b[39;00m:\n\u001b[1;32m----> 3\u001b[0m     \u001b[43mshutil\u001b[49m\u001b[38;5;241m.\u001b[39munpack_archive(data_folder, os\u001b[38;5;241m.\u001b[39mpath\u001b[38;5;241m.\u001b[39mjoin(UNPROCESSED_PATH, \u001b[38;5;124mf\u001b[39m\u001b[38;5;124m'\u001b[39m\u001b[38;5;132;01m{\u001b[39;00mfolder\u001b[38;5;132;01m}\u001b[39;00m\u001b[38;5;124m'\u001b[39m))\n\u001b[0;32m      4\u001b[0m     \u001b[38;5;28mprint\u001b[39m(\u001b[38;5;124m\"\u001b[39m\u001b[38;5;124mPreparing folder:\u001b[39m\u001b[38;5;124m\"\u001b[39m, folder)\n",
      "\u001b[1;31mNameError\u001b[0m: name 'shutil' is not defined",
      "\nDuring handling of the above exception, another exception occurred:\n",
      "\u001b[1;31mNameError\u001b[0m                                 Traceback (most recent call last)",
      "Cell \u001b[1;32mIn[7], line 5\u001b[0m\n\u001b[0;32m      3\u001b[0m         shutil\u001b[38;5;241m.\u001b[39munpack_archive(data_folder, os\u001b[38;5;241m.\u001b[39mpath\u001b[38;5;241m.\u001b[39mjoin(UNPROCESSED_PATH, \u001b[38;5;124mf\u001b[39m\u001b[38;5;124m'\u001b[39m\u001b[38;5;132;01m{\u001b[39;00mfolder\u001b[38;5;132;01m}\u001b[39;00m\u001b[38;5;124m'\u001b[39m))\n\u001b[0;32m      4\u001b[0m         \u001b[38;5;28mprint\u001b[39m(\u001b[38;5;124m\"\u001b[39m\u001b[38;5;124mPreparing folder:\u001b[39m\u001b[38;5;124m\"\u001b[39m, folder)\n\u001b[1;32m----> 5\u001b[0m     \u001b[38;5;28;01mexcept\u001b[39;00m \u001b[43mshutil\u001b[49m\u001b[38;5;241m.\u001b[39mReadError:\n\u001b[0;32m      6\u001b[0m         \u001b[38;5;28mprint\u001b[39m(\u001b[38;5;124mf\u001b[39m\u001b[38;5;124m\"\u001b[39m\u001b[38;5;124mSkipping \u001b[39m\u001b[38;5;132;01m{\u001b[39;00mdata_folder\u001b[38;5;132;01m}\u001b[39;00m\u001b[38;5;124m as it is not a zip file or missing.\u001b[39m\u001b[38;5;124m\"\u001b[39m)\n\u001b[0;32m      8\u001b[0m \u001b[38;5;28mprint\u001b[39m(\u001b[38;5;124m\"\u001b[39m\u001b[38;5;124mFinished unzipping and preparing files.\u001b[39m\u001b[38;5;124m\"\u001b[39m)\n",
      "\u001b[1;31mNameError\u001b[0m: name 'shutil' is not defined"
     ]
    }
   ],
   "source": [
    "for folder, data_folder in zip(folders, data_folders):\n",
    "    try:\n",
    "        shutil.unpack_archive(data_folder, os.path.join(UNPROCESSED_PATH, f'{folder}'))\n",
    "        print(\"Preparing folder:\", folder)\n",
    "    except shutil.ReadError:\n",
    "        print(f\"Skipping {data_folder} as it is not a zip file or missing.\")\n",
    "\n",
    "print(\"Finished unzipping and preparing files.\")"
   ]
  },
  {
   "cell_type": "code",
   "execution_count": 19,
   "metadata": {},
   "outputs": [
    {
     "name": "stdout",
     "output_type": "stream",
     "text": [
      "label of:[0 0 0 ... 0 0 0]\n",
      "Equated: S2\n",
      "Saved: d:\\Master of Applied IT/data/unprocessed/WESAD\\S2\\S2.csv\n",
      "label of:[0 0 0 ... 0 0 0]\n",
      "Equated: S3\n",
      "Saved: d:\\Master of Applied IT/data/unprocessed/WESAD\\S3\\S3.csv\n",
      "label of:[0 0 0 ... 0 0 0]\n",
      "Equated: S4\n",
      "Saved: d:\\Master of Applied IT/data/unprocessed/WESAD\\S4\\S4.csv\n",
      "label of:[0 0 0 ... 0 0 0]\n",
      "Equated: S5\n",
      "Saved: d:\\Master of Applied IT/data/unprocessed/WESAD\\S5\\S5.csv\n",
      "label of:[0 0 0 ... 0 0 0]\n",
      "Equated: S6\n",
      "Saved: d:\\Master of Applied IT/data/unprocessed/WESAD\\S6\\S6.csv\n",
      "label of:[0 0 0 ... 0 0 0]\n",
      "Equated: S7\n",
      "Saved: d:\\Master of Applied IT/data/unprocessed/WESAD\\S7\\S7.csv\n",
      "label of:[0 0 0 ... 0 0 0]\n",
      "Equated: S8\n",
      "Saved: d:\\Master of Applied IT/data/unprocessed/WESAD\\S8\\S8.csv\n",
      "label of:[0 0 0 ... 0 0 0]\n",
      "Equated: S9\n",
      "Saved: d:\\Master of Applied IT/data/unprocessed/WESAD\\S9\\S9.csv\n",
      "label of:[0 0 0 ... 0 0 0]\n",
      "Equated: S10\n",
      "Saved: d:\\Master of Applied IT/data/unprocessed/WESAD\\S10\\S10.csv\n",
      "label of:[0 0 0 ... 0 0 0]\n",
      "Equated: S11\n",
      "Saved: d:\\Master of Applied IT/data/unprocessed/WESAD\\S11\\S11.csv\n",
      "Skipping d:\\Master of Applied IT/data/unzip/WESAD\\S12\\S12.pkl as it does not exist.\n",
      "label of:[0 0 0 ... 0 0 0]\n",
      "Equated: S13\n",
      "Saved: d:\\Master of Applied IT/data/unprocessed/WESAD\\S13\\S13.csv\n",
      "label of:[0 0 0 ... 0 0 0]\n",
      "Equated: S14\n",
      "Saved: d:\\Master of Applied IT/data/unprocessed/WESAD\\S14\\S14.csv\n",
      "label of:[0 0 0 ... 0 0 0]\n",
      "Equated: S15\n",
      "Saved: d:\\Master of Applied IT/data/unprocessed/WESAD\\S15\\S15.csv\n",
      "label of:[0 0 0 ... 0 0 0]\n",
      "Equated: S16\n",
      "Saved: d:\\Master of Applied IT/data/unprocessed/WESAD\\S16\\S16.csv\n",
      "label of:[0 0 0 ... 0 0 0]\n",
      "Equated: S17\n",
      "Saved: d:\\Master of Applied IT/data/unprocessed/WESAD\\S17\\S17.csv\n"
     ]
    }
   ],
   "source": [
    "import os\n",
    "# Define the source and destination paths\n",
    "source_folder = DATASET_PATH\n",
    "destination_folder = UNPROCESSED_PATH\n",
    "target_rate = 4\n",
    "\n",
    "def create_destination_folder(destination_folder, folder):\n",
    "    # Create the destination folder if it doesn't exist\n",
    "    destination_path = os.path.join(destination_folder, folder)\n",
    "    os.makedirs(destination_path, exist_ok=True)\n",
    "    return destination_path\n",
    "\n",
    "# Iterate over the folders\n",
    "for folder in folders:\n",
    "    destination_path = create_destination_folder(destination_folder, folder)\n",
    "        \n",
    "    # Open the pickle file\n",
    "    source_path = os.path.join(source_folder, folder, f'{folder}.pkl')\n",
    "    if not os.path.exists(source_path):\n",
    "        print(f\"Skipping {source_path} as it does not exist.\")\n",
    "        continue\n",
    "        \n",
    "    with open(source_path, 'rb') as file:\n",
    "        data = pickle.load(file, encoding='latin1')\n",
    "        \n",
    "        print('label of:' + str(data['label']))\n",
    "\n",
    "         # Resample signals\n",
    "        w_ax=data['signal']['wrist']['ACC'][0:,0]#[stress_to_plot]\n",
    "        w_ay=data['signal']['wrist']['ACC'][0:,1]#[stress_to_plot]\n",
    "        w_az=data['signal']['wrist']['ACC'][0:,2]#[stress_to_plot]\n",
    "        w_bvp=data['signal']['wrist']['BVP'][:,0]#[stress_to_plot]\n",
    "        w_eda=data['signal']['wrist']['EDA'][:,0]#[stress_to_plot]\n",
    "        w_temp=data['signal']['wrist']['TEMP'][:,0]#[stress_to_plot]\n",
    "        labels = data['label']\n",
    "        downsampled_labels = labels[::700 // 4]\n",
    "            \n",
    "        print(f\"Equated: {folder}\")\n",
    "\n",
    "        numpy_data1 = np.array([w_eda, w_temp, downsampled_labels]).T\n",
    "\n",
    "        df = pd.DataFrame(data=numpy_data1, columns=[\"w_eda\", \"w_temp\", \"downsampled_labels\"]) \n",
    "        df['ID'] = folder\n",
    "        df['Time'] = np.arange(len(w_eda)) / 4\n",
    "        df['downsampled_labels'] = df['downsampled_labels'].replace([5, 6, 7], 0)\n",
    "        \n",
    "        # Save the dataframe as a CSV file\n",
    "        csv_path = os.path.join(destination_path, f'{folder}.csv')\n",
    "        df.to_csv(csv_path, index=False)\n",
    "        print(f\"Saved: {csv_path}\")\n"
   ]
  },
  {
   "cell_type": "code",
   "execution_count": 20,
   "metadata": {},
   "outputs": [
    {
     "data": {
      "text/plain": [
       "4144000"
      ]
     },
     "execution_count": 20,
     "metadata": {},
     "output_type": "execute_result"
    }
   ],
   "source": [
    "len(labels)"
   ]
  },
  {
   "cell_type": "code",
   "execution_count": 21,
   "metadata": {},
   "outputs": [
    {
     "data": {
      "text/plain": [
       "array([2.015176, 2.012617, 2.001103, ..., 0.78717 , 0.784611, 0.783331])"
      ]
     },
     "execution_count": 21,
     "metadata": {},
     "output_type": "execute_result"
    }
   ],
   "source": [
    "w_eda"
   ]
  },
  {
   "cell_type": "code",
   "execution_count": 22,
   "metadata": {},
   "outputs": [
    {
     "data": {
      "text/html": [
       "<div>\n",
       "<style scoped>\n",
       "    .dataframe tbody tr th:only-of-type {\n",
       "        vertical-align: middle;\n",
       "    }\n",
       "\n",
       "    .dataframe tbody tr th {\n",
       "        vertical-align: top;\n",
       "    }\n",
       "\n",
       "    .dataframe thead th {\n",
       "        text-align: right;\n",
       "    }\n",
       "</style>\n",
       "<table border=\"1\" class=\"dataframe\">\n",
       "  <thead>\n",
       "    <tr style=\"text-align: right;\">\n",
       "      <th></th>\n",
       "      <th>w_eda</th>\n",
       "      <th>w_temp</th>\n",
       "      <th>downsampled_labels</th>\n",
       "      <th>ID</th>\n",
       "      <th>Time</th>\n",
       "    </tr>\n",
       "  </thead>\n",
       "  <tbody>\n",
       "    <tr>\n",
       "      <th>0</th>\n",
       "      <td>2.015176</td>\n",
       "      <td>33.39</td>\n",
       "      <td>0.0</td>\n",
       "      <td>S17</td>\n",
       "      <td>0.00</td>\n",
       "    </tr>\n",
       "    <tr>\n",
       "      <th>1</th>\n",
       "      <td>2.012617</td>\n",
       "      <td>33.37</td>\n",
       "      <td>0.0</td>\n",
       "      <td>S17</td>\n",
       "      <td>0.25</td>\n",
       "    </tr>\n",
       "    <tr>\n",
       "      <th>2</th>\n",
       "      <td>2.001103</td>\n",
       "      <td>33.37</td>\n",
       "      <td>0.0</td>\n",
       "      <td>S17</td>\n",
       "      <td>0.50</td>\n",
       "    </tr>\n",
       "    <tr>\n",
       "      <th>3</th>\n",
       "      <td>2.030529</td>\n",
       "      <td>33.37</td>\n",
       "      <td>0.0</td>\n",
       "      <td>S17</td>\n",
       "      <td>0.75</td>\n",
       "    </tr>\n",
       "    <tr>\n",
       "      <th>4</th>\n",
       "      <td>1.979353</td>\n",
       "      <td>33.37</td>\n",
       "      <td>0.0</td>\n",
       "      <td>S17</td>\n",
       "      <td>1.00</td>\n",
       "    </tr>\n",
       "    <tr>\n",
       "      <th>...</th>\n",
       "      <td>...</td>\n",
       "      <td>...</td>\n",
       "      <td>...</td>\n",
       "      <td>...</td>\n",
       "      <td>...</td>\n",
       "    </tr>\n",
       "    <tr>\n",
       "      <th>23675</th>\n",
       "      <td>0.792287</td>\n",
       "      <td>31.81</td>\n",
       "      <td>0.0</td>\n",
       "      <td>S17</td>\n",
       "      <td>5918.75</td>\n",
       "    </tr>\n",
       "    <tr>\n",
       "      <th>23676</th>\n",
       "      <td>0.787170</td>\n",
       "      <td>31.81</td>\n",
       "      <td>0.0</td>\n",
       "      <td>S17</td>\n",
       "      <td>5919.00</td>\n",
       "    </tr>\n",
       "    <tr>\n",
       "      <th>23677</th>\n",
       "      <td>0.787170</td>\n",
       "      <td>31.81</td>\n",
       "      <td>0.0</td>\n",
       "      <td>S17</td>\n",
       "      <td>5919.25</td>\n",
       "    </tr>\n",
       "    <tr>\n",
       "      <th>23678</th>\n",
       "      <td>0.784611</td>\n",
       "      <td>31.81</td>\n",
       "      <td>0.0</td>\n",
       "      <td>S17</td>\n",
       "      <td>5919.50</td>\n",
       "    </tr>\n",
       "    <tr>\n",
       "      <th>23679</th>\n",
       "      <td>0.783331</td>\n",
       "      <td>31.81</td>\n",
       "      <td>0.0</td>\n",
       "      <td>S17</td>\n",
       "      <td>5919.75</td>\n",
       "    </tr>\n",
       "  </tbody>\n",
       "</table>\n",
       "<p>23680 rows × 5 columns</p>\n",
       "</div>"
      ],
      "text/plain": [
       "          w_eda  w_temp  downsampled_labels   ID     Time\n",
       "0      2.015176   33.39                 0.0  S17     0.00\n",
       "1      2.012617   33.37                 0.0  S17     0.25\n",
       "2      2.001103   33.37                 0.0  S17     0.50\n",
       "3      2.030529   33.37                 0.0  S17     0.75\n",
       "4      1.979353   33.37                 0.0  S17     1.00\n",
       "...         ...     ...                 ...  ...      ...\n",
       "23675  0.792287   31.81                 0.0  S17  5918.75\n",
       "23676  0.787170   31.81                 0.0  S17  5919.00\n",
       "23677  0.787170   31.81                 0.0  S17  5919.25\n",
       "23678  0.784611   31.81                 0.0  S17  5919.50\n",
       "23679  0.783331   31.81                 0.0  S17  5919.75\n",
       "\n",
       "[23680 rows x 5 columns]"
      ]
     },
     "execution_count": 22,
     "metadata": {},
     "output_type": "execute_result"
    }
   ],
   "source": [
    "df"
   ]
  },
  {
   "cell_type": "code",
   "execution_count": 23,
   "metadata": {},
   "outputs": [
    {
     "data": {
      "image/png": "[encoded data removed]",
      "text/plain": [
       "<Figure size 640x480 with 1 Axes>"
      ]
     },
     "metadata": {},
     "output_type": "display_data"
    }
   ],
   "source": [
    "import pandas as pd\n",
    "import numpy as np\n",
    "import matplotlib.pyplot as plt\n",
    "\n",
    "# Read the CSV file\n",
    "data_path = MAIN_PATH + '/data/unprocessed/WESAD/S2/S2.csv'\n",
    "df = pd.read_csv(data_path)\n",
    "\n",
    "# Extract the columns\n",
    "w_eda = df['w_eda']\n",
    "labels = df['downsampled_labels']\n",
    "\n",
    "\n",
    "# Calculate the time values\n",
    "time = df['Time']\n",
    "\n",
    "# Create a color map for different label values\n",
    "label_colors = {0: 'white', 1: 'grey', 2: 'red', 3: 'green', 4: 'blue', 5:'yellow', 6: 'yellow'}\n",
    "\n",
    "# Plot the data\n",
    "for label_value, color in label_colors.items():\n",
    "    indices = labels.index[labels == label_value].tolist()\n",
    "    if indices:\n",
    "        start = time[indices[0]]\n",
    "        end = time[indices[-1]]\n",
    "        alpha = 0.2 if label_value == 4 else 0.8  # Adjust alpha based on label value\n",
    "        plt.axvspan(start, end, color=color, alpha=alpha)\n",
    "\n",
    "plt.plot(time, w_eda, color='black')  # Plot the data on top\n",
    "\n",
    "plt.xlabel('Time (4Hz)')\n",
    "plt.ylabel('w_eda')\n",
    "plt.title('w_eda vs 4Hz Time')\n",
    "plt.show()\n"
   ]
  },
  {
   "cell_type": "code",
   "execution_count": 24,
   "metadata": {},
   "outputs": [
    {
     "name": "stdout",
     "output_type": "stream",
     "text": [
      "Document does not exist: d:\\Master of Applied IT/data\\unprocessed\\WESAD\\S12\\S12.csv\n",
      "Merged data saved as: d:\\Master of Applied IT/data\\merged_data.csv\n"
     ]
    }
   ],
   "source": [
    "# Create an empty DataFrame to store the merged data\n",
    "merged_df = pd.DataFrame()\n",
    "\n",
    "# Loop through the folders and merge the S-subject.csv files\n",
    "for folder in folders:\n",
    "    file_path = os.path.join(MAIN_PATH + DATA_SUBPATH,'unprocessed', 'WESAD', folder, f'{folder}.csv')\n",
    "    if not os.path.exists(file_path):\n",
    "        print(\"Document does not exist:\", file_path)\n",
    "        continue\n",
    "    df = pd.read_csv(file_path)\n",
    "    merged_df = pd.concat([merged_df, df], ignore_index=True)\n",
    "\n",
    "# Save the merged DataFrame as a CSV file\n",
    "merged_file_path = os.path.join(MAIN_PATH + DATA_SUBPATH, 'merged_data.csv')\n",
    "merged_df.to_csv(merged_file_path, index=False)\n",
    "\n",
    "print(\"Merged data saved as:\", merged_file_path)\n"
   ]
  }
 ],
 "metadata": {
  "kernelspec": {
   "display_name": "Python 3",
   "language": "python",
   "name": "python3"
  },
  "language_info": {
   "codemirror_mode": {
    "name": "ipython",
    "version": 3
   },
   "file_extension": ".py",
   "mimetype": "text/x-python",
   "name": "python",
   "nbconvert_exporter": "python",
   "pygments_lexer": "ipython3",
   "version": "3.12.1"
  }
 },
 "nbformat": 4,
 "nbformat_minor": 2
}
