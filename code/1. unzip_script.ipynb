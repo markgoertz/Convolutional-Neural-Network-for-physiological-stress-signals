{
 "cells": [
  {
   "cell_type": "code",
   "execution_count": 1,
   "metadata": {},
   "outputs": [
    {
     "name": "stderr",
     "output_type": "stream",
     "text": [
      "C:\\Users\\goert\\AppData\\Local\\Temp\\ipykernel_16764\\619488019.py:4: DeprecationWarning: \n",
      "Pyarrow will become a required dependency of pandas in the next major release of pandas (pandas 3.0),\n",
      "(to allow more performant data types, such as the Arrow string type, and better interoperability with other libraries)\n",
      "but was not found to be installed on your system.\n",
      "If this would cause problems for you,\n",
      "please provide us feedback at https://github.com/pandas-dev/pandas/issues/54466\n",
      "        \n",
      "  import pandas as pd\n"
     ]
    }
   ],
   "source": [
    "import os\n",
    "import pickle\n",
    "import shutil\n",
    "import pandas as pd\n",
    "import numpy as np"
   ]
  },
  {
   "cell_type": "code",
   "execution_count": 2,
   "metadata": {},
   "outputs": [],
   "source": [
    "MAIN_PATH = os.path.dirname(os.getcwd())\n",
    "DATA_SUBPATH = '/data'\n",
    "DATASET_PATH = MAIN_PATH + DATA_SUBPATH + '/unzip/WESAD'\n",
    "UNPROCESSED_PATH = MAIN_PATH + DATA_SUBPATH + '/unprocessed/WESAD'"
   ]
  },
  {
   "cell_type": "code",
   "execution_count": 3,
   "metadata": {},
   "outputs": [
    {
     "name": "stdout",
     "output_type": "stream",
     "text": [
      "['S2', 'S3', 'S4', 'S5', 'S6', 'S7', 'S8', 'S9', 'S10', 'S11', 'S12', 'S13', 'S14', 'S15', 'S16', 'S17']\n"
     ]
    }
   ],
   "source": [
    "minfolder = 2\n",
    "maxfolder = 18\n",
    "folders = [f'S{i}' for i in range(minfolder, maxfolder)]\n",
    "print(folders)"
   ]
  },
  {
   "cell_type": "markdown",
   "metadata": {},
   "source": [
    "This process unpacking the zip files can take up to 3 minutes. Depending on the computational power available."
   ]
  },
  {
   "cell_type": "code",
   "execution_count": 4,
   "metadata": {},
   "outputs": [],
   "source": [
    "shutil.unpack_archive(MAIN_PATH + DATA_SUBPATH + '/WESAD.zip', MAIN_PATH + DATA_SUBPATH + '/unzip')"
   ]
  },
  {
   "cell_type": "code",
   "execution_count": 5,
   "metadata": {},
   "outputs": [
    {
     "name": "stdout",
     "output_type": "stream",
     "text": [
      "['d:\\\\Master of Applied IT/data/unzip/WESAD/S2/S2_E4_Data.zip', 'd:\\\\Master of Applied IT/data/unzip/WESAD/S3/S3_E4_Data.zip', 'd:\\\\Master of Applied IT/data/unzip/WESAD/S4/S4_E4_Data.zip', 'd:\\\\Master of Applied IT/data/unzip/WESAD/S5/S5_E4_Data.zip', 'd:\\\\Master of Applied IT/data/unzip/WESAD/S6/S6_E4_Data.zip', 'd:\\\\Master of Applied IT/data/unzip/WESAD/S7/S7_E4_Data.zip', 'd:\\\\Master of Applied IT/data/unzip/WESAD/S8/S8_E4_Data.zip', 'd:\\\\Master of Applied IT/data/unzip/WESAD/S9/S9_E4_Data.zip', 'd:\\\\Master of Applied IT/data/unzip/WESAD/S10/S10_E4_Data.zip', 'd:\\\\Master of Applied IT/data/unzip/WESAD/S11/S11_E4_Data.zip', 'd:\\\\Master of Applied IT/data/unzip/WESAD/S12/S12_E4_Data.zip', 'd:\\\\Master of Applied IT/data/unzip/WESAD/S13/S13_E4_Data.zip', 'd:\\\\Master of Applied IT/data/unzip/WESAD/S14/S14_E4_Data.zip', 'd:\\\\Master of Applied IT/data/unzip/WESAD/S15/S15_E4_Data.zip', 'd:\\\\Master of Applied IT/data/unzip/WESAD/S16/S16_E4_Data.zip', 'd:\\\\Master of Applied IT/data/unzip/WESAD/S17/S17_E4_Data.zip']\n"
     ]
    }
   ],
   "source": [
    "data_folders = []\n",
    "for subfolder in folders:\n",
    "    data_folders.append(f\"{MAIN_PATH}{DATA_SUBPATH}/unzip/WESAD/{subfolder}/{subfolder}_E4_Data.zip\")\n",
    "print(data_folders)"
   ]
  },
  {
   "cell_type": "code",
   "execution_count": 6,
   "metadata": {},
   "outputs": [
    {
     "name": "stdout",
     "output_type": "stream",
     "text": [
      "Preparing folder: S2\n",
      "Preparing folder: S3\n",
      "Preparing folder: S4\n",
      "Preparing folder: S5\n",
      "Preparing folder: S6\n",
      "Preparing folder: S7\n",
      "Preparing folder: S8\n",
      "Preparing folder: S9\n",
      "Preparing folder: S10\n",
      "Preparing folder: S11\n",
      "Skipping d:\\Master of Applied IT/data/unzip/WESAD/S12/S12_E4_Data.zip as it is not a zip file or missing.\n",
      "Preparing folder: S13\n",
      "Preparing folder: S14\n",
      "Preparing folder: S15\n",
      "Preparing folder: S16\n",
      "Preparing folder: S17\n",
      "Finished unzipping and preparing files.\n"
     ]
    }
   ],
   "source": [
    "for folder, data_folder in zip(folders, data_folders):\n",
    "    try:\n",
    "        shutil.unpack_archive(data_folder, os.path.join(UNPROCESSED_PATH, f'{folder}'))\n",
    "        print(\"Preparing folder:\", folder)\n",
    "    except shutil.ReadError:\n",
    "        print(f\"Skipping {data_folder} as it is not a zip file or missing.\")\n",
    "\n",
    "print(\"Finished unzipping and preparing files.\")"
   ]
  },
  {
   "cell_type": "code",
   "execution_count": 27,
   "metadata": {},
   "outputs": [
    {
     "name": "stdout",
     "output_type": "stream",
     "text": [
      "label of:[0 0 0 ... 0 0 0]\n",
      "4255300\n",
      "175\n",
      "Equated: S2\n",
      "Saved: d:\\Master of Applied IT/data/unprocessed/WESAD\\S2\\S2.csv\n",
      "label of:[0 0 0 ... 0 0 0]\n",
      "4545100\n",
      "175\n",
      "Equated: S3\n",
      "Saved: d:\\Master of Applied IT/data/unprocessed/WESAD\\S3\\S3.csv\n",
      "label of:[0 0 0 ... 0 0 0]\n",
      "4496100\n",
      "175\n",
      "Equated: S4\n",
      "Saved: d:\\Master of Applied IT/data/unprocessed/WESAD\\S4\\S4.csv\n",
      "label of:[0 0 0 ... 0 0 0]\n",
      "4380600\n",
      "175\n",
      "Equated: S5\n",
      "Saved: d:\\Master of Applied IT/data/unprocessed/WESAD\\S5\\S5.csv\n",
      "label of:[0 0 0 ... 0 0 0]\n",
      "4949700\n",
      "175\n",
      "Equated: S6\n",
      "Saved: d:\\Master of Applied IT/data/unprocessed/WESAD\\S6\\S6.csv\n",
      "label of:[0 0 0 ... 0 0 0]\n",
      "3666600\n",
      "175\n",
      "Equated: S7\n",
      "Saved: d:\\Master of Applied IT/data/unprocessed/WESAD\\S7\\S7.csv\n",
      "label of:[0 0 0 ... 0 0 0]\n",
      "3826200\n",
      "175\n",
      "Equated: S8\n",
      "Saved: d:\\Master of Applied IT/data/unprocessed/WESAD\\S8\\S8.csv\n",
      "label of:[0 0 0 ... 0 0 0]\n",
      "3656100\n",
      "175\n",
      "Equated: S9\n",
      "Saved: d:\\Master of Applied IT/data/unprocessed/WESAD\\S9\\S9.csv\n",
      "label of:[0 0 0 ... 0 0 0]\n",
      "3847200\n",
      "175\n",
      "Equated: S10\n",
      "Saved: d:\\Master of Applied IT/data/unprocessed/WESAD\\S10\\S10.csv\n",
      "label of:[0 0 0 ... 0 0 0]\n",
      "3663100\n",
      "175\n",
      "Equated: S11\n",
      "Saved: d:\\Master of Applied IT/data/unprocessed/WESAD\\S11\\S11.csv\n",
      "Skipping d:\\Master of Applied IT/data/unzip/WESAD\\S12\\S12.pkl as it does not exist.\n",
      "label of:[0 0 0 ... 0 0 0]\n",
      "3875900\n",
      "175\n",
      "Equated: S13\n",
      "Saved: d:\\Master of Applied IT/data/unprocessed/WESAD\\S13\\S13.csv\n",
      "label of:[0 0 0 ... 0 0 0]\n",
      "3883600\n",
      "175\n",
      "Equated: S14\n",
      "Saved: d:\\Master of Applied IT/data/unprocessed/WESAD\\S14\\S14.csv\n",
      "label of:[0 0 0 ... 0 0 0]\n",
      "3676400\n",
      "175\n",
      "Equated: S15\n",
      "Saved: d:\\Master of Applied IT/data/unprocessed/WESAD\\S15\\S15.csv\n",
      "label of:[0 0 0 ... 0 0 0]\n",
      "3941700\n",
      "175\n",
      "Equated: S16\n",
      "Saved: d:\\Master of Applied IT/data/unprocessed/WESAD\\S16\\S16.csv\n",
      "label of:[0 0 0 ... 0 0 0]\n",
      "4144000\n",
      "175\n",
      "Equated: S17\n",
      "Saved: d:\\Master of Applied IT/data/unprocessed/WESAD\\S17\\S17.csv\n"
     ]
    }
   ],
   "source": [
    "import numpy as np\n",
    "import pandas as pd\n",
    "import os\n",
    "from scipy.stats import mode\n",
    "\n",
    "# Define the source and destination paths\n",
    "source_folder = DATASET_PATH\n",
    "destination_folder = UNPROCESSED_PATH\n",
    "\n",
    "original_rate = 700\n",
    "target_rate = 4\n",
    "\n",
    "def create_destination_folder(destination_folder, folder):\n",
    "    # Create the destination folder if it doesn't exist\n",
    "    destination_path = os.path.join(destination_folder, folder)\n",
    "    os.makedirs(destination_path, exist_ok=True)\n",
    "    return destination_path\n",
    "\n",
    "# Iterate over the folders\n",
    "for folder in folders:\n",
    "    destination_path = create_destination_folder(destination_folder, folder)\n",
    "        \n",
    "    # Open the pickle file\n",
    "    source_path = os.path.join(source_folder, folder, f'{folder}.pkl')\n",
    "    if not os.path.exists(source_path):\n",
    "        print(f\"Skipping {source_path} as it does not exist.\")\n",
    "        continue\n",
    "        \n",
    "    with open(source_path, 'rb') as file:\n",
    "        data = pickle.load(file, encoding='latin1')\n",
    "        \n",
    "        print('label of:' + str(data['label']))\n",
    "\n",
    "         # Resample signals\n",
    "        w_ax = data['signal']['wrist']['ACC'][:,0]\n",
    "        w_ay = data['signal']['wrist']['ACC'][:,1]\n",
    "        w_az = data['signal']['wrist']['ACC'][:,2]\n",
    "        w_bvp = data['signal']['wrist']['BVP'][:,0]\n",
    "        w_eda = data['signal']['wrist']['EDA'][:,0]\n",
    "        w_temp = data['signal']['wrist']['TEMP'][:,0]\n",
    "        labels = data['label']\n",
    "\n",
    "        # Calculate decimation factor\n",
    "        decimation_factor = len(labels) // (original_rate // target_rate)        \n",
    "        \n",
    "        # Perform downsampling with mode filtering\n",
    "        downsampled_data = []\n",
    "        for i in range(0, len(labels), decimation_factor):\n",
    "            segment = labels[i:i + decimation_factor]\n",
    "            mode_value, _ = mode(segment)  # Extract mode value\n",
    "            downsampled_data.append(mode_value)\n",
    "\n",
    "        print(len(labels))\n",
    "        print(len(downsampled_data)) \n",
    "\n",
    "        print(f\"Equated: {folder}\")\n",
    "\n",
    "        # Ensure all arrays are of equal length\n",
    "        min_length = min(len(w_eda), len(w_temp), len(downsampled_data))\n",
    "        w_eda = w_eda[:min_length]\n",
    "        w_temp = w_temp[:min_length]\n",
    "        downsampled_data = downsampled_data[:min_length]\n",
    "\n",
    "        # Create numpy array\n",
    "        numpy_data1 = np.array([w_eda, w_temp, downsampled_data]).T\n",
    "\n",
    "        df = pd.DataFrame(data=numpy_data1, columns=[\"w_eda\", \"w_temp\", \"downsampled_labels\"]) \n",
    "        df['ID'] = folder\n",
    "        df['Time'] = np.arange(len(w_eda)) / 4\n",
    "        df['downsampled_labels'] = df['downsampled_labels'].replace([5, 6, 7], 0)\n",
    "        \n",
    "        # Save the dataframe as a CSV file\n",
    "        csv_path = os.path.join(destination_path, f'{folder}.csv')\n",
    "        df.to_csv(csv_path, index=False)\n",
    "        print(f\"Saved: {csv_path}\")\n"
   ]
  },
  {
   "cell_type": "code",
   "execution_count": 28,
   "metadata": {},
   "outputs": [
    {
     "data": {
      "text/plain": [
       "4144000"
      ]
     },
     "execution_count": 28,
     "metadata": {},
     "output_type": "execute_result"
    }
   ],
   "source": [
    "len(labels)"
   ]
  },
  {
   "cell_type": "code",
   "execution_count": 29,
   "metadata": {},
   "outputs": [
    {
     "data": {
      "text/plain": [
       "array([2.015176, 2.012617, 2.001103, 2.030529, 1.979353, 1.965279,\n",
       "       1.960162, 1.972197, 1.968359, 1.96452 , 1.968359, 1.960682,\n",
       "       1.98627 , 1.995226, 2.001623, 2.00802 , 2.00802 , 2.014417,\n",
       "       2.118049, 2.034888, 2.024652, 2.019535, 2.02977 , 2.015697,\n",
       "       2.027211, 2.031049, 2.032329, 2.047682, 2.056638, 2.063035,\n",
       "       2.068152, 2.07199 , 2.063035, 2.07199 , 2.166666, 2.185857,\n",
       "       2.176902, 2.169225, 2.165387, 2.160269, 2.164108, 2.15899 ,\n",
       "       2.165387, 2.18074 , 2.193534, 2.194813, 2.192254, 2.184578,\n",
       "       2.203769, 2.197372, 2.190975, 2.193534, 2.188416, 2.192254,\n",
       "       2.183299, 2.189696, 2.188416, 2.187137, 2.188416, 2.185857,\n",
       "       2.185857, 2.182019, 2.188416, 2.178181, 2.182019, 2.174343,\n",
       "       2.185857, 2.17946 , 2.18074 , 2.18074 , 2.175622, 2.176902,\n",
       "       2.171784, 2.175622, 2.166666, 2.173063, 2.164108, 2.170505,\n",
       "       2.170505, 2.166666, 2.169225, 2.166666, 2.165387, 2.164108,\n",
       "       2.164108, 2.162828, 2.162828, 2.156431, 2.15899 , 2.161549,\n",
       "       2.160269, 2.138519, 2.151314, 2.152593, 2.156431, 2.150034,\n",
       "       2.151314, 2.153872, 2.152593, 2.153872, 2.161549, 2.261342,\n",
       "       2.483959, 2.584512, 2.491115, 2.37213 , 2.322233, 2.301763,\n",
       "       2.507747, 2.585791, 2.516703, 2.473203, 2.434821, 2.355498,\n",
       "       2.315836, 2.285131, 2.280013, 2.299204, 2.287689, 2.236513,\n",
       "       2.213484, 2.231396, 2.201969, 2.048441, 2.232675, 2.219881,\n",
       "       2.214763, 2.195572, 2.194293, 2.20069 , 2.191734, 2.17894 ,\n",
       "       2.185337, 2.168705, 2.171264, 2.164867, 2.162308, 2.162308,\n",
       "       2.15719 , 2.15847 , 2.154631, 2.15719 , 2.143117, 2.15847 ,\n",
       "       2.155911, 2.155911, 2.163587, 2.168705, 2.175102, 2.171264,\n",
       "       2.172543, 2.171264, 2.173822, 2.166146, 2.185337, 2.184058,\n",
       "       2.154631, 2.186616, 2.189175, 2.189175, 2.146955, 2.161028,\n",
       "       2.091941, 2.034367, 2.107293, 2.13544 , 2.127764, 2.134161,\n",
       "       2.140558, 2.137999, 2.131602, 2.112411, 2.131602, 2.13672 ,\n",
       "       2.131602])"
      ]
     },
     "execution_count": 29,
     "metadata": {},
     "output_type": "execute_result"
    }
   ],
   "source": [
    "w_eda"
   ]
  },
  {
   "cell_type": "code",
   "execution_count": 30,
   "metadata": {},
   "outputs": [
    {
     "data": {
      "text/html": [
       "<div>\n",
       "<style scoped>\n",
       "    .dataframe tbody tr th:only-of-type {\n",
       "        vertical-align: middle;\n",
       "    }\n",
       "\n",
       "    .dataframe tbody tr th {\n",
       "        vertical-align: top;\n",
       "    }\n",
       "\n",
       "    .dataframe thead th {\n",
       "        text-align: right;\n",
       "    }\n",
       "</style>\n",
       "<table border=\"1\" class=\"dataframe\">\n",
       "  <thead>\n",
       "    <tr style=\"text-align: right;\">\n",
       "      <th></th>\n",
       "      <th>w_eda</th>\n",
       "      <th>w_temp</th>\n",
       "      <th>downsampled_labels</th>\n",
       "      <th>ID</th>\n",
       "      <th>Time</th>\n",
       "    </tr>\n",
       "  </thead>\n",
       "  <tbody>\n",
       "    <tr>\n",
       "      <th>0</th>\n",
       "      <td>2.015176</td>\n",
       "      <td>33.39</td>\n",
       "      <td>0.0</td>\n",
       "      <td>S17</td>\n",
       "      <td>0.00</td>\n",
       "    </tr>\n",
       "    <tr>\n",
       "      <th>1</th>\n",
       "      <td>2.012617</td>\n",
       "      <td>33.37</td>\n",
       "      <td>0.0</td>\n",
       "      <td>S17</td>\n",
       "      <td>0.25</td>\n",
       "    </tr>\n",
       "    <tr>\n",
       "      <th>2</th>\n",
       "      <td>2.001103</td>\n",
       "      <td>33.37</td>\n",
       "      <td>0.0</td>\n",
       "      <td>S17</td>\n",
       "      <td>0.50</td>\n",
       "    </tr>\n",
       "    <tr>\n",
       "      <th>3</th>\n",
       "      <td>2.030529</td>\n",
       "      <td>33.37</td>\n",
       "      <td>1.0</td>\n",
       "      <td>S17</td>\n",
       "      <td>0.75</td>\n",
       "    </tr>\n",
       "    <tr>\n",
       "      <th>4</th>\n",
       "      <td>1.979353</td>\n",
       "      <td>33.37</td>\n",
       "      <td>1.0</td>\n",
       "      <td>S17</td>\n",
       "      <td>1.00</td>\n",
       "    </tr>\n",
       "    <tr>\n",
       "      <th>...</th>\n",
       "      <td>...</td>\n",
       "      <td>...</td>\n",
       "      <td>...</td>\n",
       "      <td>...</td>\n",
       "      <td>...</td>\n",
       "    </tr>\n",
       "    <tr>\n",
       "      <th>170</th>\n",
       "      <td>2.131602</td>\n",
       "      <td>33.27</td>\n",
       "      <td>0.0</td>\n",
       "      <td>S17</td>\n",
       "      <td>42.50</td>\n",
       "    </tr>\n",
       "    <tr>\n",
       "      <th>171</th>\n",
       "      <td>2.112411</td>\n",
       "      <td>33.27</td>\n",
       "      <td>0.0</td>\n",
       "      <td>S17</td>\n",
       "      <td>42.75</td>\n",
       "    </tr>\n",
       "    <tr>\n",
       "      <th>172</th>\n",
       "      <td>2.131602</td>\n",
       "      <td>33.27</td>\n",
       "      <td>0.0</td>\n",
       "      <td>S17</td>\n",
       "      <td>43.00</td>\n",
       "    </tr>\n",
       "    <tr>\n",
       "      <th>173</th>\n",
       "      <td>2.136720</td>\n",
       "      <td>33.27</td>\n",
       "      <td>0.0</td>\n",
       "      <td>S17</td>\n",
       "      <td>43.25</td>\n",
       "    </tr>\n",
       "    <tr>\n",
       "      <th>174</th>\n",
       "      <td>2.131602</td>\n",
       "      <td>33.27</td>\n",
       "      <td>0.0</td>\n",
       "      <td>S17</td>\n",
       "      <td>43.50</td>\n",
       "    </tr>\n",
       "  </tbody>\n",
       "</table>\n",
       "<p>175 rows × 5 columns</p>\n",
       "</div>"
      ],
      "text/plain": [
       "        w_eda  w_temp  downsampled_labels   ID   Time\n",
       "0    2.015176   33.39                 0.0  S17   0.00\n",
       "1    2.012617   33.37                 0.0  S17   0.25\n",
       "2    2.001103   33.37                 0.0  S17   0.50\n",
       "3    2.030529   33.37                 1.0  S17   0.75\n",
       "4    1.979353   33.37                 1.0  S17   1.00\n",
       "..        ...     ...                 ...  ...    ...\n",
       "170  2.131602   33.27                 0.0  S17  42.50\n",
       "171  2.112411   33.27                 0.0  S17  42.75\n",
       "172  2.131602   33.27                 0.0  S17  43.00\n",
       "173  2.136720   33.27                 0.0  S17  43.25\n",
       "174  2.131602   33.27                 0.0  S17  43.50\n",
       "\n",
       "[175 rows x 5 columns]"
      ]
     },
     "execution_count": 30,
     "metadata": {},
     "output_type": "execute_result"
    }
   ],
   "source": [
    "df"
   ]
  },
  {
   "cell_type": "code",
   "execution_count": 31,
   "metadata": {},
   "outputs": [
    {
     "data": {
      "image/png": "[encoded data removed]",
      "text/plain": [
       "<Figure size 640x480 with 1 Axes>"
      ]
     },
     "metadata": {},
     "output_type": "display_data"
    }
   ],
   "source": [
    "import pandas as pd\n",
    "import numpy as np\n",
    "import matplotlib.pyplot as plt\n",
    "\n",
    "# Read the CSV file\n",
    "data_path = MAIN_PATH + '/data/unprocessed/WESAD/S2/S2.csv'\n",
    "df = pd.read_csv(data_path)\n",
    "\n",
    "# Extract the columns\n",
    "w_eda = df['w_eda']\n",
    "labels = df['downsampled_labels']\n",
    "\n",
    "\n",
    "# Calculate the time values\n",
    "time = df['Time']\n",
    "\n",
    "# Create a color map for different label values\n",
    "label_colors = {0: 'white', 1: 'grey', 2: 'red', 3: 'green', 4: 'blue', 5:'yellow', 6: 'yellow'}\n",
    "\n",
    "# Plot the data\n",
    "for label_value, color in label_colors.items():\n",
    "    indices = labels.index[labels == label_value].tolist()\n",
    "    if indices:\n",
    "        start = time[indices[0]]\n",
    "        end = time[indices[-1]]\n",
    "        alpha = 0.2 if label_value == 4 else 0.8  # Adjust alpha based on label value\n",
    "        plt.axvspan(start, end, color=color, alpha=alpha)\n",
    "\n",
    "plt.plot(time, w_eda, color='black')  # Plot the data on top\n",
    "\n",
    "plt.xlabel('Time (4Hz)')\n",
    "plt.ylabel('w_eda')\n",
    "plt.title('w_eda vs 4Hz Time')\n",
    "plt.show()\n"
   ]
  },
  {
   "cell_type": "code",
   "execution_count": 33,
   "metadata": {},
   "outputs": [
    {
     "name": "stdout",
     "output_type": "stream",
     "text": [
      "Document does not exist: d:\\Master of Applied IT/data\\unprocessed\\WESAD\\S12\\S12.csv\n",
      "Merged data saved as: d:\\Master of Applied IT/data\\merged_data.csv\n"
     ]
    }
   ],
   "source": [
    "# Create an empty DataFrame to store the merged data\n",
    "merged_df = pd.DataFrame()\n",
    "\n",
    "# Loop through the folders and merge the S-subject.csv files\n",
    "for folder in folders:\n",
    "    file_path = os.path.join(MAIN_PATH + DATA_SUBPATH,'unprocessed', 'WESAD', folder, f'{folder}.csv')\n",
    "    if not os.path.exists(file_path):\n",
    "        print(\"Document does not exist:\", file_path)\n",
    "        continue\n",
    "    df = pd.read_csv(file_path)\n",
    "    merged_df = pd.concat([merged_df, df], ignore_index=True)\n",
    "\n",
    "# Save the merged DataFrame as a CSV file\n",
    "merged_file_path = os.path.join(MAIN_PATH + DATA_SUBPATH, 'merged_data.csv')\n",
    "merged_df.to_csv(merged_file_path, index=False)\n",
    "\n",
    "print(\"Merged data saved as:\", merged_file_path)\n"
   ]
  }
 ],
 "metadata": {
  "kernelspec": {
   "display_name": "Python 3",
   "language": "python",
   "name": "python3"
  },
  "language_info": {
   "codemirror_mode": {
    "name": "ipython",
    "version": 3
   },
   "file_extension": ".py",
   "mimetype": "text/x-python",
   "name": "python",
   "nbconvert_exporter": "python",
   "pygments_lexer": "ipython3",
   "version": "3.12.1"
  }
 },
 "nbformat": 4,
 "nbformat_minor": 2
}
