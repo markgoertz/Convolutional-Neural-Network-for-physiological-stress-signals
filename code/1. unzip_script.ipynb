{
 "cells": [
  {
   "cell_type": "code",
   "execution_count": 1,
   "metadata": {},
   "outputs": [],
   "source": [
    "import os\n",
    "import pickle\n",
    "import shutil\n",
    "import pandas as pd\n",
    "import numpy as np"
   ]
  },
  {
   "cell_type": "code",
   "execution_count": 2,
   "metadata": {},
   "outputs": [],
   "source": [
    "MAIN_PATH = os.path.dirname(os.getcwd())\n",
    "DATA_SUBPATH = '/data'\n",
    "DATASET_PATH = MAIN_PATH + DATA_SUBPATH + '/unzip/WESAD'\n",
    "UNPROCESSED_PATH = MAIN_PATH + DATA_SUBPATH + '/unprocessed/WESAD'"
   ]
  },
  {
   "cell_type": "code",
   "execution_count": 3,
   "metadata": {},
   "outputs": [
    {
     "name": "stdout",
     "output_type": "stream",
     "text": [
      "['S2', 'S3', 'S4', 'S5', 'S6', 'S7', 'S8', 'S9', 'S10', 'S11', 'S12', 'S13', 'S14', 'S15', 'S16', 'S17']\n"
     ]
    }
   ],
   "source": [
    "minfolder = 2\n",
    "maxfolder = 18\n",
    "folders = [f'S{i}' for i in range(minfolder, maxfolder)]\n",
    "print(folders)"
   ]
  },
  {
   "cell_type": "markdown",
   "metadata": {},
   "source": [
    "This process unpacking the zip files can take up to 3 minutes. Depending on the computational power available."
   ]
  },
  {
   "cell_type": "code",
   "execution_count": 4,
   "metadata": {},
   "outputs": [],
   "source": [
    "shutil.unpack_archive(MAIN_PATH + DATA_SUBPATH + '/WESAD.zip', MAIN_PATH + DATA_SUBPATH + '/unzip')"
   ]
  },
  {
   "cell_type": "code",
   "execution_count": 5,
   "metadata": {},
   "outputs": [
    {
     "name": "stdout",
     "output_type": "stream",
     "text": [
      "['c:\\\\Users\\\\goert\\\\Documents\\\\GitHub\\\\Convolutional-Neural-Network-on-Electrodermal-Activity-for-Stress-Assessment/data/unzip/WESAD/S2/S2_E4_Data.zip', 'c:\\\\Users\\\\goert\\\\Documents\\\\GitHub\\\\Convolutional-Neural-Network-on-Electrodermal-Activity-for-Stress-Assessment/data/unzip/WESAD/S3/S3_E4_Data.zip', 'c:\\\\Users\\\\goert\\\\Documents\\\\GitHub\\\\Convolutional-Neural-Network-on-Electrodermal-Activity-for-Stress-Assessment/data/unzip/WESAD/S4/S4_E4_Data.zip', 'c:\\\\Users\\\\goert\\\\Documents\\\\GitHub\\\\Convolutional-Neural-Network-on-Electrodermal-Activity-for-Stress-Assessment/data/unzip/WESAD/S5/S5_E4_Data.zip', 'c:\\\\Users\\\\goert\\\\Documents\\\\GitHub\\\\Convolutional-Neural-Network-on-Electrodermal-Activity-for-Stress-Assessment/data/unzip/WESAD/S6/S6_E4_Data.zip', 'c:\\\\Users\\\\goert\\\\Documents\\\\GitHub\\\\Convolutional-Neural-Network-on-Electrodermal-Activity-for-Stress-Assessment/data/unzip/WESAD/S7/S7_E4_Data.zip', 'c:\\\\Users\\\\goert\\\\Documents\\\\GitHub\\\\Convolutional-Neural-Network-on-Electrodermal-Activity-for-Stress-Assessment/data/unzip/WESAD/S8/S8_E4_Data.zip', 'c:\\\\Users\\\\goert\\\\Documents\\\\GitHub\\\\Convolutional-Neural-Network-on-Electrodermal-Activity-for-Stress-Assessment/data/unzip/WESAD/S9/S9_E4_Data.zip', 'c:\\\\Users\\\\goert\\\\Documents\\\\GitHub\\\\Convolutional-Neural-Network-on-Electrodermal-Activity-for-Stress-Assessment/data/unzip/WESAD/S10/S10_E4_Data.zip', 'c:\\\\Users\\\\goert\\\\Documents\\\\GitHub\\\\Convolutional-Neural-Network-on-Electrodermal-Activity-for-Stress-Assessment/data/unzip/WESAD/S11/S11_E4_Data.zip', 'c:\\\\Users\\\\goert\\\\Documents\\\\GitHub\\\\Convolutional-Neural-Network-on-Electrodermal-Activity-for-Stress-Assessment/data/unzip/WESAD/S12/S12_E4_Data.zip', 'c:\\\\Users\\\\goert\\\\Documents\\\\GitHub\\\\Convolutional-Neural-Network-on-Electrodermal-Activity-for-Stress-Assessment/data/unzip/WESAD/S13/S13_E4_Data.zip', 'c:\\\\Users\\\\goert\\\\Documents\\\\GitHub\\\\Convolutional-Neural-Network-on-Electrodermal-Activity-for-Stress-Assessment/data/unzip/WESAD/S14/S14_E4_Data.zip', 'c:\\\\Users\\\\goert\\\\Documents\\\\GitHub\\\\Convolutional-Neural-Network-on-Electrodermal-Activity-for-Stress-Assessment/data/unzip/WESAD/S15/S15_E4_Data.zip', 'c:\\\\Users\\\\goert\\\\Documents\\\\GitHub\\\\Convolutional-Neural-Network-on-Electrodermal-Activity-for-Stress-Assessment/data/unzip/WESAD/S16/S16_E4_Data.zip', 'c:\\\\Users\\\\goert\\\\Documents\\\\GitHub\\\\Convolutional-Neural-Network-on-Electrodermal-Activity-for-Stress-Assessment/data/unzip/WESAD/S17/S17_E4_Data.zip']\n"
     ]
    }
   ],
   "source": [
    "data_folders = []\n",
    "for subfolder in folders:\n",
    "    data_folders.append(f\"{MAIN_PATH}{DATA_SUBPATH}/unzip/WESAD/{subfolder}/{subfolder}_E4_Data.zip\")\n",
    "print(data_folders)"
   ]
  },
  {
   "cell_type": "code",
   "execution_count": 6,
   "metadata": {},
   "outputs": [
    {
     "name": "stdout",
     "output_type": "stream",
     "text": [
      "Preparing folder: S2\n",
      "Preparing folder: S3\n",
      "Preparing folder: S4\n",
      "Preparing folder: S5\n",
      "Preparing folder: S6\n",
      "Preparing folder: S7\n",
      "Preparing folder: S8\n",
      "Preparing folder: S9\n",
      "Preparing folder: S10\n",
      "Preparing folder: S11\n",
      "Skipping c:\\Users\\goert\\Documents\\GitHub\\Convolutional-Neural-Network-on-Electrodermal-Activity-for-Stress-Assessment/data/unzip/WESAD/S12/S12_E4_Data.zip as it is not a zip file or missing.\n",
      "Preparing folder: S13\n",
      "Preparing folder: S14\n",
      "Preparing folder: S15\n",
      "Preparing folder: S16\n",
      "Preparing folder: S17\n",
      "Finished unzipping and preparing files.\n"
     ]
    }
   ],
   "source": [
    "for folder, data_folder in zip(folders, data_folders):\n",
    "    try:\n",
    "        shutil.unpack_archive(data_folder, os.path.join(UNPROCESSED_PATH, f'{folder}'))\n",
    "        print(\"Preparing folder:\", folder)\n",
    "    except shutil.ReadError:\n",
    "        print(f\"Skipping {data_folder} as it is not a zip file or missing.\")\n",
    "\n",
    "print(\"Finished unzipping and preparing files.\")"
   ]
  },
  {
   "cell_type": "code",
   "execution_count": 7,
   "metadata": {},
   "outputs": [],
   "source": [
    "from scipy.signal import resample\n",
    "\n",
    "def resample_signal(signal, source_rate, target_rate):\n",
    "    # Calculate resampling ratio\n",
    "    resampling_ratio = target_rate / source_rate\n",
    "    \n",
    "    # Calculate new length\n",
    "    new_length = int(len(signal) * resampling_ratio)\n",
    "    \n",
    "    # Resample signal\n",
    "    resampled_signal = resample(signal, new_length)\n",
    "\n",
    "    return resampled_signal"
   ]
  },
  {
   "cell_type": "code",
   "execution_count": 8,
   "metadata": {},
   "outputs": [
    {
     "name": "stdout",
     "output_type": "stream",
     "text": [
      "label of:[0 0 0 ... 0 0 0]\n",
      "24316\n",
      "Equated: S2\n",
      "Saved: S2\n",
      "label of:[0 0 0 ... 0 0 0]\n",
      "25972\n",
      "Equated: S3\n",
      "Saved: S3\n",
      "label of:[0 0 0 ... 0 0 0]\n",
      "25692\n",
      "Equated: S4\n",
      "Saved: S4\n",
      "label of:[0 0 0 ... 0 0 0]\n",
      "25032\n",
      "Equated: S5\n",
      "Saved: S5\n",
      "label of:[0 0 0 ... 0 0 0]\n",
      "28284\n",
      "Equated: S6\n",
      "Saved: S6\n",
      "label of:[0 0 0 ... 0 0 0]\n",
      "20952\n",
      "Equated: S7\n",
      "Saved: S7\n",
      "label of:[0 0 0 ... 0 0 0]\n",
      "21864\n",
      "Equated: S8\n",
      "Saved: S8\n",
      "label of:[0 0 0 ... 0 0 0]\n",
      "20892\n",
      "Equated: S9\n",
      "Saved: S9\n",
      "label of:[0 0 0 ... 0 0 0]\n",
      "21984\n",
      "Equated: S10\n",
      "Saved: S10\n",
      "label of:[0 0 0 ... 0 0 0]\n",
      "20932\n",
      "Equated: S11\n",
      "Saved: S11\n",
      "Skipping c:\\Users\\goert\\Documents\\GitHub\\Convolutional-Neural-Network-on-Electrodermal-Activity-for-Stress-Assessment/data/unzip/WESAD\\S12\\S12.pkl as it does not exist.\n",
      "label of:[0 0 0 ... 0 0 0]\n",
      "22148\n",
      "Equated: S13\n",
      "Saved: S13\n",
      "label of:[0 0 0 ... 0 0 0]\n",
      "22192\n",
      "Equated: S14\n",
      "Saved: S14\n",
      "label of:[0 0 0 ... 0 0 0]\n",
      "21008\n",
      "Equated: S15\n",
      "Saved: S15\n",
      "label of:[0 0 0 ... 0 0 0]\n",
      "22524\n",
      "Equated: S16\n",
      "Saved: S16\n",
      "label of:[0 0 0 ... 0 0 0]\n",
      "23680\n",
      "Equated: S17\n",
      "Saved: S17\n"
     ]
    }
   ],
   "source": [
    "import os\n",
    "import pickle\n",
    "import numpy as np\n",
    "import pandas as pd\n",
    "import numpy as np\n",
    "\n",
    "# Define the source and destination paths\n",
    "source_folder = DATASET_PATH\n",
    "destination_folder = UNPROCESSED_PATH\n",
    "target_rate = 4\n",
    "\n",
    "def create_destination_folder(destination_folder, folder):\n",
    "    # Create the destination folder if it doesn't exist\n",
    "    destination_path = os.path.join(destination_folder, folder)\n",
    "    os.makedirs(destination_path, exist_ok=True)\n",
    "    return destination_path\n",
    "\n",
    "\n",
    "# Iterate over the folders\n",
    "for folder in folders:\n",
    "    destination_path = create_destination_folder(destination_folder, folder)\n",
    "        \n",
    "    # Open the pickle file\n",
    "    source_path = os.path.join(source_folder, folder, f'{folder}.pkl')\n",
    "    if not os.path.exists(source_path):\n",
    "        print(f\"Skipping {source_path} as it does not exist.\")\n",
    "        continue\n",
    "        \n",
    "    with open(source_path, 'rb') as file:\n",
    "        data = pickle.load(file, encoding='latin1')\n",
    "        \n",
    "        print('label of:' + str(data['label']))\n",
    "\n",
    "         # Resample signals\n",
    "        w_ax=data['signal']['wrist']['ACC'][0:,0]#[stress_to_plot]\n",
    "        w_ay=data['signal']['wrist']['ACC'][0:,1]#[stress_to_plot]\n",
    "        w_az=data['signal']['wrist']['ACC'][0:,2]#[stress_to_plot]\n",
    "        w_bvp=data['signal']['wrist']['BVP'][:,0]#[stress_to_plot]\n",
    "        w_eda=data['signal']['wrist']['EDA'][:,0]#[stress_to_plot]\n",
    "        w_temp=data['signal']['wrist']['TEMP'][:,0]#[stress_to_plot]\n",
    "\n",
    "        resampled_label = resample_signal(data['label'], 700, target_rate)\n",
    "    \t\n",
    "        labels = data['label']\n",
    "        downsampled_labels = labels[::700 // 4]\n",
    "        print(len(downsampled_labels))\n",
    "\n",
    "        \n",
    "        print(f\"Equated: {folder}\")\n",
    "\n",
    "        numpy_data1 = np.array([w_eda, w_temp, downsampled_labels]).T\n",
    "\n",
    "        df = pd.DataFrame(data=numpy_data1, columns=[\"w_eda\", \"w_temp\", \"downsampled_labels\"]) \n",
    "\n",
    "        # Save the data frame\n",
    "        # Convert DataFrame to array\n",
    "        array_data = df.to_numpy()\n",
    "\n",
    "        # Save array as .npy file\n",
    "        np.save(destination_path, array_data)\n",
    "        print(f\"Saved: {folder}\")"
   ]
  },
  {
   "cell_type": "code",
   "execution_count": 9,
   "metadata": {},
   "outputs": [
    {
     "data": {
      "text/plain": [
       "4144000"
      ]
     },
     "execution_count": 9,
     "metadata": {},
     "output_type": "execute_result"
    }
   ],
   "source": [
    "len(labels)"
   ]
  },
  {
   "cell_type": "code",
   "execution_count": 10,
   "metadata": {},
   "outputs": [
    {
     "data": {
      "text/plain": [
       "array([2.015176, 2.012617, 2.001103, ..., 0.78717 , 0.784611, 0.783331])"
      ]
     },
     "execution_count": 10,
     "metadata": {},
     "output_type": "execute_result"
    }
   ],
   "source": [
    "w_eda"
   ]
  },
  {
   "cell_type": "code",
   "execution_count": 11,
   "metadata": {},
   "outputs": [
    {
     "data": {
      "text/html": [
       "<div>\n",
       "<style scoped>\n",
       "    .dataframe tbody tr th:only-of-type {\n",
       "        vertical-align: middle;\n",
       "    }\n",
       "\n",
       "    .dataframe tbody tr th {\n",
       "        vertical-align: top;\n",
       "    }\n",
       "\n",
       "    .dataframe thead th {\n",
       "        text-align: right;\n",
       "    }\n",
       "</style>\n",
       "<table border=\"1\" class=\"dataframe\">\n",
       "  <thead>\n",
       "    <tr style=\"text-align: right;\">\n",
       "      <th></th>\n",
       "      <th>w_eda</th>\n",
       "      <th>w_temp</th>\n",
       "      <th>downsampled_labels</th>\n",
       "    </tr>\n",
       "  </thead>\n",
       "  <tbody>\n",
       "    <tr>\n",
       "      <th>0</th>\n",
       "      <td>2.015176</td>\n",
       "      <td>33.39</td>\n",
       "      <td>0.0</td>\n",
       "    </tr>\n",
       "    <tr>\n",
       "      <th>1</th>\n",
       "      <td>2.012617</td>\n",
       "      <td>33.37</td>\n",
       "      <td>0.0</td>\n",
       "    </tr>\n",
       "    <tr>\n",
       "      <th>2</th>\n",
       "      <td>2.001103</td>\n",
       "      <td>33.37</td>\n",
       "      <td>0.0</td>\n",
       "    </tr>\n",
       "    <tr>\n",
       "      <th>3</th>\n",
       "      <td>2.030529</td>\n",
       "      <td>33.37</td>\n",
       "      <td>0.0</td>\n",
       "    </tr>\n",
       "    <tr>\n",
       "      <th>4</th>\n",
       "      <td>1.979353</td>\n",
       "      <td>33.37</td>\n",
       "      <td>0.0</td>\n",
       "    </tr>\n",
       "    <tr>\n",
       "      <th>...</th>\n",
       "      <td>...</td>\n",
       "      <td>...</td>\n",
       "      <td>...</td>\n",
       "    </tr>\n",
       "    <tr>\n",
       "      <th>23675</th>\n",
       "      <td>0.792287</td>\n",
       "      <td>31.81</td>\n",
       "      <td>0.0</td>\n",
       "    </tr>\n",
       "    <tr>\n",
       "      <th>23676</th>\n",
       "      <td>0.787170</td>\n",
       "      <td>31.81</td>\n",
       "      <td>0.0</td>\n",
       "    </tr>\n",
       "    <tr>\n",
       "      <th>23677</th>\n",
       "      <td>0.787170</td>\n",
       "      <td>31.81</td>\n",
       "      <td>0.0</td>\n",
       "    </tr>\n",
       "    <tr>\n",
       "      <th>23678</th>\n",
       "      <td>0.784611</td>\n",
       "      <td>31.81</td>\n",
       "      <td>0.0</td>\n",
       "    </tr>\n",
       "    <tr>\n",
       "      <th>23679</th>\n",
       "      <td>0.783331</td>\n",
       "      <td>31.81</td>\n",
       "      <td>0.0</td>\n",
       "    </tr>\n",
       "  </tbody>\n",
       "</table>\n",
       "<p>23680 rows × 3 columns</p>\n",
       "</div>"
      ],
      "text/plain": [
       "          w_eda  w_temp  downsampled_labels\n",
       "0      2.015176   33.39                 0.0\n",
       "1      2.012617   33.37                 0.0\n",
       "2      2.001103   33.37                 0.0\n",
       "3      2.030529   33.37                 0.0\n",
       "4      1.979353   33.37                 0.0\n",
       "...         ...     ...                 ...\n",
       "23675  0.792287   31.81                 0.0\n",
       "23676  0.787170   31.81                 0.0\n",
       "23677  0.787170   31.81                 0.0\n",
       "23678  0.784611   31.81                 0.0\n",
       "23679  0.783331   31.81                 0.0\n",
       "\n",
       "[23680 rows x 3 columns]"
      ]
     },
     "execution_count": 11,
     "metadata": {},
     "output_type": "execute_result"
    }
   ],
   "source": [
    "df"
   ]
  },
  {
   "cell_type": "code",
   "execution_count": 16,
   "metadata": {},
   "outputs": [
    {
     "data": {
      "image/png": "[encoded data removed]",
      "text/plain": [
       "<Figure size 640x480 with 1 Axes>"
      ]
     },
     "metadata": {},
     "output_type": "display_data"
    }
   ],
   "source": [
    "import pandas as pd\n",
    "import matplotlib.pyplot as plt\n",
    "\n",
    "# Read the CSV file\n",
    "data_path = 'C:\\Users\\goert\\Documents\\GitHub\\Convolutional-Neural-Network-on-Electrodermal-Activity-for-Stress-Assessment\\data\\unprocessed\\WESAD\\S2\\S2.csv'\n",
    "df = pd.read_csv(data_path)\n",
    "\n",
    "# Extract the columns\n",
    "w_eda = df['w_eda']\n",
    "labels = df['downsampled_labels']\n",
    "\n",
    "# Calculate the time values\n",
    "time = np.arange(len(w_eda)) / 4\n",
    "\n",
    "# Plot the data\n",
    "plt.plot(time, w_eda)\n",
    "\n",
    "# Highlight label changes\n",
    "prev_label = labels[0]\n",
    "for i in range(1, len(labels)):\n",
    "    if labels[i] != prev_label:\n",
    "        plt.axvline(x=time[i], color='red', linestyle='--')\n",
    "        prev_label = labels[i]\n",
    "\n",
    "\n",
    "plt.xlabel('Time (4Hz)')\n",
    "plt.ylabel('w_eda')\n",
    "plt.title('w_eda vs 4Hz Time')\n",
    "plt.show()\n"
   ]
  },
  {
   "cell_type": "code",
   "execution_count": 13,
   "metadata": {},
   "outputs": [],
   "source": [
    "import pandas as pd\n",
    "import pandas as pd\n",
    "# Read the first file\n",
    "file_eda = 'C:/Users/goert/Documents/GitHub/Convolutional-Neural-Network-on-Electrodermal-Activity-for-Stress-Assessment/data/unprocessed/WESAD/S2/EDA.csv'\n",
    "df_eda = pd.read_csv(file_eda)\n",
    "\n",
    "# Read the second file\n",
    "file_pkl = 'C:/Users/goert/Documents/GitHub/Convolutional-Neural-Network-on-Electrodermal-Activity-for-Stress-Assessment/data/unprocessed/WESAD/S2/S2.csv'\n",
    "\n",
    "# Merge the two dataframes\n",
    "a = [file_eda, file_pkl]\n",
    "files = [file for file in a]\n",
    "df = pd.concat(map(pd.read_csv, files), ignore_index = True)\n",
    "\n",
    "# Save the merged dataframe as a CSV file\n",
    "df.to_csv('C:/Users/goert/Documents/GitHub/Convolutional-Neural-Network-on-Electrodermal-Activity-for-Stress-Assessment/data/merged_data.csv', index=False)\n"
   ]
  }
 ],
 "metadata": {
  "kernelspec": {
   "display_name": "Python 3",
   "language": "python",
   "name": "python3"
  },
  "language_info": {
   "codemirror_mode": {
    "name": "ipython",
    "version": 3
   },
   "file_extension": ".py",
   "mimetype": "text/x-python",
   "name": "python",
   "nbconvert_exporter": "python",
   "pygments_lexer": "ipython3",
   "version": "3.12.2"
  }
 },
 "nbformat": 4,
 "nbformat_minor": 2
}
