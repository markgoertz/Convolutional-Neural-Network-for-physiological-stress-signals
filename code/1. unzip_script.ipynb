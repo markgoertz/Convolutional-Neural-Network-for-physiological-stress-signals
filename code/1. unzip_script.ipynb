{
 "cells": [
  {
   "cell_type": "code",
   "execution_count": 1,
   "metadata": {},
   "outputs": [
    {
     "name": "stderr",
     "output_type": "stream",
     "text": [
      "C:\\Users\\goert\\AppData\\Local\\Temp\\ipykernel_21180\\619488019.py:4: DeprecationWarning: \n",
      "Pyarrow will become a required dependency of pandas in the next major release of pandas (pandas 3.0),\n",
      "(to allow more performant data types, such as the Arrow string type, and better interoperability with other libraries)\n",
      "but was not found to be installed on your system.\n",
      "If this would cause problems for you,\n",
      "please provide us feedback at https://github.com/pandas-dev/pandas/issues/54466\n",
      "        \n",
      "  import pandas as pd\n"
     ]
    }
   ],
   "source": [
    "import os\n",
    "import pickle\n",
    "import shutil\n",
    "import pandas as pd\n",
    "import numpy as np"
   ]
  },
  {
   "cell_type": "code",
   "execution_count": 2,
   "metadata": {},
   "outputs": [],
   "source": [
    "MAIN_PATH = os.path.dirname(os.getcwd())\n",
    "DATA_SUBPATH = '/data'\n",
    "DATASET_PATH = MAIN_PATH + DATA_SUBPATH + '/unzip/WESAD'\n",
    "UNPROCESSED_PATH = MAIN_PATH + DATA_SUBPATH + '/unprocessed/WESAD'"
   ]
  },
  {
   "cell_type": "code",
   "execution_count": 3,
   "metadata": {},
   "outputs": [
    {
     "name": "stdout",
     "output_type": "stream",
     "text": [
      "['S2', 'S3', 'S4', 'S5', 'S6', 'S7', 'S8', 'S9', 'S10', 'S11', 'S12', 'S13', 'S14', 'S15', 'S16', 'S17']\n"
     ]
    }
   ],
   "source": [
    "minfolder = 2\n",
    "maxfolder = 18\n",
    "folders = [f'S{i}' for i in range(minfolder, maxfolder)]\n",
    "print(folders)"
   ]
  },
  {
   "cell_type": "markdown",
   "metadata": {},
   "source": [
    "This process unpacking the zip files can take up to 3 minutes. Depending on the computational power available."
   ]
  },
  {
   "cell_type": "code",
   "execution_count": 4,
   "metadata": {},
   "outputs": [],
   "source": [
    "shutil.unpack_archive(MAIN_PATH + DATA_SUBPATH + '/WESAD.zip', MAIN_PATH + DATA_SUBPATH + '/unzip')"
   ]
  },
  {
   "cell_type": "code",
   "execution_count": 5,
   "metadata": {},
   "outputs": [
    {
     "name": "stdout",
     "output_type": "stream",
     "text": [
      "['d:\\\\Master of Applied IT/data/unzip/WESAD/S2/S2_E4_Data.zip', 'd:\\\\Master of Applied IT/data/unzip/WESAD/S3/S3_E4_Data.zip', 'd:\\\\Master of Applied IT/data/unzip/WESAD/S4/S4_E4_Data.zip', 'd:\\\\Master of Applied IT/data/unzip/WESAD/S5/S5_E4_Data.zip', 'd:\\\\Master of Applied IT/data/unzip/WESAD/S6/S6_E4_Data.zip', 'd:\\\\Master of Applied IT/data/unzip/WESAD/S7/S7_E4_Data.zip', 'd:\\\\Master of Applied IT/data/unzip/WESAD/S8/S8_E4_Data.zip', 'd:\\\\Master of Applied IT/data/unzip/WESAD/S9/S9_E4_Data.zip', 'd:\\\\Master of Applied IT/data/unzip/WESAD/S10/S10_E4_Data.zip', 'd:\\\\Master of Applied IT/data/unzip/WESAD/S11/S11_E4_Data.zip', 'd:\\\\Master of Applied IT/data/unzip/WESAD/S12/S12_E4_Data.zip', 'd:\\\\Master of Applied IT/data/unzip/WESAD/S13/S13_E4_Data.zip', 'd:\\\\Master of Applied IT/data/unzip/WESAD/S14/S14_E4_Data.zip', 'd:\\\\Master of Applied IT/data/unzip/WESAD/S15/S15_E4_Data.zip', 'd:\\\\Master of Applied IT/data/unzip/WESAD/S16/S16_E4_Data.zip', 'd:\\\\Master of Applied IT/data/unzip/WESAD/S17/S17_E4_Data.zip']\n"
     ]
    }
   ],
   "source": [
    "data_folders = []\n",
    "for subfolder in folders:\n",
    "    data_folders.append(f\"{MAIN_PATH}{DATA_SUBPATH}/unzip/WESAD/{subfolder}/{subfolder}_E4_Data.zip\")\n",
    "print(data_folders)"
   ]
  },
  {
   "cell_type": "code",
   "execution_count": 6,
   "metadata": {},
   "outputs": [
    {
     "name": "stdout",
     "output_type": "stream",
     "text": [
      "Preparing folder: S2\n",
      "Preparing folder: S3\n",
      "Preparing folder: S4\n",
      "Preparing folder: S5\n",
      "Preparing folder: S6\n",
      "Preparing folder: S7\n",
      "Preparing folder: S8\n",
      "Preparing folder: S9\n",
      "Preparing folder: S10\n",
      "Preparing folder: S11\n",
      "Skipping d:\\Master of Applied IT/data/unzip/WESAD/S12/S12_E4_Data.zip as it is not a zip file or missing.\n",
      "Preparing folder: S13\n",
      "Preparing folder: S14\n",
      "Preparing folder: S15\n",
      "Preparing folder: S16\n",
      "Preparing folder: S17\n",
      "Finished unzipping and preparing files.\n"
     ]
    }
   ],
   "source": [
    "for folder, data_folder in zip(folders, data_folders):\n",
    "    try:\n",
    "        shutil.unpack_archive(data_folder, os.path.join(UNPROCESSED_PATH, f'{folder}'))\n",
    "        print(\"Preparing folder:\", folder)\n",
    "    except shutil.ReadError:\n",
    "        print(f\"Skipping {data_folder} as it is not a zip file or missing.\")\n",
    "\n",
    "print(\"Finished unzipping and preparing files.\")"
   ]
  },
  {
   "cell_type": "code",
   "execution_count": 7,
   "metadata": {},
   "outputs": [],
   "source": [
    "from scipy.signal import resample\n",
    "\n",
    "def resample_signal(signal, source_rate, target_rate):\n",
    "    # Calculate resampling ratio\n",
    "    resampling_ratio = target_rate / source_rate\n",
    "    \n",
    "    # Calculate new length\n",
    "    new_length = int(len(signal) * resampling_ratio)\n",
    "    \n",
    "    # Resample signal\n",
    "    resampled_signal = resample(signal, new_length)\n",
    "\n",
    "    return resampled_signal"
   ]
  },
  {
   "cell_type": "code",
   "execution_count": 10,
   "metadata": {},
   "outputs": [
    {
     "name": "stdout",
     "output_type": "stream",
     "text": [
      "Equated\n",
      "4255300\n",
      "4255300\n",
      "194528\n",
      "24316\n",
      "Equated: S2\n",
      "Equated\n",
      "4545100\n",
      "4545100\n",
      "207776\n",
      "25972\n",
      "Equated: S3\n",
      "Equated\n",
      "4496100\n",
      "4496100\n",
      "205536\n",
      "25692\n",
      "Equated: S4\n",
      "Equated\n",
      "4380600\n",
      "4380600\n",
      "200256\n",
      "25032\n",
      "Equated: S5\n",
      "Equated\n",
      "4949700\n",
      "4949700\n",
      "226272\n",
      "28284\n",
      "Equated: S6\n",
      "Equated\n",
      "3666600\n",
      "3666600\n",
      "167616\n",
      "20952\n",
      "Equated: S7\n",
      "Equated\n",
      "3826200\n",
      "3826200\n",
      "174912\n",
      "21864\n",
      "Equated: S8\n",
      "Equated\n",
      "3656100\n",
      "3656100\n",
      "167136\n",
      "20892\n",
      "Equated: S9\n",
      "Equated\n",
      "3847200\n",
      "3847200\n",
      "175872\n",
      "21984\n",
      "Equated: S10\n",
      "Equated\n",
      "3663100\n",
      "3663100\n",
      "167456\n",
      "20932\n",
      "Equated: S11\n",
      "Skipping d:\\Master of Applied IT/data/unzip/WESAD\\S12\\S12.pkl as it does not exist.\n",
      "Equated\n",
      "3875900\n",
      "3875900\n",
      "177184\n",
      "22148\n",
      "Equated: S13\n",
      "Equated\n",
      "3883600\n",
      "3883600\n",
      "177536\n",
      "22192\n",
      "Equated: S14\n",
      "Equated\n",
      "3676400\n",
      "3676400\n",
      "168064\n",
      "21008\n",
      "Equated: S15\n",
      "Equated\n",
      "3941700\n",
      "3941700\n",
      "180192\n",
      "22524\n",
      "Equated: S16\n",
      "Equated\n",
      "4144000\n",
      "4144000\n",
      "189440\n",
      "23680\n",
      "Equated: S17\n"
     ]
    }
   ],
   "source": [
    "import os\n",
    "import pickle\n",
    "import numpy as np\n",
    "import pandas as pd\n",
    "import scipy.signal\n",
    "\n",
    "# Define the source and destination paths\n",
    "source_folder = DATASET_PATH\n",
    "destination_folder = UNPROCESSED_PATH\n",
    "target_rate = 4\n",
    "\n",
    "def create_destination_folder(destination_folder, folder):\n",
    "    # Create the destination folder if it doesn't exist\n",
    "    destination_path = os.path.join(destination_folder, folder)\n",
    "    os.makedirs(destination_path, exist_ok=True)\n",
    "    return destination_path\n",
    "\n",
    "\n",
    "# Iterate over the folders\n",
    "for folder in folders:\n",
    "    destination_path = create_destination_folder(destination_folder, folder)\n",
    "        \n",
    "    # Open the pickle file\n",
    "    source_path = os.path.join(source_folder, folder, f'{folder}.pkl')\n",
    "    if not os.path.exists(source_path):\n",
    "        print(f\"Skipping {source_path} as it does not exist.\")\n",
    "        continue\n",
    "        \n",
    "    with open(source_path, 'rb') as file:\n",
    "        data = pickle.load(file, encoding='latin1')\n",
    "        \n",
    "         # Resample signals\n",
    "        c_ax_resampled = scipy.signal.resample(data['signal']['chest']['ACC'][0:, 0],\n",
    "                                               int(len(data['signal']['chest']['ACC']) * target_rate / 700))\n",
    "        c_ay=scipy.signal.resample(data['signal']['chest']['ACC'][0:,1],\n",
    "                                               int(len(data['signal']['chest']['ACC']) * target_rate / 700))\n",
    "        c_az=scipy.signal.resample(data['signal']['chest']['ACC'][0:,2],\n",
    "                                               int(len(data['signal']['chest']['ACC']) * target_rate / 700))\n",
    "        c_ecg=data['signal']['chest']['ECG'][:,0]#[baseline_to_plot]\n",
    "        c_emg=data['signal']['chest']['EMG'][:,0]#[baseline_to_plot]\n",
    "        c_eda=data['signal']['chest']['EDA'][:,0]#[baseline_to_plot]\n",
    "        c_temp=data['signal']['chest']['Temp'][:,0]#[baseline_to_plot]\n",
    "        c_resp=data['signal']['chest']['Resp'][:,0]#[baseline_to_plot]\n",
    "        w_ax=data['signal']['wrist']['ACC'][0:,0]#[stress_to_plot]\n",
    "        w_ay=data['signal']['wrist']['ACC'][0:,1]#[stress_to_plot]\n",
    "        w_az=data['signal']['wrist']['ACC'][0:,2]#[stress_to_plot]\n",
    "        w_bvp=data['signal']['wrist']['BVP'][:,0]#[stress_to_plot]\n",
    "        w_eda=data['signal']['wrist']['EDA'][:,0]#[stress_to_plot]\n",
    "        w_temp=data['signal']['wrist']['TEMP'][:,0]#[stress_to_plot]\n",
    "        w_label=scipy.signal.resample(data['label'],\n",
    "                                      int(len(data['label'] * target_rate / 700)))\n",
    "\n",
    "        print(\"Equated\")\n",
    "\n",
    "        print(len(w_label))\n",
    "        print(len(c_eda))\n",
    "        print(len(w_ax))\n",
    "        print(len(w_eda))\n",
    "            \n",
    "        print(f\"Equated: {folder}\")\n"
   ]
  }
 ],
 "metadata": {
  "kernelspec": {
   "display_name": "Python 3",
   "language": "python",
   "name": "python3"
  },
  "language_info": {
   "codemirror_mode": {
    "name": "ipython",
    "version": 3
   },
   "file_extension": ".py",
   "mimetype": "text/x-python",
   "name": "python",
   "nbconvert_exporter": "python",
   "pygments_lexer": "ipython3",
   "version": "3.12.1"
  }
 },
 "nbformat": 4,
 "nbformat_minor": 2
}
