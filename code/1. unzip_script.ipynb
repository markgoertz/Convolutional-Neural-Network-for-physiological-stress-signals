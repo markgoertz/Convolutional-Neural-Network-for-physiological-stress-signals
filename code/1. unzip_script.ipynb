{
 "cells": [
  {
   "cell_type": "code",
   "execution_count": 3,
   "metadata": {},
   "outputs": [],
   "source": [
    "import os\n",
    "import shutil"
   ]
  },
  {
   "cell_type": "code",
   "execution_count": 5,
   "metadata": {},
   "outputs": [],
   "source": [
    "MAIN_PATH = 'D:/Master of Applied IT' \n",
    "DATA_SUBPATH = '/data'\n",
    "DATASET_PATH = MAIN_PATH + DATA_SUBPATH + '/unzip/WESAD'\n",
    "UNPROCESSED_PATH = MAIN_PATH + DATA_SUBPATH + '/unprocessed/WESAD'"
   ]
  },
  {
   "cell_type": "code",
   "execution_count": 2,
   "metadata": {},
   "outputs": [
    {
     "name": "stdout",
     "output_type": "stream",
     "text": [
      "['S2', 'S3', 'S4', 'S5', 'S6', 'S7', 'S8', 'S9', 'S10', 'S11', 'S12', 'S13', 'S14', 'S15', 'S16', 'S17']\n"
     ]
    }
   ],
   "source": [
    "minfolder = 2\n",
    "maxfolder = 18\n",
    "folders = [f'S{i}' for i in range(minfolder, maxfolder)]\n",
    "print(folders)"
   ]
  },
  {
   "cell_type": "markdown",
   "metadata": {},
   "source": [
    "This process unpacking the zip files can take up to 3 minutes. Depending on the computational power available."
   ]
  },
  {
   "cell_type": "code",
   "execution_count": 4,
   "metadata": {},
   "outputs": [],
   "source": [
    "shutil.unpack_archive(MAIN_PATH + DATA_SUBPATH + '/WESAD.zip', MAIN_PATH + DATA_SUBPATH + '/unzip')"
   ]
  },
  {
   "cell_type": "code",
   "execution_count": 5,
   "metadata": {},
   "outputs": [
    {
     "name": "stdout",
     "output_type": "stream",
     "text": [
      "['D:/Master of Applied IT/data/unzip/WESAD/S2/S2_E4_Data.zip', 'D:/Master of Applied IT/data/unzip/WESAD/S3/S3_E4_Data.zip', 'D:/Master of Applied IT/data/unzip/WESAD/S4/S4_E4_Data.zip', 'D:/Master of Applied IT/data/unzip/WESAD/S5/S5_E4_Data.zip', 'D:/Master of Applied IT/data/unzip/WESAD/S6/S6_E4_Data.zip', 'D:/Master of Applied IT/data/unzip/WESAD/S7/S7_E4_Data.zip', 'D:/Master of Applied IT/data/unzip/WESAD/S8/S8_E4_Data.zip', 'D:/Master of Applied IT/data/unzip/WESAD/S9/S9_E4_Data.zip', 'D:/Master of Applied IT/data/unzip/WESAD/S10/S10_E4_Data.zip', 'D:/Master of Applied IT/data/unzip/WESAD/S11/S11_E4_Data.zip', 'D:/Master of Applied IT/data/unzip/WESAD/S12/S12_E4_Data.zip', 'D:/Master of Applied IT/data/unzip/WESAD/S13/S13_E4_Data.zip', 'D:/Master of Applied IT/data/unzip/WESAD/S14/S14_E4_Data.zip', 'D:/Master of Applied IT/data/unzip/WESAD/S15/S15_E4_Data.zip', 'D:/Master of Applied IT/data/unzip/WESAD/S16/S16_E4_Data.zip', 'D:/Master of Applied IT/data/unzip/WESAD/S17/S17_E4_Data.zip']\n"
     ]
    }
   ],
   "source": [
    "data_folders = []\n",
    "for subfolder in folders:\n",
    "    data_folders.append(f\"{MAIN_PATH}{DATA_SUBPATH}/unzip/WESAD/{subfolder}/{subfolder}_E4_Data.zip\")\n",
    "\n",
    "print(data_folders)"
   ]
  },
  {
   "cell_type": "code",
   "execution_count": 28,
   "metadata": {},
   "outputs": [
    {
     "name": "stdout",
     "output_type": "stream",
     "text": [
      "Preparing folder: S2\n",
      "Preparing folder: S3\n",
      "Preparing folder: S4\n",
      "Preparing folder: S5\n",
      "Preparing folder: S6\n",
      "Preparing folder: S7\n",
      "Preparing folder: S8\n",
      "Preparing folder: S9\n",
      "Preparing folder: S10\n",
      "Preparing folder: S11\n",
      "Skipping D:/Master of Applied IT/data/unzip/WESAD/S12/S12_E4_Data.zip as it is not a zip file or missing.\n",
      "Preparing folder: S13\n",
      "Preparing folder: S14\n",
      "Preparing folder: S15\n",
      "Preparing folder: S16\n",
      "Preparing folder: S17\n",
      "Finished unzipping and preparing files.\n"
     ]
    }
   ],
   "source": [
    "for folder, data_folder in zip(folders, data_folders):\n",
    "    try:\n",
    "        shutil.unpack_archive(data_folder, os.path.join(UNPROCESSED_PATH, f'{folder}'))\n",
    "        print(\"Preparing folder:\", folder)\n",
    "    except shutil.ReadError:\n",
    "        print(f\"Skipping {data_folder} as it is not a zip file or missing.\")\n",
    "\n",
    "print(\"Finished unzipping and preparing files.\")"
   ]
  }
 ],
 "metadata": {
  "kernelspec": {
   "display_name": "Python 3",
   "language": "python",
   "name": "python3"
  },
  "language_info": {
   "codemirror_mode": {
    "name": "ipython",
    "version": 3
   },
   "file_extension": ".py",
   "mimetype": "text/x-python",
   "name": "python",
   "nbconvert_exporter": "python",
   "pygments_lexer": "ipython3",
   "version": "3.12.1"
  }
 },
 "nbformat": 4,
 "nbformat_minor": 2
}
